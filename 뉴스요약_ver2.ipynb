{
 "cells": [
  {
   "cell_type": "markdown",
   "metadata": {},
   "source": [
    "# CLOVA Studio - Explorer - 요약\n",
    "2024.07.17  \n",
    "- \"segMinSize\": 300,  \n",
    "  \"includeAiFilters\": True,  \n",
    "  \"autoSentenceSplitter\": True,  \n",
    "  \"segCount\": -1,  \n",
    "  \"segMaxSize\": 1000  "
   ]
  },
  {
   "cell_type": "code",
   "execution_count": 12,
   "metadata": {},
   "outputs": [],
   "source": [
    "## 패키지 설치\n",
    "import pandas as pd\n",
    "import json\n",
    "import http.client"
   ]
  },
  {
   "cell_type": "code",
   "execution_count": 13,
   "metadata": {},
   "outputs": [],
   "source": [
    "## API\n",
    "class CompletionExecutor:\n",
    "    def __init__(self, host, api_key, api_key_primary_val, request_id):\n",
    "        self._host = host\n",
    "        self._api_key = api_key\n",
    "        self._api_key_primary_val = api_key_primary_val\n",
    "        self._request_id = request_id\n",
    "\n",
    "    def _send_request(self, completion_request):\n",
    "        headers = {\n",
    "            'Content-Type': 'application/json; charset=utf-8',\n",
    "            'X-NCP-CLOVASTUDIO-API-KEY': self._api_key,\n",
    "            'X-NCP-APIGW-API-KEY': self._api_key_primary_val,\n",
    "            'X-NCP-CLOVASTUDIO-REQUEST-ID': self._request_id\n",
    "        }\n",
    "\n",
    "        conn = http.client.HTTPSConnection(self._host)\n",
    "        conn.request('POST', '/testapp/v1/api-tools/summarization/v2/f54b9441d4cd4cacbcc2a5c914723810', json.dumps(completion_request), headers)\n",
    "        response = conn.getresponse()\n",
    "        result = json.loads(response.read().decode(encoding='utf-8'))\n",
    "        conn.close()\n",
    "        return result\n",
    "\n",
    "    def execute(self, completion_request):\n",
    "        res = self._send_request(completion_request)\n",
    "        if res['status']['code'] == '20000':\n",
    "            return res['result']['text']\n",
    "        else:\n",
    "            return 'Error'"
   ]
  },
  {
   "cell_type": "code",
   "execution_count": 42,
   "metadata": {},
   "outputs": [
    {
     "name": "stdout",
     "output_type": "stream",
     "text": [
      "테슬라 주가를 두고 엇갈린 전망이 나오고 있음. 테슬라 주가 강세의 배경으로.\n"
     ]
    }
   ],
   "source": [
    "## 문장 사이의 기호 처리\n",
    "import re\n",
    "\n",
    "def clean_summary(summary):\n",
    "    # 문장 사이의 특수 문자 제거 및 정리\n",
    "    summary = re.sub(r'\\n\\s*', '. ', summary)  # \\n 뒤에 있는 공백들을 포함하여 . 으로 바꿈\n",
    "\n",
    "    # 문장 사이의 특수 문자 제거 및 정리\n",
    "    summary = re.sub(r'(?<!\\w)\\s*-\\s*', '', summary)  # 문장 앞뒤의 기호 제거\n",
    "    summary = re.sub(r'\\s+', ' ', summary)  # 여러 개의 공백을 하나의 공백으로 대체\n",
    "\n",
    "    # 문장 시작 전에 띄어쓰기 한 칸 추가\n",
    "    summary = re.sub(r'(?<=\\.|\\?|!)\\s*', ' ', summary)  # 문장 부호 뒤의 공백을 띄어쓰기로 바꿈\n",
    "\n",
    "    summary = summary.strip()  # 양쪽 끝의 공백 제거\n",
    "\n",
    "    # 문장 끝에 마침표가 없는 경우 추가\n",
    "    if not re.search(r'[.!?]$', summary):\n",
    "        summary += '.'\n",
    "\n",
    "    return summary\n",
    "\n",
    "# 테스트\n",
    "test_summary = \"테슬라 주가를 두고 엇갈린 전망이 나오고 있음\\n- 테슬라 주가 강세의 배경으로\"\n",
    "print(clean_summary(test_summary))"
   ]
  },
  {
   "cell_type": "code",
   "execution_count": 43,
   "metadata": {},
   "outputs": [],
   "source": [
    "## 뉴스요약 함수\n",
    "def summarize_news_articles(csv_path):\n",
    "    # CSV 파일 불러오기\n",
    "    df = pd.read_csv(csv_path, encoding='utf-8')\n",
    "\n",
    "    # API 연결 설정\n",
    "    completion_executor = CompletionExecutor(\n",
    "        host='clovastudio.apigw.ntruss.com',\n",
    "        api_key='NTA0MjU2MWZlZTcxNDJiY1XHHT1CG2IEYUDfBzRBda5ARQgcLFxGk4gffzMOUc02',\n",
    "        api_key_primary_val = 'U8NCSe3jtrv3qZxOJxVat54fOq3ztFr34Y5Dgd3q',\n",
    "        request_id='33edbf3b-7513-4c10-908f-f3b9132b9f63'\n",
    "    )\n",
    "\n",
    "    # 뉴스 기사 요약 리스트\n",
    "    summaries = []\n",
    "\n",
    "    for index, row in df.iterrows():\n",
    "        # API 요청 데이터 구성\n",
    "        request_data = {\n",
    "            \"texts\": [row['news_contents']],\n",
    "            \"segMinSize\": 300,\n",
    "            \"includeAiFilters\": True,\n",
    "            \"autoSentenceSplitter\": True,\n",
    "            \"segCount\": -1,\n",
    "            \"segMaxSize\": 1000\n",
    "        }\n",
    "\n",
    "        # API 호출 및 결과 저장\n",
    "        summary = completion_executor.execute(request_data)\n",
    "        cleaned_summary = clean_summary(summary)\n",
    "        summaries.append(cleaned_summary)\n",
    "\n",
    "    # 요약 결과를 데이터프레임에 추가\n",
    "    df['summary'] = summaries\n",
    "\n",
    "    return df"
   ]
  },
  {
   "cell_type": "code",
   "execution_count": 44,
   "metadata": {},
   "outputs": [
    {
     "name": "stdout",
     "output_type": "stream",
     "text": [
      "                                       news_title  \\\n",
      "0     “밈 주식 경계”vs“더 오른다”…‘서학개미 원픽’ 테슬라, 엇갈린 주가 전망   \n",
      "1              \"어라? 주가가 왜 이래\"…'홈슬라' 기대하던 개미들 '멘붕'   \n",
      "2             하나만 알고 둘은 모른다더니…금투세의 비밀 [정경준의 주식어때]   \n",
      "3   \"전세계 돈 몰린다, 이 주식 담아라\"…전문가들 '깜짝 전망' [신민경의 테마록]   \n",
      "4          '무료 환전 시대' 환테크로 돈 벌어볼까…환테크 넘어 환투기 조짐까지   \n",
      "..                                            ...   \n",
      "60        \"석유 싣던 탱크로리에 식용유 운송\" 중국서 경악한 사건, 주가도 폭삭   \n",
      "61           한달 남짓한 MSCI 지수 변경일…편입·편출설 나오는 종목은 어디   \n",
      "62     수익은 기본, 따박따박 돈 쌓이는 재미도…좋은 배당주 4가지 기준 [부꾸미]   \n",
      "63                  기술주 투매 뉴욕증시, 은행 실적 주목하며 반등 출발   \n",
      "64    [주간사모펀드] 한앤코, 4.7조 투자 펀드 조성…M&amp;A 주도권 다질까   \n",
      "\n",
      "                                              summary  \n",
      "0   테슬라 주가를 두고 엇갈린 전망이 나오고 있음. 테슬라 주가 강세의 배경으로는 월가...  \n",
      "1   해상운임의 피크아웃(정점 통과) 우려 때문에 HMM 주가가 하락하고 있음. 해상 운...  \n",
      "2   우리 주식시장이 저평가 받고 있는 이유는 원천적으로 우리 주식시장으로는 돈이 들어올...  \n",
      "3   증권가에서 미국 빅테크주에 대한 전망이 긍정적임. 국내 빅테크주에 대해선 비관론이 ...  \n",
      "4   엔화가 850원대까지 떨어지는 슈퍼 엔저 현상이 이어지며 환차익을 노리는 환테크 열...  \n",
      "..                                                ...  \n",
      "60  중국은 가깝고도 먼 나라임. 중국에서 챙겨봐야 할 기업과 이슈를 머니투데이의 '자오...  \n",
      "61  8월 MSCI 한국지수 편출입 예상 종목을 두고 투자자들의 관심이 커지고 있음. 증...  \n",
      "62  정부의 밸류업 프로그램 발표 이후 배당주 투자에 대한 관심이 커짐. 배당 투자는 배...  \n",
      "63  뉴욕 증시가 대형 기술주 투매 폭풍 후 주요 은행주 실적 발표에 주목하며 반등세로 ...  \n",
      "64  한앤코가 4호 블라인드 펀드 조성에 성공함. 이를 바탕으로 적극적인 투자 집행에 나...  \n",
      "\n",
      "[65 rows x 2 columns]\n"
     ]
    }
   ],
   "source": [
    "## 데이터 입력 - 출력\n",
    "if __name__ == '__main__':\n",
    "    # CSV 파일 경로\n",
    "    csv_path = \"C:/Users/myhyu/OneDrive/Desktop/2024 미래에셋/NewsData/뉴스데이터_0716.csv\"\n",
    "    \n",
    "    # 뉴스 기사 요약 실행\n",
    "    summarized_df = summarize_news_articles(csv_path)\n",
    "    \n",
    "    # 요약된 데이터프레임 출력\n",
    "    print(summarized_df[['news_title', 'summary']])\n",
    "    "
   ]
  },
  {
   "cell_type": "code",
   "execution_count": 59,
   "metadata": {},
   "outputs": [],
   "source": [
    "# csv로 저장\n",
    "import os\n",
    "os.chdir('C:/Users/myhyu/OneDrive/Desktop/2024 미래에셋/NewsData/')\n",
    "summarized_df.to_csv('뉴스요약_ver2.csv', index=False)"
   ]
  },
  {
   "cell_type": "markdown",
   "metadata": {},
   "source": [
    "## 예시"
   ]
  },
  {
   "cell_type": "code",
   "execution_count": 50,
   "metadata": {},
   "outputs": [
    {
     "data": {
      "text/plain": [
       "'[\\n\"운임 급등에 \\'흠슬라\\' 재현되나 했더니\"…목표가 하향 웬일? 하나증권 \"지속불가능한 운임 강세…해운동맹 재편도 부담\"삼성증권 \"해운 성수기 앞두고 항만 적체 조짐\"\\n\\n\\n\\nHMM 컨테이너선/ 한경DB국내 최대 컨테이너 선사인 HMM(옛 현대상선) 주가가 속절없이 하락하고 있다. 주가는 지난달 중순 이후 해상운임 급등에 힘입어 ‘흠슬라’(HMM+테슬라) 재현 기대와 함께 가파르게 상승했으나 이달 들어 돌연 꺾였다. 해상운임의 피크아웃(정점 통과) 우려 때문이다.주가 향배에 대한 증권가의 의견은 엇갈린다. 양대 운하 차질이 항만 적체 현상으로 이어지면서 운임 고공행진이 지속될 것이란 낙관론과 해상 운송서비스 공급 증가로 결국 해운업황이 꺾일 것이란 비관론이 동시에 나오고 있다. “홍해 사태 빼면 초과 공급…해운동맹 재편 따른 경쟁 격화 가능성도”한국거래소에 따르면 HMM은 이달 들어 지난 12일까지 12.07% 하락한 1만7560원에 거래를 마쳤다. 지난 2일 1만9970원으로 고점을 찍은 뒤 하루를 제외한 전 거래일 약세를 보였다.HMM 주가를 꺾은 건 해상운임의 상승 둔화에 따른 피크아웃 우려다. 해상 컨테이너 운임 지표인 상하이컨테이너운임지수(SCFI)는 지난 3월29일 이후 13주 연속 오름세를 유지하며 118.02% 상승했다. 다만 지난 5일 기준 해당 주간 상승폭은 전주 대비 0.52%에 그쳐 상승세가 둔화, 피크아웃 우려가 제기됐다.그동안은 이스라엘과 팔레스타인 무장정파 하마스 사이의 전쟁이 운임을 밀어 올렸다. 하마스를 지지하는 예멘의 후티반군이 홍해를 지나는 선박을 공격해 사실상 수에즈운하가 봉쇄되면서다. 수에즈운하를 통과하지 못하면 아시아와 유럽을 오가는 선박은 아프리카 대륙을 빙 돌아야 한다. 운항일정이 2주가량 더 걸린다. 한번 서비스하는 데 소요되는 시간이 늘어난 데 따라 운송서비스 공급량은 줄어든다. 공급 감소는 가격 상승으로 이어졌다.그러나 최근 이스라엘-팔레스타인 전쟁의 휴전 협상이 급물살을 타면서 운임 피크아웃 우려를 키웠다.하나증권은 중동지역 군사적 긴장 해소 이후 해운업황이 꺾일 것으로 전망하며 HMM의 목표주가를 1만8000원에서 1만6000원으로 하향했다. 투자의견은 ‘중립’을 유지했다. 목표주가가 현재 주가(12일 종가 1만7560원)보다 낮은, 사실상 ‘매도’ 의견을 제시한 것으로 풀이된다.안도현 하나증권 연구원은 “홍해 사태(수에즈운하 봉쇄)를 제외한다면 2023~2025년 평균 선복량 증가율은 7%로, 선복량 증가율이 물동량 증가율을 초과하는 시기에 진입했다는 점이 근원적 우려”라며 “현재 물동량 증가는 일정 부분 (유통업체들의) 안전 재고 축적 수요에 따른 것이기에, 미래의 수요를 앞당겨 쓰고 있을 가능성이 높다”고 분석했다.HMM이 소속된 해운동맹 디얼라이언스의 영업력이 쪼그라들 전망인 점도 불안 요인이다. 디얼라이언스 소속 해운사 중 가장 규모가 큰 독일의 하팍로이드가 내년 2월 디얼라이언스를 떠나 스위스 머스크와 협력하기로 하면서다. 안 연구원은 “디얼라이언스의 선복량은 하팍로이드의 이탈로 40% 가량 감소할 예정”이라며 “세계 1위 컨테이너선사인 MSC가 단독영업을 개시해 운임 경쟁을 촉발할 가능성도 있다”고 판단했다. “중동 전쟁 끝나도 환경 규제로 운임 강세 이어질 것”다만 해상운임이 쉽게 꺾이지 않을 것이란 관측도 있다. 오랜 기간동안 수에즈운하를 이용하던 패턴이 바뀌면서 일부 항만에서는 컨테이너를 싣고 내리는 선박이 밀리는 ‘적체 현상’이 발생할 조짐이 나타나고 있기 때문이다.김영호 삼성증권 연구원은 지난달 내놓은 리포트를 통해 “지중해 노선 항구에 적체된 컨테이너 수가 석달 연속 증가세”라며 “(여름철) 전통적인 (해운) 성수기 진입을 감안하면 하반기에도 해상 운임 강세가 이어질 것”이라고 전망했다. 운하 차질과 환경 규제 강화에 따른 단기·중기 운임 강세 전망에 따라 삼성증권은 HMM에 대해 2만5000원의 목표주가와 ‘매수’ 투자의견을 새롭게 제시했다. 지난해 9월27일 이후 중단했던 HMM에 대한 분석을 재개한 것.항만 적체 현상은 코로나 팬데믹 시기에 해상운임을 치솟게 만든 배경인 동시에 HMM 주가를 띄운 동력이었다.감염병 확산으로 사람의 이동이 막히면서 항만 근로자가 부족해져 항구로 들어온 컨테이너를 제때 처리하지 못했기 때문. 한 곳의 항구에서 발생한 적체 현상은 다음 항구로 연쇄적으로 이어졌고, 선박 운항이 늦어지면서 운송서비스 공급량이 더 줄어드는 악순환이 반복됐다. 그 결과, 팬데믹 초기 SCFI는 기준선인 1000선에 못 미쳤지만, 항만적체 현상으로 가파르게 상승해 2022년 1월에는 5000선을 넘어섰다.HMM 주가 역시 운임과 함께 고공행진했다. 운임이 급등한 초입인 2021년 5월27일 HMM 주가는 5만600원으로 고점을 찍었다. 팬데믹발(發) 증시 폭락으로 형성된 2020년 3월23일의 저점(2190원)과 비교하면 14개월만에 20배 넘게 치솟은 것이다. 당시 글로벌 주식시장에서 성공한 주목받는 성장주인 테슬라와 HMM(흠)을 합친 ‘흠슬라’라는 신조어가 나오기도 했다.김 연구원은 항만 적체가 풀리더라도 해운업황이 크게 꺾이지는 않을 것이라고 전망한다. 그는 “국제해사기구(IMO)와 유럽연합(EU)의 온실가스 배출 규제 강화 기조가 구조적인 공급 조정을 일으켜 중기적 관점에서도 업황 호조가 이어질 것”이라고 말했다.\\n]'"
      ]
     },
     "execution_count": 50,
     "metadata": {},
     "output_type": "execute_result"
    }
   ],
   "source": [
    "df['news_contents'][1]"
   ]
  },
  {
   "cell_type": "markdown",
   "metadata": {},
   "source": [
    "비슷한 문장이 두 개인걸로 봐서... 약간 성능이 별로인듯  \n",
    "여기서 튜닝해나가면 될 거 같음"
   ]
  },
  {
   "cell_type": "code",
   "execution_count": 47,
   "metadata": {},
   "outputs": [
    {
     "data": {
      "text/plain": [
       "'해상운임의 피크아웃(정점 통과) 우려 때문에 HMM 주가가 하락하고 있음. 해상 운송서비스 공급 증가로 결국 해운업황이 꺾일 것이란 비관론이 동시에 나오고 있음. 해상운임의 상승 둔화에 따른 피크아웃 우려로 HMM의 주가가 하락함. 해상운임의 상승 둔화에 따른 피크아웃 우려와 해운동맹 재편에 따른 경쟁 격화 가능성도 있음. 2023~2025년 평균 선복량 증가율이 물동량 증가율을 초과하는 시기에 진입했다는 점이 근원적 우려임. 디얼라이언스 소속 해운사 중 가장 규모가 큰 독일의 하팍로이드가 내년 2월 디얼라이언스를 떠나 스위스 머스크와 협력하기로 하면서 디얼라이언스의 영업력이 쪼그라들 전망임. 중동 전쟁이 끝나도 환경 규제로 운임 강세가 이어질 것임. 해상 운임이 쉽게 꺾이지 않을 것이란 관측도 있음.'"
      ]
     },
     "execution_count": 47,
     "metadata": {},
     "output_type": "execute_result"
    }
   ],
   "source": [
    "summarized_df['summary'][1]"
   ]
  },
  {
   "cell_type": "code",
   "execution_count": 53,
   "metadata": {},
   "outputs": [
    {
     "data": {
      "text/plain": [
       "\"증권가에서 미국 빅테크주에 대한 전망이 긍정적임. 국내 빅테크주에 대해선 비관론이 우세함. 미국 빅테크주와 국내 빅테크주 사이에서 개인 투자자들이 갈피를 못 잡고 있음. 국내 빅테크주보다는 '매그니피센트 7'에 베팅하는 분위기임. AI 시장은 '승자독식'이 강하게 작용하는 영역이어서 미국 빅테크 대비 국내 양대 빅테크의 경쟁력은 현저히 떨어진다고 봄. 미국에선 AI 붐이 일자 빅테크가 집중 조명을 받았지만 국내에선 빅테크가 아닌 반도체 종목들이 AI 수혜주로 꼽힘. 정책적 특수로 인해 밸류업(기업가치 제고) 관련주들로도 수급이 분산됨. 미국 전체 시가총액의 약 30%를 차지하는 '매그니피센트 7' 종목들은 미국 경제와 산업에 미치는 영향이 계속해서 커지고 있음.\""
      ]
     },
     "execution_count": 53,
     "metadata": {},
     "output_type": "execute_result"
    }
   ],
   "source": [
    "summarized_df['summary'][3]"
   ]
  }
 ],
 "metadata": {
  "kernelspec": {
   "display_name": "Python 3 (ipykernel)",
   "language": "python",
   "name": "python3"
  },
  "language_info": {
   "codemirror_mode": {
    "name": "ipython",
    "version": 3
   },
   "file_extension": ".py",
   "mimetype": "text/x-python",
   "name": "python",
   "nbconvert_exporter": "python",
   "pygments_lexer": "ipython3",
   "version": "3.10.13"
  }
 },
 "nbformat": 4,
 "nbformat_minor": 2
}
