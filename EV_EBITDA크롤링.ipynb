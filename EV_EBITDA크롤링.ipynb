{
 "cells": [
  {
   "cell_type": "code",
   "execution_count": 2,
   "id": "fff21776",
   "metadata": {},
   "outputs": [],
   "source": [
    "import os\n",
    "os.chdir('C:/Users/myhyu/OneDrive/Desktop/2024 미래에셋/InvestmentPropensity')"
   ]
  },
  {
   "cell_type": "code",
   "execution_count": 3,
   "id": "65e89b7d",
   "metadata": {},
   "outputs": [],
   "source": [
    "# 라이브러리 \n",
    "import requests\n",
    "import pandas as pd\n",
    "import io\n",
    "import time\n",
    "import requests\n",
    "from bs4 import BeautifulSoup\n",
    "import numpy as np"
   ]
  },
  {
   "cell_type": "code",
   "execution_count": 4,
   "id": "4d986d56",
   "metadata": {},
   "outputs": [],
   "source": [
    "def get_ev_ebitda(stock_code):\n",
    "    # URL 설정\n",
    "    url = f'https://comp.fnguide.com/SVO2/ASP/SVD_Invest.asp?pGB=1&gicode=A{stock_code}&cID=&MenuYn=Y&ReportGB=&NewMenuID=105&stkGb=701'\n",
    "\n",
    "    # HTTP 요청 및 페이지 내용 가져오기\n",
    "    response = requests.get(url)\n",
    "    response.raise_for_status()  # 요청 실패 시 예외 발생\n",
    "\n",
    "    # BeautifulSoup을 사용하여 HTML 파싱\n",
    "    soup = BeautifulSoup(response.text, 'html.parser')\n",
    "\n",
    "    # 포함하는 행\n",
    "    table = soup.find_all('tr', {'class': 'c_grid1_14 rwf acd_dep2_sub'})\n",
    "    \n",
    "    # 추출\n",
    "    try:\n",
    "        ev_value = table[0].find('td', {'class': 'cle r tdbg_y'}).text\n",
    "        ev = pd.to_numeric(ev_value.replace(',', ''), errors='coerce')\n",
    "    except (IndexError, AttributeError):\n",
    "        ev = pd.NA\n",
    "\n",
    "    try:\n",
    "        ebitda_value = table[1].find('td', {'class': 'cle r tdbg_y'}).text\n",
    "        ebitda = pd.to_numeric(ebitda_value.replace(',', ''), errors='coerce')\n",
    "    except (IndexError, AttributeError):\n",
    "        ebitda = pd.NA\n",
    "\n",
    "    if pd.notna(ev) and pd.notna(ebitda) and ebitda != 0:\n",
    "        ev_ebitda = ev / ebitda\n",
    "    else:\n",
    "        ev_ebitda = pd.NA\n",
    "\n",
    "    # 데이터프레임 생성\n",
    "    data = {\n",
    "        '기업코드': [stock_code],\n",
    "        'EV': [ev],\n",
    "        'EBITDA': [ebitda],\n",
    "        'EV/EBITDA' : [ev_ebitda]\n",
    "    }\n",
    "    df = pd.DataFrame(data)\n",
    "    return df"
   ]
  },
  {
   "cell_type": "code",
   "execution_count": 5,
   "id": "98318ee0",
   "metadata": {},
   "outputs": [
    {
     "data": {
      "text/html": [
       "<div>\n",
       "<style scoped>\n",
       "    .dataframe tbody tr th:only-of-type {\n",
       "        vertical-align: middle;\n",
       "    }\n",
       "\n",
       "    .dataframe tbody tr th {\n",
       "        vertical-align: top;\n",
       "    }\n",
       "\n",
       "    .dataframe thead th {\n",
       "        text-align: right;\n",
       "    }\n",
       "</style>\n",
       "<table border=\"1\" class=\"dataframe\">\n",
       "  <thead>\n",
       "    <tr style=\"text-align: right;\">\n",
       "      <th></th>\n",
       "      <th>종목코드</th>\n",
       "    </tr>\n",
       "  </thead>\n",
       "  <tbody>\n",
       "    <tr>\n",
       "      <th>0</th>\n",
       "      <td>095570</td>\n",
       "    </tr>\n",
       "    <tr>\n",
       "      <th>1</th>\n",
       "      <td>006840</td>\n",
       "    </tr>\n",
       "    <tr>\n",
       "      <th>2</th>\n",
       "      <td>027410</td>\n",
       "    </tr>\n",
       "    <tr>\n",
       "      <th>3</th>\n",
       "      <td>282330</td>\n",
       "    </tr>\n",
       "    <tr>\n",
       "      <th>4</th>\n",
       "      <td>138930</td>\n",
       "    </tr>\n",
       "    <tr>\n",
       "      <th>...</th>\n",
       "      <td>...</td>\n",
       "    </tr>\n",
       "    <tr>\n",
       "      <th>2691</th>\n",
       "      <td>024060</td>\n",
       "    </tr>\n",
       "    <tr>\n",
       "      <th>2692</th>\n",
       "      <td>010240</td>\n",
       "    </tr>\n",
       "    <tr>\n",
       "      <th>2693</th>\n",
       "      <td>189980</td>\n",
       "    </tr>\n",
       "    <tr>\n",
       "      <th>2694</th>\n",
       "      <td>037440</td>\n",
       "    </tr>\n",
       "    <tr>\n",
       "      <th>2695</th>\n",
       "      <td>238490</td>\n",
       "    </tr>\n",
       "  </tbody>\n",
       "</table>\n",
       "<p>2696 rows × 1 columns</p>\n",
       "</div>"
      ],
      "text/plain": [
       "        종목코드\n",
       "0     095570\n",
       "1     006840\n",
       "2     027410\n",
       "3     282330\n",
       "4     138930\n",
       "...      ...\n",
       "2691  024060\n",
       "2692  010240\n",
       "2693  189980\n",
       "2694  037440\n",
       "2695  238490\n",
       "\n",
       "[2696 rows x 1 columns]"
      ]
     },
     "execution_count": 5,
     "metadata": {},
     "output_type": "execute_result"
    }
   ],
   "source": [
    "# 저장된 종목코드 불러오기\n",
    "code_data = pd.read_csv('code.csv')\n",
    "code_data = code_data[['종목코드']]\n",
    "code_data"
   ]
  },
  {
   "cell_type": "code",
   "execution_count": 6,
   "id": "d364d274",
   "metadata": {},
   "outputs": [
    {
     "name": "stdout",
     "output_type": "stream",
     "text": [
      "1 / 2696\n",
      "2 / 2696\n",
      "3 / 2696\n",
      "4 / 2696\n",
      "5 / 2696\n"
     ]
    },
    {
     "name": "stderr",
     "output_type": "stream",
     "text": [
      "C:\\Users\\myhyu\\AppData\\Local\\Temp\\ipykernel_11084\\1729452186.py:25: FutureWarning: The behavior of DataFrame concatenation with empty or all-NA entries is deprecated. In a future version, this will no longer exclude empty or all-NA columns when determining the result dtypes. To retain the old behavior, exclude the relevant entries before the concat operation.\n",
      "  finance_table = pd.concat([finance_table, temp_arranged])\n"
     ]
    },
    {
     "name": "stdout",
     "output_type": "stream",
     "text": [
      "6 / 2696\n",
      "7 / 2696\n"
     ]
    },
    {
     "name": "stderr",
     "output_type": "stream",
     "text": [
      "C:\\Users\\myhyu\\AppData\\Local\\Temp\\ipykernel_11084\\1729452186.py:25: FutureWarning: The behavior of DataFrame concatenation with empty or all-NA entries is deprecated. In a future version, this will no longer exclude empty or all-NA columns when determining the result dtypes. To retain the old behavior, exclude the relevant entries before the concat operation.\n",
      "  finance_table = pd.concat([finance_table, temp_arranged])\n"
     ]
    },
    {
     "name": "stdout",
     "output_type": "stream",
     "text": [
      "8 / 2696\n",
      "9 / 2696\n",
      "10 / 2696\n"
     ]
    },
    {
     "name": "stderr",
     "output_type": "stream",
     "text": [
      "C:\\Users\\myhyu\\AppData\\Local\\Temp\\ipykernel_11084\\1729452186.py:25: FutureWarning: The behavior of DataFrame concatenation with empty or all-NA entries is deprecated. In a future version, this will no longer exclude empty or all-NA columns when determining the result dtypes. To retain the old behavior, exclude the relevant entries before the concat operation.\n",
      "  finance_table = pd.concat([finance_table, temp_arranged])\n"
     ]
    },
    {
     "name": "stdout",
     "output_type": "stream",
     "text": [
      "11 / 2696\n",
      "12 / 2696\n",
      "13 / 2696\n"
     ]
    },
    {
     "name": "stderr",
     "output_type": "stream",
     "text": [
      "C:\\Users\\myhyu\\AppData\\Local\\Temp\\ipykernel_11084\\1729452186.py:25: FutureWarning: The behavior of DataFrame concatenation with empty or all-NA entries is deprecated. In a future version, this will no longer exclude empty or all-NA columns when determining the result dtypes. To retain the old behavior, exclude the relevant entries before the concat operation.\n",
      "  finance_table = pd.concat([finance_table, temp_arranged])\n"
     ]
    },
    {
     "name": "stdout",
     "output_type": "stream",
     "text": [
      "14 / 2696\n"
     ]
    },
    {
     "name": "stderr",
     "output_type": "stream",
     "text": [
      "C:\\Users\\myhyu\\AppData\\Local\\Temp\\ipykernel_11084\\1729452186.py:25: FutureWarning: The behavior of DataFrame concatenation with empty or all-NA entries is deprecated. In a future version, this will no longer exclude empty or all-NA columns when determining the result dtypes. To retain the old behavior, exclude the relevant entries before the concat operation.\n",
      "  finance_table = pd.concat([finance_table, temp_arranged])\n"
     ]
    },
    {
     "name": "stdout",
     "output_type": "stream",
     "text": [
      "15 / 2696\n",
      "16 / 2696\n"
     ]
    },
    {
     "name": "stderr",
     "output_type": "stream",
     "text": [
      "C:\\Users\\myhyu\\AppData\\Local\\Temp\\ipykernel_11084\\1729452186.py:25: FutureWarning: The behavior of DataFrame concatenation with empty or all-NA entries is deprecated. In a future version, this will no longer exclude empty or all-NA columns when determining the result dtypes. To retain the old behavior, exclude the relevant entries before the concat operation.\n",
      "  finance_table = pd.concat([finance_table, temp_arranged])\n"
     ]
    },
    {
     "name": "stdout",
     "output_type": "stream",
     "text": [
      "17 / 2696\n",
      "18 / 2696\n",
      "19 / 2696\n",
      "20 / 2696\n"
     ]
    },
    {
     "name": "stderr",
     "output_type": "stream",
     "text": [
      "C:\\Users\\myhyu\\AppData\\Local\\Temp\\ipykernel_11084\\1729452186.py:25: FutureWarning: The behavior of DataFrame concatenation with empty or all-NA entries is deprecated. In a future version, this will no longer exclude empty or all-NA columns when determining the result dtypes. To retain the old behavior, exclude the relevant entries before the concat operation.\n",
      "  finance_table = pd.concat([finance_table, temp_arranged])\n"
     ]
    },
    {
     "name": "stdout",
     "output_type": "stream",
     "text": [
      "21 / 2696\n"
     ]
    },
    {
     "name": "stderr",
     "output_type": "stream",
     "text": [
      "C:\\Users\\myhyu\\AppData\\Local\\Temp\\ipykernel_11084\\1729452186.py:25: FutureWarning: The behavior of DataFrame concatenation with empty or all-NA entries is deprecated. In a future version, this will no longer exclude empty or all-NA columns when determining the result dtypes. To retain the old behavior, exclude the relevant entries before the concat operation.\n",
      "  finance_table = pd.concat([finance_table, temp_arranged])\n"
     ]
    },
    {
     "name": "stdout",
     "output_type": "stream",
     "text": [
      "22 / 2696\n",
      "23 / 2696\n"
     ]
    },
    {
     "name": "stderr",
     "output_type": "stream",
     "text": [
      "C:\\Users\\myhyu\\AppData\\Local\\Temp\\ipykernel_11084\\1729452186.py:25: FutureWarning: The behavior of DataFrame concatenation with empty or all-NA entries is deprecated. In a future version, this will no longer exclude empty or all-NA columns when determining the result dtypes. To retain the old behavior, exclude the relevant entries before the concat operation.\n",
      "  finance_table = pd.concat([finance_table, temp_arranged])\n"
     ]
    },
    {
     "name": "stdout",
     "output_type": "stream",
     "text": [
      "24 / 2696\n",
      "25 / 2696\n",
      "26 / 2696\n"
     ]
    },
    {
     "name": "stderr",
     "output_type": "stream",
     "text": [
      "C:\\Users\\myhyu\\AppData\\Local\\Temp\\ipykernel_11084\\1729452186.py:25: FutureWarning: The behavior of DataFrame concatenation with empty or all-NA entries is deprecated. In a future version, this will no longer exclude empty or all-NA columns when determining the result dtypes. To retain the old behavior, exclude the relevant entries before the concat operation.\n",
      "  finance_table = pd.concat([finance_table, temp_arranged])\n"
     ]
    },
    {
     "name": "stdout",
     "output_type": "stream",
     "text": [
      "27 / 2696\n",
      "28 / 2696\n"
     ]
    },
    {
     "name": "stderr",
     "output_type": "stream",
     "text": [
      "C:\\Users\\myhyu\\AppData\\Local\\Temp\\ipykernel_11084\\1729452186.py:25: FutureWarning: The behavior of DataFrame concatenation with empty or all-NA entries is deprecated. In a future version, this will no longer exclude empty or all-NA columns when determining the result dtypes. To retain the old behavior, exclude the relevant entries before the concat operation.\n",
      "  finance_table = pd.concat([finance_table, temp_arranged])\n"
     ]
    },
    {
     "name": "stdout",
     "output_type": "stream",
     "text": [
      "29 / 2696\n"
     ]
    },
    {
     "name": "stderr",
     "output_type": "stream",
     "text": [
      "C:\\Users\\myhyu\\AppData\\Local\\Temp\\ipykernel_11084\\1729452186.py:25: FutureWarning: The behavior of DataFrame concatenation with empty or all-NA entries is deprecated. In a future version, this will no longer exclude empty or all-NA columns when determining the result dtypes. To retain the old behavior, exclude the relevant entries before the concat operation.\n",
      "  finance_table = pd.concat([finance_table, temp_arranged])\n"
     ]
    },
    {
     "name": "stdout",
     "output_type": "stream",
     "text": [
      "30 / 2696\n",
      "31 / 2696\n",
      "32 / 2696\n",
      "33 / 2696\n",
      "34 / 2696\n",
      "35 / 2696\n",
      "36 / 2696\n",
      "37 / 2696\n",
      "38 / 2696\n",
      "39 / 2696\n",
      "40 / 2696\n",
      "41 / 2696\n",
      "42 / 2696\n",
      "43 / 2696\n",
      "44 / 2696\n"
     ]
    },
    {
     "name": "stderr",
     "output_type": "stream",
     "text": [
      "C:\\Users\\myhyu\\AppData\\Local\\Temp\\ipykernel_11084\\1729452186.py:25: FutureWarning: The behavior of DataFrame concatenation with empty or all-NA entries is deprecated. In a future version, this will no longer exclude empty or all-NA columns when determining the result dtypes. To retain the old behavior, exclude the relevant entries before the concat operation.\n",
      "  finance_table = pd.concat([finance_table, temp_arranged])\n"
     ]
    },
    {
     "name": "stdout",
     "output_type": "stream",
     "text": [
      "45 / 2696\n",
      "46 / 2696\n",
      "47 / 2696\n",
      "48 / 2696\n",
      "49 / 2696\n",
      "50 / 2696\n",
      "51 / 2696\n",
      "52 / 2696\n"
     ]
    },
    {
     "name": "stderr",
     "output_type": "stream",
     "text": [
      "C:\\Users\\myhyu\\AppData\\Local\\Temp\\ipykernel_11084\\1729452186.py:25: FutureWarning: The behavior of DataFrame concatenation with empty or all-NA entries is deprecated. In a future version, this will no longer exclude empty or all-NA columns when determining the result dtypes. To retain the old behavior, exclude the relevant entries before the concat operation.\n",
      "  finance_table = pd.concat([finance_table, temp_arranged])\n"
     ]
    },
    {
     "name": "stdout",
     "output_type": "stream",
     "text": [
      "53 / 2696\n",
      "54 / 2696\n",
      "55 / 2696\n",
      "56 / 2696\n",
      "57 / 2696\n",
      "58 / 2696\n",
      "59 / 2696\n",
      "60 / 2696\n",
      "61 / 2696\n",
      "62 / 2696\n",
      "63 / 2696\n",
      "64 / 2696\n",
      "65 / 2696\n",
      "66 / 2696\n",
      "67 / 2696\n"
     ]
    },
    {
     "name": "stderr",
     "output_type": "stream",
     "text": [
      "C:\\Users\\myhyu\\AppData\\Local\\Temp\\ipykernel_11084\\1729452186.py:25: FutureWarning: The behavior of DataFrame concatenation with empty or all-NA entries is deprecated. In a future version, this will no longer exclude empty or all-NA columns when determining the result dtypes. To retain the old behavior, exclude the relevant entries before the concat operation.\n",
      "  finance_table = pd.concat([finance_table, temp_arranged])\n"
     ]
    },
    {
     "name": "stdout",
     "output_type": "stream",
     "text": [
      "68 / 2696\n",
      "69 / 2696\n",
      "70 / 2696\n"
     ]
    },
    {
     "name": "stderr",
     "output_type": "stream",
     "text": [
      "C:\\Users\\myhyu\\AppData\\Local\\Temp\\ipykernel_11084\\1729452186.py:25: FutureWarning: The behavior of DataFrame concatenation with empty or all-NA entries is deprecated. In a future version, this will no longer exclude empty or all-NA columns when determining the result dtypes. To retain the old behavior, exclude the relevant entries before the concat operation.\n",
      "  finance_table = pd.concat([finance_table, temp_arranged])\n"
     ]
    },
    {
     "name": "stdout",
     "output_type": "stream",
     "text": [
      "71 / 2696\n"
     ]
    },
    {
     "name": "stderr",
     "output_type": "stream",
     "text": [
      "C:\\Users\\myhyu\\AppData\\Local\\Temp\\ipykernel_11084\\1729452186.py:25: FutureWarning: The behavior of DataFrame concatenation with empty or all-NA entries is deprecated. In a future version, this will no longer exclude empty or all-NA columns when determining the result dtypes. To retain the old behavior, exclude the relevant entries before the concat operation.\n",
      "  finance_table = pd.concat([finance_table, temp_arranged])\n"
     ]
    },
    {
     "name": "stdout",
     "output_type": "stream",
     "text": [
      "72 / 2696\n",
      "73 / 2696\n"
     ]
    },
    {
     "name": "stderr",
     "output_type": "stream",
     "text": [
      "C:\\Users\\myhyu\\AppData\\Local\\Temp\\ipykernel_11084\\1729452186.py:25: FutureWarning: The behavior of DataFrame concatenation with empty or all-NA entries is deprecated. In a future version, this will no longer exclude empty or all-NA columns when determining the result dtypes. To retain the old behavior, exclude the relevant entries before the concat operation.\n",
      "  finance_table = pd.concat([finance_table, temp_arranged])\n"
     ]
    },
    {
     "name": "stdout",
     "output_type": "stream",
     "text": [
      "74 / 2696\n",
      "75 / 2696\n",
      "76 / 2696\n",
      "77 / 2696\n",
      "78 / 2696\n",
      "79 / 2696\n",
      "80 / 2696\n",
      "81 / 2696\n",
      "82 / 2696\n",
      "83 / 2696\n",
      "84 / 2696\n",
      "85 / 2696\n",
      "86 / 2696\n",
      "87 / 2696\n",
      "88 / 2696\n",
      "89 / 2696\n",
      "90 / 2696\n",
      "91 / 2696\n",
      "92 / 2696\n",
      "93 / 2696\n",
      "94 / 2696\n",
      "95 / 2696\n",
      "96 / 2696\n",
      "97 / 2696\n",
      "98 / 2696\n",
      "99 / 2696\n"
     ]
    },
    {
     "name": "stderr",
     "output_type": "stream",
     "text": [
      "C:\\Users\\myhyu\\AppData\\Local\\Temp\\ipykernel_11084\\1729452186.py:25: FutureWarning: The behavior of DataFrame concatenation with empty or all-NA entries is deprecated. In a future version, this will no longer exclude empty or all-NA columns when determining the result dtypes. To retain the old behavior, exclude the relevant entries before the concat operation.\n",
      "  finance_table = pd.concat([finance_table, temp_arranged])\n"
     ]
    },
    {
     "name": "stdout",
     "output_type": "stream",
     "text": [
      "100 / 2696\n",
      "101 / 2696\n"
     ]
    },
    {
     "name": "stderr",
     "output_type": "stream",
     "text": [
      "C:\\Users\\myhyu\\AppData\\Local\\Temp\\ipykernel_11084\\1729452186.py:25: FutureWarning: The behavior of DataFrame concatenation with empty or all-NA entries is deprecated. In a future version, this will no longer exclude empty or all-NA columns when determining the result dtypes. To retain the old behavior, exclude the relevant entries before the concat operation.\n",
      "  finance_table = pd.concat([finance_table, temp_arranged])\n"
     ]
    },
    {
     "name": "stdout",
     "output_type": "stream",
     "text": [
      "102 / 2696\n",
      "103 / 2696\n",
      "104 / 2696\n",
      "105 / 2696\n"
     ]
    },
    {
     "name": "stderr",
     "output_type": "stream",
     "text": [
      "C:\\Users\\myhyu\\AppData\\Local\\Temp\\ipykernel_11084\\1729452186.py:25: FutureWarning: The behavior of DataFrame concatenation with empty or all-NA entries is deprecated. In a future version, this will no longer exclude empty or all-NA columns when determining the result dtypes. To retain the old behavior, exclude the relevant entries before the concat operation.\n",
      "  finance_table = pd.concat([finance_table, temp_arranged])\n"
     ]
    },
    {
     "name": "stdout",
     "output_type": "stream",
     "text": [
      "106 / 2696\n",
      "107 / 2696\n",
      "108 / 2696\n"
     ]
    },
    {
     "name": "stderr",
     "output_type": "stream",
     "text": [
      "C:\\Users\\myhyu\\AppData\\Local\\Temp\\ipykernel_11084\\1729452186.py:25: FutureWarning: The behavior of DataFrame concatenation with empty or all-NA entries is deprecated. In a future version, this will no longer exclude empty or all-NA columns when determining the result dtypes. To retain the old behavior, exclude the relevant entries before the concat operation.\n",
      "  finance_table = pd.concat([finance_table, temp_arranged])\n"
     ]
    },
    {
     "name": "stdout",
     "output_type": "stream",
     "text": [
      "109 / 2696\n",
      "110 / 2696\n",
      "111 / 2696\n",
      "112 / 2696\n",
      "113 / 2696\n",
      "114 / 2696\n",
      "115 / 2696\n",
      "116 / 2696\n",
      "117 / 2696\n"
     ]
    },
    {
     "name": "stderr",
     "output_type": "stream",
     "text": [
      "C:\\Users\\myhyu\\AppData\\Local\\Temp\\ipykernel_11084\\1729452186.py:25: FutureWarning: The behavior of DataFrame concatenation with empty or all-NA entries is deprecated. In a future version, this will no longer exclude empty or all-NA columns when determining the result dtypes. To retain the old behavior, exclude the relevant entries before the concat operation.\n",
      "  finance_table = pd.concat([finance_table, temp_arranged])\n"
     ]
    },
    {
     "name": "stdout",
     "output_type": "stream",
     "text": [
      "118 / 2696\n",
      "119 / 2696\n"
     ]
    },
    {
     "name": "stderr",
     "output_type": "stream",
     "text": [
      "C:\\Users\\myhyu\\AppData\\Local\\Temp\\ipykernel_11084\\1729452186.py:25: FutureWarning: The behavior of DataFrame concatenation with empty or all-NA entries is deprecated. In a future version, this will no longer exclude empty or all-NA columns when determining the result dtypes. To retain the old behavior, exclude the relevant entries before the concat operation.\n",
      "  finance_table = pd.concat([finance_table, temp_arranged])\n"
     ]
    },
    {
     "name": "stdout",
     "output_type": "stream",
     "text": [
      "120 / 2696\n",
      "121 / 2696\n",
      "122 / 2696\n",
      "123 / 2696\n",
      "124 / 2696\n"
     ]
    },
    {
     "name": "stderr",
     "output_type": "stream",
     "text": [
      "C:\\Users\\myhyu\\AppData\\Local\\Temp\\ipykernel_11084\\1729452186.py:25: FutureWarning: The behavior of DataFrame concatenation with empty or all-NA entries is deprecated. In a future version, this will no longer exclude empty or all-NA columns when determining the result dtypes. To retain the old behavior, exclude the relevant entries before the concat operation.\n",
      "  finance_table = pd.concat([finance_table, temp_arranged])\n"
     ]
    },
    {
     "name": "stdout",
     "output_type": "stream",
     "text": [
      "125 / 2696\n"
     ]
    },
    {
     "name": "stderr",
     "output_type": "stream",
     "text": [
      "C:\\Users\\myhyu\\AppData\\Local\\Temp\\ipykernel_11084\\1729452186.py:25: FutureWarning: The behavior of DataFrame concatenation with empty or all-NA entries is deprecated. In a future version, this will no longer exclude empty or all-NA columns when determining the result dtypes. To retain the old behavior, exclude the relevant entries before the concat operation.\n",
      "  finance_table = pd.concat([finance_table, temp_arranged])\n"
     ]
    },
    {
     "name": "stdout",
     "output_type": "stream",
     "text": [
      "126 / 2696\n",
      "127 / 2696\n",
      "128 / 2696\n",
      "129 / 2696\n",
      "130 / 2696\n",
      "131 / 2696\n"
     ]
    },
    {
     "name": "stderr",
     "output_type": "stream",
     "text": [
      "C:\\Users\\myhyu\\AppData\\Local\\Temp\\ipykernel_11084\\1729452186.py:25: FutureWarning: The behavior of DataFrame concatenation with empty or all-NA entries is deprecated. In a future version, this will no longer exclude empty or all-NA columns when determining the result dtypes. To retain the old behavior, exclude the relevant entries before the concat operation.\n",
      "  finance_table = pd.concat([finance_table, temp_arranged])\n"
     ]
    },
    {
     "name": "stdout",
     "output_type": "stream",
     "text": [
      "132 / 2696\n",
      "133 / 2696\n",
      "134 / 2696\n",
      "135 / 2696\n",
      "136 / 2696\n",
      "137 / 2696\n"
     ]
    },
    {
     "name": "stderr",
     "output_type": "stream",
     "text": [
      "C:\\Users\\myhyu\\AppData\\Local\\Temp\\ipykernel_11084\\1729452186.py:25: FutureWarning: The behavior of DataFrame concatenation with empty or all-NA entries is deprecated. In a future version, this will no longer exclude empty or all-NA columns when determining the result dtypes. To retain the old behavior, exclude the relevant entries before the concat operation.\n",
      "  finance_table = pd.concat([finance_table, temp_arranged])\n"
     ]
    },
    {
     "name": "stdout",
     "output_type": "stream",
     "text": [
      "138 / 2696\n",
      "139 / 2696\n",
      "140 / 2696\n",
      "141 / 2696\n"
     ]
    },
    {
     "name": "stderr",
     "output_type": "stream",
     "text": [
      "C:\\Users\\myhyu\\AppData\\Local\\Temp\\ipykernel_11084\\1729452186.py:25: FutureWarning: The behavior of DataFrame concatenation with empty or all-NA entries is deprecated. In a future version, this will no longer exclude empty or all-NA columns when determining the result dtypes. To retain the old behavior, exclude the relevant entries before the concat operation.\n",
      "  finance_table = pd.concat([finance_table, temp_arranged])\n"
     ]
    },
    {
     "name": "stdout",
     "output_type": "stream",
     "text": [
      "142 / 2696\n",
      "143 / 2696\n",
      "144 / 2696\n",
      "145 / 2696\n",
      "146 / 2696\n",
      "147 / 2696\n",
      "148 / 2696\n",
      "149 / 2696\n",
      "150 / 2696\n",
      "151 / 2696\n",
      "152 / 2696\n"
     ]
    },
    {
     "name": "stderr",
     "output_type": "stream",
     "text": [
      "C:\\Users\\myhyu\\AppData\\Local\\Temp\\ipykernel_11084\\1729452186.py:25: FutureWarning: The behavior of DataFrame concatenation with empty or all-NA entries is deprecated. In a future version, this will no longer exclude empty or all-NA columns when determining the result dtypes. To retain the old behavior, exclude the relevant entries before the concat operation.\n",
      "  finance_table = pd.concat([finance_table, temp_arranged])\n"
     ]
    },
    {
     "name": "stdout",
     "output_type": "stream",
     "text": [
      "153 / 2696\n",
      "154 / 2696\n",
      "155 / 2696\n",
      "156 / 2696\n",
      "157 / 2696\n",
      "158 / 2696\n",
      "159 / 2696\n",
      "160 / 2696\n"
     ]
    },
    {
     "name": "stderr",
     "output_type": "stream",
     "text": [
      "C:\\Users\\myhyu\\AppData\\Local\\Temp\\ipykernel_11084\\1729452186.py:25: FutureWarning: The behavior of DataFrame concatenation with empty or all-NA entries is deprecated. In a future version, this will no longer exclude empty or all-NA columns when determining the result dtypes. To retain the old behavior, exclude the relevant entries before the concat operation.\n",
      "  finance_table = pd.concat([finance_table, temp_arranged])\n"
     ]
    },
    {
     "name": "stdout",
     "output_type": "stream",
     "text": [
      "161 / 2696\n",
      "162 / 2696\n"
     ]
    },
    {
     "name": "stderr",
     "output_type": "stream",
     "text": [
      "C:\\Users\\myhyu\\AppData\\Local\\Temp\\ipykernel_11084\\1729452186.py:25: FutureWarning: The behavior of DataFrame concatenation with empty or all-NA entries is deprecated. In a future version, this will no longer exclude empty or all-NA columns when determining the result dtypes. To retain the old behavior, exclude the relevant entries before the concat operation.\n",
      "  finance_table = pd.concat([finance_table, temp_arranged])\n"
     ]
    },
    {
     "name": "stdout",
     "output_type": "stream",
     "text": [
      "163 / 2696\n",
      "164 / 2696\n"
     ]
    },
    {
     "name": "stderr",
     "output_type": "stream",
     "text": [
      "C:\\Users\\myhyu\\AppData\\Local\\Temp\\ipykernel_11084\\1729452186.py:25: FutureWarning: The behavior of DataFrame concatenation with empty or all-NA entries is deprecated. In a future version, this will no longer exclude empty or all-NA columns when determining the result dtypes. To retain the old behavior, exclude the relevant entries before the concat operation.\n",
      "  finance_table = pd.concat([finance_table, temp_arranged])\n"
     ]
    },
    {
     "name": "stdout",
     "output_type": "stream",
     "text": [
      "165 / 2696\n"
     ]
    },
    {
     "name": "stderr",
     "output_type": "stream",
     "text": [
      "C:\\Users\\myhyu\\AppData\\Local\\Temp\\ipykernel_11084\\1729452186.py:25: FutureWarning: The behavior of DataFrame concatenation with empty or all-NA entries is deprecated. In a future version, this will no longer exclude empty or all-NA columns when determining the result dtypes. To retain the old behavior, exclude the relevant entries before the concat operation.\n",
      "  finance_table = pd.concat([finance_table, temp_arranged])\n"
     ]
    },
    {
     "name": "stdout",
     "output_type": "stream",
     "text": [
      "166 / 2696\n",
      "167 / 2696\n"
     ]
    },
    {
     "name": "stderr",
     "output_type": "stream",
     "text": [
      "C:\\Users\\myhyu\\AppData\\Local\\Temp\\ipykernel_11084\\1729452186.py:25: FutureWarning: The behavior of DataFrame concatenation with empty or all-NA entries is deprecated. In a future version, this will no longer exclude empty or all-NA columns when determining the result dtypes. To retain the old behavior, exclude the relevant entries before the concat operation.\n",
      "  finance_table = pd.concat([finance_table, temp_arranged])\n"
     ]
    },
    {
     "name": "stdout",
     "output_type": "stream",
     "text": [
      "168 / 2696\n",
      "169 / 2696\n",
      "170 / 2696\n",
      "171 / 2696\n",
      "172 / 2696\n",
      "173 / 2696\n",
      "174 / 2696\n",
      "175 / 2696\n",
      "176 / 2696\n",
      "177 / 2696\n",
      "178 / 2696\n",
      "179 / 2696\n",
      "180 / 2696\n",
      "181 / 2696\n",
      "182 / 2696\n",
      "183 / 2696\n",
      "184 / 2696\n",
      "185 / 2696\n",
      "186 / 2696\n",
      "187 / 2696\n",
      "188 / 2696\n",
      "189 / 2696\n",
      "190 / 2696\n",
      "191 / 2696\n",
      "192 / 2696\n",
      "193 / 2696\n",
      "194 / 2696\n",
      "195 / 2696\n",
      "196 / 2696\n",
      "197 / 2696\n",
      "198 / 2696\n"
     ]
    },
    {
     "name": "stderr",
     "output_type": "stream",
     "text": [
      "C:\\Users\\myhyu\\AppData\\Local\\Temp\\ipykernel_11084\\1729452186.py:25: FutureWarning: The behavior of DataFrame concatenation with empty or all-NA entries is deprecated. In a future version, this will no longer exclude empty or all-NA columns when determining the result dtypes. To retain the old behavior, exclude the relevant entries before the concat operation.\n",
      "  finance_table = pd.concat([finance_table, temp_arranged])\n"
     ]
    },
    {
     "name": "stdout",
     "output_type": "stream",
     "text": [
      "199 / 2696\n",
      "200 / 2696\n",
      "201 / 2696\n"
     ]
    },
    {
     "name": "stderr",
     "output_type": "stream",
     "text": [
      "C:\\Users\\myhyu\\AppData\\Local\\Temp\\ipykernel_11084\\1729452186.py:25: FutureWarning: The behavior of DataFrame concatenation with empty or all-NA entries is deprecated. In a future version, this will no longer exclude empty or all-NA columns when determining the result dtypes. To retain the old behavior, exclude the relevant entries before the concat operation.\n",
      "  finance_table = pd.concat([finance_table, temp_arranged])\n"
     ]
    },
    {
     "name": "stdout",
     "output_type": "stream",
     "text": [
      "202 / 2696\n",
      "203 / 2696\n",
      "204 / 2696\n",
      "205 / 2696\n",
      "206 / 2696\n",
      "207 / 2696\n",
      "208 / 2696\n",
      "209 / 2696\n"
     ]
    },
    {
     "name": "stderr",
     "output_type": "stream",
     "text": [
      "C:\\Users\\myhyu\\AppData\\Local\\Temp\\ipykernel_11084\\1729452186.py:25: FutureWarning: The behavior of DataFrame concatenation with empty or all-NA entries is deprecated. In a future version, this will no longer exclude empty or all-NA columns when determining the result dtypes. To retain the old behavior, exclude the relevant entries before the concat operation.\n",
      "  finance_table = pd.concat([finance_table, temp_arranged])\n"
     ]
    },
    {
     "name": "stdout",
     "output_type": "stream",
     "text": [
      "210 / 2696\n",
      "211 / 2696\n",
      "212 / 2696\n",
      "213 / 2696\n",
      "214 / 2696\n",
      "215 / 2696\n",
      "216 / 2696\n",
      "217 / 2696\n",
      "218 / 2696\n"
     ]
    },
    {
     "name": "stderr",
     "output_type": "stream",
     "text": [
      "C:\\Users\\myhyu\\AppData\\Local\\Temp\\ipykernel_11084\\1729452186.py:25: FutureWarning: The behavior of DataFrame concatenation with empty or all-NA entries is deprecated. In a future version, this will no longer exclude empty or all-NA columns when determining the result dtypes. To retain the old behavior, exclude the relevant entries before the concat operation.\n",
      "  finance_table = pd.concat([finance_table, temp_arranged])\n"
     ]
    },
    {
     "name": "stdout",
     "output_type": "stream",
     "text": [
      "219 / 2696\n",
      "220 / 2696\n",
      "221 / 2696\n",
      "222 / 2696\n"
     ]
    },
    {
     "name": "stderr",
     "output_type": "stream",
     "text": [
      "C:\\Users\\myhyu\\AppData\\Local\\Temp\\ipykernel_11084\\1729452186.py:25: FutureWarning: The behavior of DataFrame concatenation with empty or all-NA entries is deprecated. In a future version, this will no longer exclude empty or all-NA columns when determining the result dtypes. To retain the old behavior, exclude the relevant entries before the concat operation.\n",
      "  finance_table = pd.concat([finance_table, temp_arranged])\n"
     ]
    },
    {
     "name": "stdout",
     "output_type": "stream",
     "text": [
      "223 / 2696\n",
      "224 / 2696\n"
     ]
    },
    {
     "name": "stderr",
     "output_type": "stream",
     "text": [
      "C:\\Users\\myhyu\\AppData\\Local\\Temp\\ipykernel_11084\\1729452186.py:25: FutureWarning: The behavior of DataFrame concatenation with empty or all-NA entries is deprecated. In a future version, this will no longer exclude empty or all-NA columns when determining the result dtypes. To retain the old behavior, exclude the relevant entries before the concat operation.\n",
      "  finance_table = pd.concat([finance_table, temp_arranged])\n"
     ]
    },
    {
     "name": "stdout",
     "output_type": "stream",
     "text": [
      "225 / 2696\n",
      "226 / 2696\n",
      "227 / 2696\n",
      "228 / 2696\n",
      "229 / 2696\n",
      "230 / 2696\n"
     ]
    },
    {
     "name": "stderr",
     "output_type": "stream",
     "text": [
      "C:\\Users\\myhyu\\AppData\\Local\\Temp\\ipykernel_11084\\1729452186.py:25: FutureWarning: The behavior of DataFrame concatenation with empty or all-NA entries is deprecated. In a future version, this will no longer exclude empty or all-NA columns when determining the result dtypes. To retain the old behavior, exclude the relevant entries before the concat operation.\n",
      "  finance_table = pd.concat([finance_table, temp_arranged])\n"
     ]
    },
    {
     "name": "stdout",
     "output_type": "stream",
     "text": [
      "231 / 2696\n",
      "232 / 2696\n",
      "233 / 2696\n"
     ]
    },
    {
     "name": "stderr",
     "output_type": "stream",
     "text": [
      "C:\\Users\\myhyu\\AppData\\Local\\Temp\\ipykernel_11084\\1729452186.py:25: FutureWarning: The behavior of DataFrame concatenation with empty or all-NA entries is deprecated. In a future version, this will no longer exclude empty or all-NA columns when determining the result dtypes. To retain the old behavior, exclude the relevant entries before the concat operation.\n",
      "  finance_table = pd.concat([finance_table, temp_arranged])\n"
     ]
    },
    {
     "name": "stdout",
     "output_type": "stream",
     "text": [
      "234 / 2696\n",
      "235 / 2696\n",
      "236 / 2696\n"
     ]
    },
    {
     "name": "stderr",
     "output_type": "stream",
     "text": [
      "C:\\Users\\myhyu\\AppData\\Local\\Temp\\ipykernel_11084\\1729452186.py:25: FutureWarning: The behavior of DataFrame concatenation with empty or all-NA entries is deprecated. In a future version, this will no longer exclude empty or all-NA columns when determining the result dtypes. To retain the old behavior, exclude the relevant entries before the concat operation.\n",
      "  finance_table = pd.concat([finance_table, temp_arranged])\n"
     ]
    },
    {
     "name": "stdout",
     "output_type": "stream",
     "text": [
      "237 / 2696\n",
      "238 / 2696\n",
      "239 / 2696\n"
     ]
    },
    {
     "name": "stderr",
     "output_type": "stream",
     "text": [
      "C:\\Users\\myhyu\\AppData\\Local\\Temp\\ipykernel_11084\\1729452186.py:25: FutureWarning: The behavior of DataFrame concatenation with empty or all-NA entries is deprecated. In a future version, this will no longer exclude empty or all-NA columns when determining the result dtypes. To retain the old behavior, exclude the relevant entries before the concat operation.\n",
      "  finance_table = pd.concat([finance_table, temp_arranged])\n"
     ]
    },
    {
     "name": "stdout",
     "output_type": "stream",
     "text": [
      "240 / 2696\n",
      "241 / 2696\n",
      "242 / 2696\n"
     ]
    },
    {
     "name": "stderr",
     "output_type": "stream",
     "text": [
      "C:\\Users\\myhyu\\AppData\\Local\\Temp\\ipykernel_11084\\1729452186.py:25: FutureWarning: The behavior of DataFrame concatenation with empty or all-NA entries is deprecated. In a future version, this will no longer exclude empty or all-NA columns when determining the result dtypes. To retain the old behavior, exclude the relevant entries before the concat operation.\n",
      "  finance_table = pd.concat([finance_table, temp_arranged])\n"
     ]
    },
    {
     "name": "stdout",
     "output_type": "stream",
     "text": [
      "243 / 2696\n",
      "244 / 2696\n"
     ]
    },
    {
     "name": "stderr",
     "output_type": "stream",
     "text": [
      "C:\\Users\\myhyu\\AppData\\Local\\Temp\\ipykernel_11084\\1729452186.py:25: FutureWarning: The behavior of DataFrame concatenation with empty or all-NA entries is deprecated. In a future version, this will no longer exclude empty or all-NA columns when determining the result dtypes. To retain the old behavior, exclude the relevant entries before the concat operation.\n",
      "  finance_table = pd.concat([finance_table, temp_arranged])\n"
     ]
    },
    {
     "name": "stdout",
     "output_type": "stream",
     "text": [
      "245 / 2696\n",
      "246 / 2696\n",
      "247 / 2696\n",
      "248 / 2696\n"
     ]
    },
    {
     "name": "stderr",
     "output_type": "stream",
     "text": [
      "C:\\Users\\myhyu\\AppData\\Local\\Temp\\ipykernel_11084\\1729452186.py:25: FutureWarning: The behavior of DataFrame concatenation with empty or all-NA entries is deprecated. In a future version, this will no longer exclude empty or all-NA columns when determining the result dtypes. To retain the old behavior, exclude the relevant entries before the concat operation.\n",
      "  finance_table = pd.concat([finance_table, temp_arranged])\n"
     ]
    },
    {
     "name": "stdout",
     "output_type": "stream",
     "text": [
      "249 / 2696\n",
      "250 / 2696\n"
     ]
    },
    {
     "name": "stderr",
     "output_type": "stream",
     "text": [
      "C:\\Users\\myhyu\\AppData\\Local\\Temp\\ipykernel_11084\\1729452186.py:25: FutureWarning: The behavior of DataFrame concatenation with empty or all-NA entries is deprecated. In a future version, this will no longer exclude empty or all-NA columns when determining the result dtypes. To retain the old behavior, exclude the relevant entries before the concat operation.\n",
      "  finance_table = pd.concat([finance_table, temp_arranged])\n"
     ]
    },
    {
     "name": "stdout",
     "output_type": "stream",
     "text": [
      "251 / 2696\n",
      "252 / 2696\n",
      "253 / 2696\n"
     ]
    },
    {
     "name": "stderr",
     "output_type": "stream",
     "text": [
      "C:\\Users\\myhyu\\AppData\\Local\\Temp\\ipykernel_11084\\1729452186.py:25: FutureWarning: The behavior of DataFrame concatenation with empty or all-NA entries is deprecated. In a future version, this will no longer exclude empty or all-NA columns when determining the result dtypes. To retain the old behavior, exclude the relevant entries before the concat operation.\n",
      "  finance_table = pd.concat([finance_table, temp_arranged])\n"
     ]
    },
    {
     "name": "stdout",
     "output_type": "stream",
     "text": [
      "254 / 2696\n",
      "255 / 2696\n",
      "256 / 2696\n",
      "257 / 2696\n"
     ]
    },
    {
     "name": "stderr",
     "output_type": "stream",
     "text": [
      "C:\\Users\\myhyu\\AppData\\Local\\Temp\\ipykernel_11084\\1729452186.py:25: FutureWarning: The behavior of DataFrame concatenation with empty or all-NA entries is deprecated. In a future version, this will no longer exclude empty or all-NA columns when determining the result dtypes. To retain the old behavior, exclude the relevant entries before the concat operation.\n",
      "  finance_table = pd.concat([finance_table, temp_arranged])\n"
     ]
    },
    {
     "name": "stdout",
     "output_type": "stream",
     "text": [
      "258 / 2696\n",
      "259 / 2696\n",
      "260 / 2696\n",
      "261 / 2696\n"
     ]
    },
    {
     "name": "stderr",
     "output_type": "stream",
     "text": [
      "C:\\Users\\myhyu\\AppData\\Local\\Temp\\ipykernel_11084\\1729452186.py:25: FutureWarning: The behavior of DataFrame concatenation with empty or all-NA entries is deprecated. In a future version, this will no longer exclude empty or all-NA columns when determining the result dtypes. To retain the old behavior, exclude the relevant entries before the concat operation.\n",
      "  finance_table = pd.concat([finance_table, temp_arranged])\n"
     ]
    },
    {
     "name": "stdout",
     "output_type": "stream",
     "text": [
      "262 / 2696\n",
      "263 / 2696\n",
      "264 / 2696\n"
     ]
    },
    {
     "name": "stderr",
     "output_type": "stream",
     "text": [
      "C:\\Users\\myhyu\\AppData\\Local\\Temp\\ipykernel_11084\\1729452186.py:25: FutureWarning: The behavior of DataFrame concatenation with empty or all-NA entries is deprecated. In a future version, this will no longer exclude empty or all-NA columns when determining the result dtypes. To retain the old behavior, exclude the relevant entries before the concat operation.\n",
      "  finance_table = pd.concat([finance_table, temp_arranged])\n"
     ]
    },
    {
     "name": "stdout",
     "output_type": "stream",
     "text": [
      "265 / 2696\n",
      "266 / 2696\n"
     ]
    },
    {
     "name": "stderr",
     "output_type": "stream",
     "text": [
      "C:\\Users\\myhyu\\AppData\\Local\\Temp\\ipykernel_11084\\1729452186.py:25: FutureWarning: The behavior of DataFrame concatenation with empty or all-NA entries is deprecated. In a future version, this will no longer exclude empty or all-NA columns when determining the result dtypes. To retain the old behavior, exclude the relevant entries before the concat operation.\n",
      "  finance_table = pd.concat([finance_table, temp_arranged])\n"
     ]
    },
    {
     "name": "stdout",
     "output_type": "stream",
     "text": [
      "267 / 2696\n",
      "268 / 2696\n",
      "269 / 2696\n",
      "270 / 2696\n",
      "271 / 2696\n",
      "272 / 2696\n"
     ]
    },
    {
     "name": "stderr",
     "output_type": "stream",
     "text": [
      "C:\\Users\\myhyu\\AppData\\Local\\Temp\\ipykernel_11084\\1729452186.py:25: FutureWarning: The behavior of DataFrame concatenation with empty or all-NA entries is deprecated. In a future version, this will no longer exclude empty or all-NA columns when determining the result dtypes. To retain the old behavior, exclude the relevant entries before the concat operation.\n",
      "  finance_table = pd.concat([finance_table, temp_arranged])\n"
     ]
    },
    {
     "name": "stdout",
     "output_type": "stream",
     "text": [
      "273 / 2696\n",
      "274 / 2696\n"
     ]
    },
    {
     "name": "stderr",
     "output_type": "stream",
     "text": [
      "C:\\Users\\myhyu\\AppData\\Local\\Temp\\ipykernel_11084\\1729452186.py:25: FutureWarning: The behavior of DataFrame concatenation with empty or all-NA entries is deprecated. In a future version, this will no longer exclude empty or all-NA columns when determining the result dtypes. To retain the old behavior, exclude the relevant entries before the concat operation.\n",
      "  finance_table = pd.concat([finance_table, temp_arranged])\n"
     ]
    },
    {
     "name": "stdout",
     "output_type": "stream",
     "text": [
      "275 / 2696\n",
      "276 / 2696\n",
      "277 / 2696\n",
      "278 / 2696\n"
     ]
    },
    {
     "name": "stderr",
     "output_type": "stream",
     "text": [
      "C:\\Users\\myhyu\\AppData\\Local\\Temp\\ipykernel_11084\\1729452186.py:25: FutureWarning: The behavior of DataFrame concatenation with empty or all-NA entries is deprecated. In a future version, this will no longer exclude empty or all-NA columns when determining the result dtypes. To retain the old behavior, exclude the relevant entries before the concat operation.\n",
      "  finance_table = pd.concat([finance_table, temp_arranged])\n"
     ]
    },
    {
     "name": "stdout",
     "output_type": "stream",
     "text": [
      "279 / 2696\n"
     ]
    },
    {
     "name": "stderr",
     "output_type": "stream",
     "text": [
      "C:\\Users\\myhyu\\AppData\\Local\\Temp\\ipykernel_11084\\1729452186.py:25: FutureWarning: The behavior of DataFrame concatenation with empty or all-NA entries is deprecated. In a future version, this will no longer exclude empty or all-NA columns when determining the result dtypes. To retain the old behavior, exclude the relevant entries before the concat operation.\n",
      "  finance_table = pd.concat([finance_table, temp_arranged])\n"
     ]
    },
    {
     "name": "stdout",
     "output_type": "stream",
     "text": [
      "280 / 2696\n"
     ]
    },
    {
     "name": "stderr",
     "output_type": "stream",
     "text": [
      "C:\\Users\\myhyu\\AppData\\Local\\Temp\\ipykernel_11084\\1729452186.py:25: FutureWarning: The behavior of DataFrame concatenation with empty or all-NA entries is deprecated. In a future version, this will no longer exclude empty or all-NA columns when determining the result dtypes. To retain the old behavior, exclude the relevant entries before the concat operation.\n",
      "  finance_table = pd.concat([finance_table, temp_arranged])\n"
     ]
    },
    {
     "name": "stdout",
     "output_type": "stream",
     "text": [
      "281 / 2696\n",
      "282 / 2696\n",
      "283 / 2696\n",
      "284 / 2696\n",
      "285 / 2696\n",
      "286 / 2696\n",
      "287 / 2696\n",
      "288 / 2696\n",
      "289 / 2696\n"
     ]
    },
    {
     "name": "stderr",
     "output_type": "stream",
     "text": [
      "C:\\Users\\myhyu\\AppData\\Local\\Temp\\ipykernel_11084\\1729452186.py:25: FutureWarning: The behavior of DataFrame concatenation with empty or all-NA entries is deprecated. In a future version, this will no longer exclude empty or all-NA columns when determining the result dtypes. To retain the old behavior, exclude the relevant entries before the concat operation.\n",
      "  finance_table = pd.concat([finance_table, temp_arranged])\n"
     ]
    },
    {
     "name": "stdout",
     "output_type": "stream",
     "text": [
      "290 / 2696\n",
      "291 / 2696\n",
      "292 / 2696\n",
      "293 / 2696\n",
      "294 / 2696\n",
      "295 / 2696\n",
      "296 / 2696\n",
      "297 / 2696\n",
      "298 / 2696\n",
      "299 / 2696\n",
      "300 / 2696\n",
      "301 / 2696\n"
     ]
    },
    {
     "name": "stderr",
     "output_type": "stream",
     "text": [
      "C:\\Users\\myhyu\\AppData\\Local\\Temp\\ipykernel_11084\\1729452186.py:25: FutureWarning: The behavior of DataFrame concatenation with empty or all-NA entries is deprecated. In a future version, this will no longer exclude empty or all-NA columns when determining the result dtypes. To retain the old behavior, exclude the relevant entries before the concat operation.\n",
      "  finance_table = pd.concat([finance_table, temp_arranged])\n"
     ]
    },
    {
     "name": "stdout",
     "output_type": "stream",
     "text": [
      "302 / 2696\n",
      "303 / 2696\n",
      "304 / 2696\n"
     ]
    },
    {
     "name": "stderr",
     "output_type": "stream",
     "text": [
      "C:\\Users\\myhyu\\AppData\\Local\\Temp\\ipykernel_11084\\1729452186.py:25: FutureWarning: The behavior of DataFrame concatenation with empty or all-NA entries is deprecated. In a future version, this will no longer exclude empty or all-NA columns when determining the result dtypes. To retain the old behavior, exclude the relevant entries before the concat operation.\n",
      "  finance_table = pd.concat([finance_table, temp_arranged])\n"
     ]
    },
    {
     "name": "stdout",
     "output_type": "stream",
     "text": [
      "305 / 2696\n",
      "306 / 2696\n",
      "307 / 2696\n",
      "308 / 2696\n",
      "309 / 2696\n",
      "310 / 2696\n",
      "311 / 2696\n",
      "312 / 2696\n"
     ]
    },
    {
     "name": "stderr",
     "output_type": "stream",
     "text": [
      "C:\\Users\\myhyu\\AppData\\Local\\Temp\\ipykernel_11084\\1729452186.py:25: FutureWarning: The behavior of DataFrame concatenation with empty or all-NA entries is deprecated. In a future version, this will no longer exclude empty or all-NA columns when determining the result dtypes. To retain the old behavior, exclude the relevant entries before the concat operation.\n",
      "  finance_table = pd.concat([finance_table, temp_arranged])\n"
     ]
    },
    {
     "name": "stdout",
     "output_type": "stream",
     "text": [
      "313 / 2696\n",
      "314 / 2696\n",
      "315 / 2696\n",
      "316 / 2696\n",
      "317 / 2696\n",
      "318 / 2696\n",
      "319 / 2696\n",
      "320 / 2696\n",
      "321 / 2696\n",
      "322 / 2696\n",
      "323 / 2696\n"
     ]
    },
    {
     "name": "stderr",
     "output_type": "stream",
     "text": [
      "C:\\Users\\myhyu\\AppData\\Local\\Temp\\ipykernel_11084\\1729452186.py:25: FutureWarning: The behavior of DataFrame concatenation with empty or all-NA entries is deprecated. In a future version, this will no longer exclude empty or all-NA columns when determining the result dtypes. To retain the old behavior, exclude the relevant entries before the concat operation.\n",
      "  finance_table = pd.concat([finance_table, temp_arranged])\n"
     ]
    },
    {
     "name": "stdout",
     "output_type": "stream",
     "text": [
      "324 / 2696\n",
      "325 / 2696\n",
      "326 / 2696\n",
      "327 / 2696\n",
      "328 / 2696\n",
      "329 / 2696\n",
      "330 / 2696\n",
      "331 / 2696\n",
      "332 / 2696\n"
     ]
    },
    {
     "name": "stderr",
     "output_type": "stream",
     "text": [
      "C:\\Users\\myhyu\\AppData\\Local\\Temp\\ipykernel_11084\\1729452186.py:25: FutureWarning: The behavior of DataFrame concatenation with empty or all-NA entries is deprecated. In a future version, this will no longer exclude empty or all-NA columns when determining the result dtypes. To retain the old behavior, exclude the relevant entries before the concat operation.\n",
      "  finance_table = pd.concat([finance_table, temp_arranged])\n"
     ]
    },
    {
     "name": "stdout",
     "output_type": "stream",
     "text": [
      "333 / 2696\n",
      "334 / 2696\n"
     ]
    },
    {
     "name": "stderr",
     "output_type": "stream",
     "text": [
      "C:\\Users\\myhyu\\AppData\\Local\\Temp\\ipykernel_11084\\1729452186.py:25: FutureWarning: The behavior of DataFrame concatenation with empty or all-NA entries is deprecated. In a future version, this will no longer exclude empty or all-NA columns when determining the result dtypes. To retain the old behavior, exclude the relevant entries before the concat operation.\n",
      "  finance_table = pd.concat([finance_table, temp_arranged])\n"
     ]
    },
    {
     "name": "stdout",
     "output_type": "stream",
     "text": [
      "335 / 2696\n"
     ]
    },
    {
     "name": "stderr",
     "output_type": "stream",
     "text": [
      "C:\\Users\\myhyu\\AppData\\Local\\Temp\\ipykernel_11084\\1729452186.py:25: FutureWarning: The behavior of DataFrame concatenation with empty or all-NA entries is deprecated. In a future version, this will no longer exclude empty or all-NA columns when determining the result dtypes. To retain the old behavior, exclude the relevant entries before the concat operation.\n",
      "  finance_table = pd.concat([finance_table, temp_arranged])\n"
     ]
    },
    {
     "name": "stdout",
     "output_type": "stream",
     "text": [
      "336 / 2696\n",
      "337 / 2696\n",
      "338 / 2696\n",
      "339 / 2696\n",
      "340 / 2696\n",
      "341 / 2696\n",
      "342 / 2696\n",
      "343 / 2696\n"
     ]
    },
    {
     "name": "stderr",
     "output_type": "stream",
     "text": [
      "C:\\Users\\myhyu\\AppData\\Local\\Temp\\ipykernel_11084\\1729452186.py:25: FutureWarning: The behavior of DataFrame concatenation with empty or all-NA entries is deprecated. In a future version, this will no longer exclude empty or all-NA columns when determining the result dtypes. To retain the old behavior, exclude the relevant entries before the concat operation.\n",
      "  finance_table = pd.concat([finance_table, temp_arranged])\n"
     ]
    },
    {
     "name": "stdout",
     "output_type": "stream",
     "text": [
      "344 / 2696\n",
      "345 / 2696\n",
      "346 / 2696\n",
      "347 / 2696\n",
      "348 / 2696\n",
      "349 / 2696\n",
      "350 / 2696\n"
     ]
    },
    {
     "name": "stderr",
     "output_type": "stream",
     "text": [
      "C:\\Users\\myhyu\\AppData\\Local\\Temp\\ipykernel_11084\\1729452186.py:25: FutureWarning: The behavior of DataFrame concatenation with empty or all-NA entries is deprecated. In a future version, this will no longer exclude empty or all-NA columns when determining the result dtypes. To retain the old behavior, exclude the relevant entries before the concat operation.\n",
      "  finance_table = pd.concat([finance_table, temp_arranged])\n"
     ]
    },
    {
     "name": "stdout",
     "output_type": "stream",
     "text": [
      "351 / 2696\n",
      "352 / 2696\n",
      "353 / 2696\n",
      "354 / 2696\n"
     ]
    },
    {
     "name": "stderr",
     "output_type": "stream",
     "text": [
      "C:\\Users\\myhyu\\AppData\\Local\\Temp\\ipykernel_11084\\1729452186.py:25: FutureWarning: The behavior of DataFrame concatenation with empty or all-NA entries is deprecated. In a future version, this will no longer exclude empty or all-NA columns when determining the result dtypes. To retain the old behavior, exclude the relevant entries before the concat operation.\n",
      "  finance_table = pd.concat([finance_table, temp_arranged])\n"
     ]
    },
    {
     "name": "stdout",
     "output_type": "stream",
     "text": [
      "355 / 2696\n",
      "356 / 2696\n"
     ]
    },
    {
     "name": "stderr",
     "output_type": "stream",
     "text": [
      "C:\\Users\\myhyu\\AppData\\Local\\Temp\\ipykernel_11084\\1729452186.py:25: FutureWarning: The behavior of DataFrame concatenation with empty or all-NA entries is deprecated. In a future version, this will no longer exclude empty or all-NA columns when determining the result dtypes. To retain the old behavior, exclude the relevant entries before the concat operation.\n",
      "  finance_table = pd.concat([finance_table, temp_arranged])\n"
     ]
    },
    {
     "name": "stdout",
     "output_type": "stream",
     "text": [
      "357 / 2696\n"
     ]
    },
    {
     "name": "stderr",
     "output_type": "stream",
     "text": [
      "C:\\Users\\myhyu\\AppData\\Local\\Temp\\ipykernel_11084\\1729452186.py:25: FutureWarning: The behavior of DataFrame concatenation with empty or all-NA entries is deprecated. In a future version, this will no longer exclude empty or all-NA columns when determining the result dtypes. To retain the old behavior, exclude the relevant entries before the concat operation.\n",
      "  finance_table = pd.concat([finance_table, temp_arranged])\n"
     ]
    },
    {
     "name": "stdout",
     "output_type": "stream",
     "text": [
      "358 / 2696\n",
      "359 / 2696\n",
      "360 / 2696\n",
      "361 / 2696\n",
      "362 / 2696\n",
      "363 / 2696\n",
      "364 / 2696\n",
      "365 / 2696\n",
      "366 / 2696\n",
      "367 / 2696\n",
      "368 / 2696\n",
      "369 / 2696\n",
      "370 / 2696\n"
     ]
    },
    {
     "name": "stderr",
     "output_type": "stream",
     "text": [
      "C:\\Users\\myhyu\\AppData\\Local\\Temp\\ipykernel_11084\\1729452186.py:25: FutureWarning: The behavior of DataFrame concatenation with empty or all-NA entries is deprecated. In a future version, this will no longer exclude empty or all-NA columns when determining the result dtypes. To retain the old behavior, exclude the relevant entries before the concat operation.\n",
      "  finance_table = pd.concat([finance_table, temp_arranged])\n"
     ]
    },
    {
     "name": "stdout",
     "output_type": "stream",
     "text": [
      "371 / 2696\n",
      "372 / 2696\n",
      "373 / 2696\n",
      "374 / 2696\n",
      "375 / 2696\n",
      "376 / 2696\n",
      "377 / 2696\n"
     ]
    },
    {
     "name": "stderr",
     "output_type": "stream",
     "text": [
      "C:\\Users\\myhyu\\AppData\\Local\\Temp\\ipykernel_11084\\1729452186.py:25: FutureWarning: The behavior of DataFrame concatenation with empty or all-NA entries is deprecated. In a future version, this will no longer exclude empty or all-NA columns when determining the result dtypes. To retain the old behavior, exclude the relevant entries before the concat operation.\n",
      "  finance_table = pd.concat([finance_table, temp_arranged])\n"
     ]
    },
    {
     "name": "stdout",
     "output_type": "stream",
     "text": [
      "378 / 2696\n",
      "379 / 2696\n"
     ]
    },
    {
     "name": "stderr",
     "output_type": "stream",
     "text": [
      "C:\\Users\\myhyu\\AppData\\Local\\Temp\\ipykernel_11084\\1729452186.py:25: FutureWarning: The behavior of DataFrame concatenation with empty or all-NA entries is deprecated. In a future version, this will no longer exclude empty or all-NA columns when determining the result dtypes. To retain the old behavior, exclude the relevant entries before the concat operation.\n",
      "  finance_table = pd.concat([finance_table, temp_arranged])\n"
     ]
    },
    {
     "name": "stdout",
     "output_type": "stream",
     "text": [
      "380 / 2696\n",
      "381 / 2696\n",
      "382 / 2696\n",
      "383 / 2696\n",
      "384 / 2696\n",
      "385 / 2696\n"
     ]
    },
    {
     "name": "stderr",
     "output_type": "stream",
     "text": [
      "C:\\Users\\myhyu\\AppData\\Local\\Temp\\ipykernel_11084\\1729452186.py:25: FutureWarning: The behavior of DataFrame concatenation with empty or all-NA entries is deprecated. In a future version, this will no longer exclude empty or all-NA columns when determining the result dtypes. To retain the old behavior, exclude the relevant entries before the concat operation.\n",
      "  finance_table = pd.concat([finance_table, temp_arranged])\n"
     ]
    },
    {
     "name": "stdout",
     "output_type": "stream",
     "text": [
      "386 / 2696\n"
     ]
    },
    {
     "name": "stderr",
     "output_type": "stream",
     "text": [
      "C:\\Users\\myhyu\\AppData\\Local\\Temp\\ipykernel_11084\\1729452186.py:25: FutureWarning: The behavior of DataFrame concatenation with empty or all-NA entries is deprecated. In a future version, this will no longer exclude empty or all-NA columns when determining the result dtypes. To retain the old behavior, exclude the relevant entries before the concat operation.\n",
      "  finance_table = pd.concat([finance_table, temp_arranged])\n"
     ]
    },
    {
     "name": "stdout",
     "output_type": "stream",
     "text": [
      "387 / 2696\n"
     ]
    },
    {
     "name": "stderr",
     "output_type": "stream",
     "text": [
      "C:\\Users\\myhyu\\AppData\\Local\\Temp\\ipykernel_11084\\1729452186.py:25: FutureWarning: The behavior of DataFrame concatenation with empty or all-NA entries is deprecated. In a future version, this will no longer exclude empty or all-NA columns when determining the result dtypes. To retain the old behavior, exclude the relevant entries before the concat operation.\n",
      "  finance_table = pd.concat([finance_table, temp_arranged])\n"
     ]
    },
    {
     "name": "stdout",
     "output_type": "stream",
     "text": [
      "388 / 2696\n",
      "389 / 2696\n",
      "390 / 2696\n",
      "391 / 2696\n",
      "392 / 2696\n",
      "393 / 2696\n",
      "394 / 2696\n",
      "395 / 2696\n",
      "396 / 2696\n",
      "397 / 2696\n",
      "398 / 2696\n",
      "399 / 2696\n",
      "400 / 2696\n",
      "401 / 2696\n",
      "402 / 2696\n",
      "403 / 2696\n"
     ]
    },
    {
     "name": "stderr",
     "output_type": "stream",
     "text": [
      "C:\\Users\\myhyu\\AppData\\Local\\Temp\\ipykernel_11084\\1729452186.py:25: FutureWarning: The behavior of DataFrame concatenation with empty or all-NA entries is deprecated. In a future version, this will no longer exclude empty or all-NA columns when determining the result dtypes. To retain the old behavior, exclude the relevant entries before the concat operation.\n",
      "  finance_table = pd.concat([finance_table, temp_arranged])\n"
     ]
    },
    {
     "name": "stdout",
     "output_type": "stream",
     "text": [
      "404 / 2696\n"
     ]
    },
    {
     "name": "stderr",
     "output_type": "stream",
     "text": [
      "C:\\Users\\myhyu\\AppData\\Local\\Temp\\ipykernel_11084\\1729452186.py:25: FutureWarning: The behavior of DataFrame concatenation with empty or all-NA entries is deprecated. In a future version, this will no longer exclude empty or all-NA columns when determining the result dtypes. To retain the old behavior, exclude the relevant entries before the concat operation.\n",
      "  finance_table = pd.concat([finance_table, temp_arranged])\n"
     ]
    },
    {
     "name": "stdout",
     "output_type": "stream",
     "text": [
      "405 / 2696\n"
     ]
    },
    {
     "name": "stderr",
     "output_type": "stream",
     "text": [
      "C:\\Users\\myhyu\\AppData\\Local\\Temp\\ipykernel_11084\\1729452186.py:25: FutureWarning: The behavior of DataFrame concatenation with empty or all-NA entries is deprecated. In a future version, this will no longer exclude empty or all-NA columns when determining the result dtypes. To retain the old behavior, exclude the relevant entries before the concat operation.\n",
      "  finance_table = pd.concat([finance_table, temp_arranged])\n"
     ]
    },
    {
     "name": "stdout",
     "output_type": "stream",
     "text": [
      "406 / 2696\n"
     ]
    },
    {
     "name": "stderr",
     "output_type": "stream",
     "text": [
      "C:\\Users\\myhyu\\AppData\\Local\\Temp\\ipykernel_11084\\1729452186.py:25: FutureWarning: The behavior of DataFrame concatenation with empty or all-NA entries is deprecated. In a future version, this will no longer exclude empty or all-NA columns when determining the result dtypes. To retain the old behavior, exclude the relevant entries before the concat operation.\n",
      "  finance_table = pd.concat([finance_table, temp_arranged])\n"
     ]
    },
    {
     "name": "stdout",
     "output_type": "stream",
     "text": [
      "407 / 2696\n",
      "408 / 2696\n",
      "409 / 2696\n",
      "410 / 2696\n",
      "411 / 2696\n",
      "412 / 2696\n",
      "413 / 2696\n",
      "414 / 2696\n",
      "415 / 2696\n",
      "416 / 2696\n",
      "417 / 2696\n",
      "418 / 2696\n",
      "419 / 2696\n",
      "420 / 2696\n",
      "421 / 2696\n",
      "422 / 2696\n"
     ]
    },
    {
     "name": "stderr",
     "output_type": "stream",
     "text": [
      "C:\\Users\\myhyu\\AppData\\Local\\Temp\\ipykernel_11084\\1729452186.py:25: FutureWarning: The behavior of DataFrame concatenation with empty or all-NA entries is deprecated. In a future version, this will no longer exclude empty or all-NA columns when determining the result dtypes. To retain the old behavior, exclude the relevant entries before the concat operation.\n",
      "  finance_table = pd.concat([finance_table, temp_arranged])\n"
     ]
    },
    {
     "name": "stdout",
     "output_type": "stream",
     "text": [
      "423 / 2696\n"
     ]
    },
    {
     "name": "stderr",
     "output_type": "stream",
     "text": [
      "C:\\Users\\myhyu\\AppData\\Local\\Temp\\ipykernel_11084\\1729452186.py:25: FutureWarning: The behavior of DataFrame concatenation with empty or all-NA entries is deprecated. In a future version, this will no longer exclude empty or all-NA columns when determining the result dtypes. To retain the old behavior, exclude the relevant entries before the concat operation.\n",
      "  finance_table = pd.concat([finance_table, temp_arranged])\n"
     ]
    },
    {
     "name": "stdout",
     "output_type": "stream",
     "text": [
      "424 / 2696\n",
      "425 / 2696\n",
      "426 / 2696\n",
      "427 / 2696\n",
      "428 / 2696\n",
      "429 / 2696\n",
      "430 / 2696\n",
      "431 / 2696\n",
      "432 / 2696\n",
      "433 / 2696\n",
      "434 / 2696\n",
      "435 / 2696\n",
      "436 / 2696\n",
      "437 / 2696\n",
      "438 / 2696\n",
      "439 / 2696\n",
      "440 / 2696\n"
     ]
    },
    {
     "name": "stderr",
     "output_type": "stream",
     "text": [
      "C:\\Users\\myhyu\\AppData\\Local\\Temp\\ipykernel_11084\\1729452186.py:25: FutureWarning: The behavior of DataFrame concatenation with empty or all-NA entries is deprecated. In a future version, this will no longer exclude empty or all-NA columns when determining the result dtypes. To retain the old behavior, exclude the relevant entries before the concat operation.\n",
      "  finance_table = pd.concat([finance_table, temp_arranged])\n"
     ]
    },
    {
     "name": "stdout",
     "output_type": "stream",
     "text": [
      "441 / 2696\n",
      "442 / 2696\n",
      "443 / 2696\n"
     ]
    },
    {
     "name": "stderr",
     "output_type": "stream",
     "text": [
      "C:\\Users\\myhyu\\AppData\\Local\\Temp\\ipykernel_11084\\1729452186.py:25: FutureWarning: The behavior of DataFrame concatenation with empty or all-NA entries is deprecated. In a future version, this will no longer exclude empty or all-NA columns when determining the result dtypes. To retain the old behavior, exclude the relevant entries before the concat operation.\n",
      "  finance_table = pd.concat([finance_table, temp_arranged])\n"
     ]
    },
    {
     "name": "stdout",
     "output_type": "stream",
     "text": [
      "444 / 2696\n",
      "445 / 2696\n"
     ]
    },
    {
     "name": "stderr",
     "output_type": "stream",
     "text": [
      "C:\\Users\\myhyu\\AppData\\Local\\Temp\\ipykernel_11084\\1729452186.py:25: FutureWarning: The behavior of DataFrame concatenation with empty or all-NA entries is deprecated. In a future version, this will no longer exclude empty or all-NA columns when determining the result dtypes. To retain the old behavior, exclude the relevant entries before the concat operation.\n",
      "  finance_table = pd.concat([finance_table, temp_arranged])\n"
     ]
    },
    {
     "name": "stdout",
     "output_type": "stream",
     "text": [
      "446 / 2696\n",
      "447 / 2696\n",
      "448 / 2696\n"
     ]
    },
    {
     "name": "stderr",
     "output_type": "stream",
     "text": [
      "C:\\Users\\myhyu\\AppData\\Local\\Temp\\ipykernel_11084\\1729452186.py:25: FutureWarning: The behavior of DataFrame concatenation with empty or all-NA entries is deprecated. In a future version, this will no longer exclude empty or all-NA columns when determining the result dtypes. To retain the old behavior, exclude the relevant entries before the concat operation.\n",
      "  finance_table = pd.concat([finance_table, temp_arranged])\n"
     ]
    },
    {
     "name": "stdout",
     "output_type": "stream",
     "text": [
      "449 / 2696\n",
      "450 / 2696\n"
     ]
    },
    {
     "name": "stderr",
     "output_type": "stream",
     "text": [
      "C:\\Users\\myhyu\\AppData\\Local\\Temp\\ipykernel_11084\\1729452186.py:25: FutureWarning: The behavior of DataFrame concatenation with empty or all-NA entries is deprecated. In a future version, this will no longer exclude empty or all-NA columns when determining the result dtypes. To retain the old behavior, exclude the relevant entries before the concat operation.\n",
      "  finance_table = pd.concat([finance_table, temp_arranged])\n"
     ]
    },
    {
     "name": "stdout",
     "output_type": "stream",
     "text": [
      "451 / 2696\n",
      "452 / 2696\n",
      "453 / 2696\n"
     ]
    },
    {
     "name": "stderr",
     "output_type": "stream",
     "text": [
      "C:\\Users\\myhyu\\AppData\\Local\\Temp\\ipykernel_11084\\1729452186.py:25: FutureWarning: The behavior of DataFrame concatenation with empty or all-NA entries is deprecated. In a future version, this will no longer exclude empty or all-NA columns when determining the result dtypes. To retain the old behavior, exclude the relevant entries before the concat operation.\n",
      "  finance_table = pd.concat([finance_table, temp_arranged])\n"
     ]
    },
    {
     "name": "stdout",
     "output_type": "stream",
     "text": [
      "454 / 2696\n",
      "455 / 2696\n"
     ]
    },
    {
     "name": "stderr",
     "output_type": "stream",
     "text": [
      "C:\\Users\\myhyu\\AppData\\Local\\Temp\\ipykernel_11084\\1729452186.py:25: FutureWarning: The behavior of DataFrame concatenation with empty or all-NA entries is deprecated. In a future version, this will no longer exclude empty or all-NA columns when determining the result dtypes. To retain the old behavior, exclude the relevant entries before the concat operation.\n",
      "  finance_table = pd.concat([finance_table, temp_arranged])\n"
     ]
    },
    {
     "name": "stdout",
     "output_type": "stream",
     "text": [
      "456 / 2696\n"
     ]
    },
    {
     "name": "stderr",
     "output_type": "stream",
     "text": [
      "C:\\Users\\myhyu\\AppData\\Local\\Temp\\ipykernel_11084\\1729452186.py:25: FutureWarning: The behavior of DataFrame concatenation with empty or all-NA entries is deprecated. In a future version, this will no longer exclude empty or all-NA columns when determining the result dtypes. To retain the old behavior, exclude the relevant entries before the concat operation.\n",
      "  finance_table = pd.concat([finance_table, temp_arranged])\n"
     ]
    },
    {
     "name": "stdout",
     "output_type": "stream",
     "text": [
      "457 / 2696\n"
     ]
    },
    {
     "name": "stderr",
     "output_type": "stream",
     "text": [
      "C:\\Users\\myhyu\\AppData\\Local\\Temp\\ipykernel_11084\\1729452186.py:25: FutureWarning: The behavior of DataFrame concatenation with empty or all-NA entries is deprecated. In a future version, this will no longer exclude empty or all-NA columns when determining the result dtypes. To retain the old behavior, exclude the relevant entries before the concat operation.\n",
      "  finance_table = pd.concat([finance_table, temp_arranged])\n"
     ]
    },
    {
     "name": "stdout",
     "output_type": "stream",
     "text": [
      "458 / 2696\n",
      "459 / 2696\n",
      "460 / 2696\n"
     ]
    },
    {
     "name": "stderr",
     "output_type": "stream",
     "text": [
      "C:\\Users\\myhyu\\AppData\\Local\\Temp\\ipykernel_11084\\1729452186.py:25: FutureWarning: The behavior of DataFrame concatenation with empty or all-NA entries is deprecated. In a future version, this will no longer exclude empty or all-NA columns when determining the result dtypes. To retain the old behavior, exclude the relevant entries before the concat operation.\n",
      "  finance_table = pd.concat([finance_table, temp_arranged])\n"
     ]
    },
    {
     "name": "stdout",
     "output_type": "stream",
     "text": [
      "461 / 2696\n",
      "462 / 2696\n",
      "463 / 2696\n",
      "464 / 2696\n",
      "465 / 2696\n"
     ]
    },
    {
     "name": "stderr",
     "output_type": "stream",
     "text": [
      "C:\\Users\\myhyu\\AppData\\Local\\Temp\\ipykernel_11084\\1729452186.py:25: FutureWarning: The behavior of DataFrame concatenation with empty or all-NA entries is deprecated. In a future version, this will no longer exclude empty or all-NA columns when determining the result dtypes. To retain the old behavior, exclude the relevant entries before the concat operation.\n",
      "  finance_table = pd.concat([finance_table, temp_arranged])\n"
     ]
    },
    {
     "name": "stdout",
     "output_type": "stream",
     "text": [
      "466 / 2696\n",
      "467 / 2696\n",
      "468 / 2696\n",
      "469 / 2696\n",
      "470 / 2696\n",
      "471 / 2696\n",
      "472 / 2696\n",
      "473 / 2696\n",
      "474 / 2696\n",
      "475 / 2696\n",
      "476 / 2696\n",
      "477 / 2696\n",
      "478 / 2696\n",
      "479 / 2696\n",
      "480 / 2696\n",
      "481 / 2696\n",
      "482 / 2696\n",
      "483 / 2696\n"
     ]
    },
    {
     "name": "stderr",
     "output_type": "stream",
     "text": [
      "C:\\Users\\myhyu\\AppData\\Local\\Temp\\ipykernel_11084\\1729452186.py:25: FutureWarning: The behavior of DataFrame concatenation with empty or all-NA entries is deprecated. In a future version, this will no longer exclude empty or all-NA columns when determining the result dtypes. To retain the old behavior, exclude the relevant entries before the concat operation.\n",
      "  finance_table = pd.concat([finance_table, temp_arranged])\n"
     ]
    },
    {
     "name": "stdout",
     "output_type": "stream",
     "text": [
      "484 / 2696\n",
      "485 / 2696\n",
      "486 / 2696\n",
      "487 / 2696\n",
      "488 / 2696\n",
      "489 / 2696\n",
      "490 / 2696\n",
      "491 / 2696\n",
      "492 / 2696\n"
     ]
    },
    {
     "name": "stderr",
     "output_type": "stream",
     "text": [
      "C:\\Users\\myhyu\\AppData\\Local\\Temp\\ipykernel_11084\\1729452186.py:25: FutureWarning: The behavior of DataFrame concatenation with empty or all-NA entries is deprecated. In a future version, this will no longer exclude empty or all-NA columns when determining the result dtypes. To retain the old behavior, exclude the relevant entries before the concat operation.\n",
      "  finance_table = pd.concat([finance_table, temp_arranged])\n"
     ]
    },
    {
     "name": "stdout",
     "output_type": "stream",
     "text": [
      "493 / 2696\n",
      "494 / 2696\n",
      "495 / 2696\n",
      "496 / 2696\n",
      "497 / 2696\n"
     ]
    },
    {
     "name": "stderr",
     "output_type": "stream",
     "text": [
      "C:\\Users\\myhyu\\AppData\\Local\\Temp\\ipykernel_11084\\1729452186.py:25: FutureWarning: The behavior of DataFrame concatenation with empty or all-NA entries is deprecated. In a future version, this will no longer exclude empty or all-NA columns when determining the result dtypes. To retain the old behavior, exclude the relevant entries before the concat operation.\n",
      "  finance_table = pd.concat([finance_table, temp_arranged])\n"
     ]
    },
    {
     "name": "stdout",
     "output_type": "stream",
     "text": [
      "498 / 2696\n",
      "499 / 2696\n",
      "500 / 2696\n"
     ]
    },
    {
     "name": "stderr",
     "output_type": "stream",
     "text": [
      "C:\\Users\\myhyu\\AppData\\Local\\Temp\\ipykernel_11084\\1729452186.py:25: FutureWarning: The behavior of DataFrame concatenation with empty or all-NA entries is deprecated. In a future version, this will no longer exclude empty or all-NA columns when determining the result dtypes. To retain the old behavior, exclude the relevant entries before the concat operation.\n",
      "  finance_table = pd.concat([finance_table, temp_arranged])\n"
     ]
    },
    {
     "name": "stdout",
     "output_type": "stream",
     "text": [
      "501 / 2696\n",
      "502 / 2696\n",
      "503 / 2696\n",
      "504 / 2696\n",
      "505 / 2696\n"
     ]
    },
    {
     "name": "stderr",
     "output_type": "stream",
     "text": [
      "C:\\Users\\myhyu\\AppData\\Local\\Temp\\ipykernel_11084\\1729452186.py:25: FutureWarning: The behavior of DataFrame concatenation with empty or all-NA entries is deprecated. In a future version, this will no longer exclude empty or all-NA columns when determining the result dtypes. To retain the old behavior, exclude the relevant entries before the concat operation.\n",
      "  finance_table = pd.concat([finance_table, temp_arranged])\n"
     ]
    },
    {
     "name": "stdout",
     "output_type": "stream",
     "text": [
      "506 / 2696\n",
      "507 / 2696\n",
      "508 / 2696\n",
      "509 / 2696\n",
      "510 / 2696\n",
      "511 / 2696\n",
      "512 / 2696\n",
      "513 / 2696\n",
      "514 / 2696\n",
      "515 / 2696\n",
      "516 / 2696\n",
      "517 / 2696\n",
      "518 / 2696\n",
      "519 / 2696\n"
     ]
    },
    {
     "name": "stderr",
     "output_type": "stream",
     "text": [
      "C:\\Users\\myhyu\\AppData\\Local\\Temp\\ipykernel_11084\\1729452186.py:25: FutureWarning: The behavior of DataFrame concatenation with empty or all-NA entries is deprecated. In a future version, this will no longer exclude empty or all-NA columns when determining the result dtypes. To retain the old behavior, exclude the relevant entries before the concat operation.\n",
      "  finance_table = pd.concat([finance_table, temp_arranged])\n"
     ]
    },
    {
     "name": "stdout",
     "output_type": "stream",
     "text": [
      "520 / 2696\n"
     ]
    },
    {
     "name": "stderr",
     "output_type": "stream",
     "text": [
      "C:\\Users\\myhyu\\AppData\\Local\\Temp\\ipykernel_11084\\1729452186.py:25: FutureWarning: The behavior of DataFrame concatenation with empty or all-NA entries is deprecated. In a future version, this will no longer exclude empty or all-NA columns when determining the result dtypes. To retain the old behavior, exclude the relevant entries before the concat operation.\n",
      "  finance_table = pd.concat([finance_table, temp_arranged])\n"
     ]
    },
    {
     "name": "stdout",
     "output_type": "stream",
     "text": [
      "521 / 2696\n",
      "522 / 2696\n",
      "523 / 2696\n",
      "524 / 2696\n",
      "525 / 2696\n",
      "526 / 2696\n",
      "527 / 2696\n"
     ]
    },
    {
     "name": "stderr",
     "output_type": "stream",
     "text": [
      "C:\\Users\\myhyu\\AppData\\Local\\Temp\\ipykernel_11084\\1729452186.py:25: FutureWarning: The behavior of DataFrame concatenation with empty or all-NA entries is deprecated. In a future version, this will no longer exclude empty or all-NA columns when determining the result dtypes. To retain the old behavior, exclude the relevant entries before the concat operation.\n",
      "  finance_table = pd.concat([finance_table, temp_arranged])\n"
     ]
    },
    {
     "name": "stdout",
     "output_type": "stream",
     "text": [
      "528 / 2696\n",
      "529 / 2696\n",
      "530 / 2696\n",
      "531 / 2696\n",
      "532 / 2696\n",
      "533 / 2696\n",
      "534 / 2696\n",
      "535 / 2696\n",
      "536 / 2696\n",
      "537 / 2696\n",
      "538 / 2696\n",
      "539 / 2696\n",
      "540 / 2696\n",
      "541 / 2696\n",
      "542 / 2696\n"
     ]
    },
    {
     "name": "stderr",
     "output_type": "stream",
     "text": [
      "C:\\Users\\myhyu\\AppData\\Local\\Temp\\ipykernel_11084\\1729452186.py:25: FutureWarning: The behavior of DataFrame concatenation with empty or all-NA entries is deprecated. In a future version, this will no longer exclude empty or all-NA columns when determining the result dtypes. To retain the old behavior, exclude the relevant entries before the concat operation.\n",
      "  finance_table = pd.concat([finance_table, temp_arranged])\n"
     ]
    },
    {
     "name": "stdout",
     "output_type": "stream",
     "text": [
      "543 / 2696\n",
      "544 / 2696\n",
      "545 / 2696\n",
      "546 / 2696\n",
      "547 / 2696\n"
     ]
    },
    {
     "name": "stderr",
     "output_type": "stream",
     "text": [
      "C:\\Users\\myhyu\\AppData\\Local\\Temp\\ipykernel_11084\\1729452186.py:25: FutureWarning: The behavior of DataFrame concatenation with empty or all-NA entries is deprecated. In a future version, this will no longer exclude empty or all-NA columns when determining the result dtypes. To retain the old behavior, exclude the relevant entries before the concat operation.\n",
      "  finance_table = pd.concat([finance_table, temp_arranged])\n"
     ]
    },
    {
     "name": "stdout",
     "output_type": "stream",
     "text": [
      "548 / 2696\n"
     ]
    },
    {
     "name": "stderr",
     "output_type": "stream",
     "text": [
      "C:\\Users\\myhyu\\AppData\\Local\\Temp\\ipykernel_11084\\1729452186.py:25: FutureWarning: The behavior of DataFrame concatenation with empty or all-NA entries is deprecated. In a future version, this will no longer exclude empty or all-NA columns when determining the result dtypes. To retain the old behavior, exclude the relevant entries before the concat operation.\n",
      "  finance_table = pd.concat([finance_table, temp_arranged])\n"
     ]
    },
    {
     "name": "stdout",
     "output_type": "stream",
     "text": [
      "549 / 2696\n",
      "550 / 2696\n",
      "551 / 2696\n"
     ]
    },
    {
     "name": "stderr",
     "output_type": "stream",
     "text": [
      "C:\\Users\\myhyu\\AppData\\Local\\Temp\\ipykernel_11084\\1729452186.py:25: FutureWarning: The behavior of DataFrame concatenation with empty or all-NA entries is deprecated. In a future version, this will no longer exclude empty or all-NA columns when determining the result dtypes. To retain the old behavior, exclude the relevant entries before the concat operation.\n",
      "  finance_table = pd.concat([finance_table, temp_arranged])\n"
     ]
    },
    {
     "name": "stdout",
     "output_type": "stream",
     "text": [
      "552 / 2696\n",
      "553 / 2696\n",
      "554 / 2696\n",
      "555 / 2696\n",
      "556 / 2696\n",
      "557 / 2696\n",
      "558 / 2696\n",
      "559 / 2696\n",
      "560 / 2696\n",
      "561 / 2696\n"
     ]
    },
    {
     "name": "stderr",
     "output_type": "stream",
     "text": [
      "C:\\Users\\myhyu\\AppData\\Local\\Temp\\ipykernel_11084\\1729452186.py:25: FutureWarning: The behavior of DataFrame concatenation with empty or all-NA entries is deprecated. In a future version, this will no longer exclude empty or all-NA columns when determining the result dtypes. To retain the old behavior, exclude the relevant entries before the concat operation.\n",
      "  finance_table = pd.concat([finance_table, temp_arranged])\n"
     ]
    },
    {
     "name": "stdout",
     "output_type": "stream",
     "text": [
      "562 / 2696\n"
     ]
    },
    {
     "name": "stderr",
     "output_type": "stream",
     "text": [
      "C:\\Users\\myhyu\\AppData\\Local\\Temp\\ipykernel_11084\\1729452186.py:25: FutureWarning: The behavior of DataFrame concatenation with empty or all-NA entries is deprecated. In a future version, this will no longer exclude empty or all-NA columns when determining the result dtypes. To retain the old behavior, exclude the relevant entries before the concat operation.\n",
      "  finance_table = pd.concat([finance_table, temp_arranged])\n"
     ]
    },
    {
     "name": "stdout",
     "output_type": "stream",
     "text": [
      "563 / 2696\n",
      "564 / 2696\n"
     ]
    },
    {
     "name": "stderr",
     "output_type": "stream",
     "text": [
      "C:\\Users\\myhyu\\AppData\\Local\\Temp\\ipykernel_11084\\1729452186.py:25: FutureWarning: The behavior of DataFrame concatenation with empty or all-NA entries is deprecated. In a future version, this will no longer exclude empty or all-NA columns when determining the result dtypes. To retain the old behavior, exclude the relevant entries before the concat operation.\n",
      "  finance_table = pd.concat([finance_table, temp_arranged])\n"
     ]
    },
    {
     "name": "stdout",
     "output_type": "stream",
     "text": [
      "565 / 2696\n",
      "566 / 2696\n",
      "567 / 2696\n",
      "568 / 2696\n",
      "569 / 2696\n",
      "570 / 2696\n",
      "571 / 2696\n",
      "572 / 2696\n",
      "573 / 2696\n",
      "574 / 2696\n",
      "575 / 2696\n",
      "576 / 2696\n",
      "577 / 2696\n",
      "578 / 2696\n",
      "579 / 2696\n",
      "580 / 2696\n",
      "581 / 2696\n",
      "582 / 2696\n",
      "583 / 2696\n",
      "584 / 2696\n",
      "585 / 2696\n",
      "586 / 2696\n",
      "587 / 2696\n",
      "588 / 2696\n",
      "589 / 2696\n",
      "590 / 2696\n",
      "591 / 2696\n",
      "592 / 2696\n",
      "593 / 2696\n",
      "594 / 2696\n",
      "595 / 2696\n"
     ]
    },
    {
     "name": "stderr",
     "output_type": "stream",
     "text": [
      "C:\\Users\\myhyu\\AppData\\Local\\Temp\\ipykernel_11084\\1729452186.py:25: FutureWarning: The behavior of DataFrame concatenation with empty or all-NA entries is deprecated. In a future version, this will no longer exclude empty or all-NA columns when determining the result dtypes. To retain the old behavior, exclude the relevant entries before the concat operation.\n",
      "  finance_table = pd.concat([finance_table, temp_arranged])\n"
     ]
    },
    {
     "name": "stdout",
     "output_type": "stream",
     "text": [
      "596 / 2696\n",
      "597 / 2696\n",
      "598 / 2696\n",
      "599 / 2696\n",
      "600 / 2696\n",
      "601 / 2696\n",
      "602 / 2696\n",
      "603 / 2696\n",
      "604 / 2696\n",
      "605 / 2696\n",
      "606 / 2696\n",
      "607 / 2696\n",
      "608 / 2696\n",
      "609 / 2696\n",
      "610 / 2696\n",
      "611 / 2696\n",
      "612 / 2696\n",
      "613 / 2696\n"
     ]
    },
    {
     "name": "stderr",
     "output_type": "stream",
     "text": [
      "C:\\Users\\myhyu\\AppData\\Local\\Temp\\ipykernel_11084\\1729452186.py:25: FutureWarning: The behavior of DataFrame concatenation with empty or all-NA entries is deprecated. In a future version, this will no longer exclude empty or all-NA columns when determining the result dtypes. To retain the old behavior, exclude the relevant entries before the concat operation.\n",
      "  finance_table = pd.concat([finance_table, temp_arranged])\n"
     ]
    },
    {
     "name": "stdout",
     "output_type": "stream",
     "text": [
      "614 / 2696\n",
      "615 / 2696\n",
      "616 / 2696\n",
      "617 / 2696\n",
      "618 / 2696\n",
      "619 / 2696\n",
      "620 / 2696\n",
      "621 / 2696\n",
      "622 / 2696\n",
      "623 / 2696\n",
      "624 / 2696\n",
      "625 / 2696\n",
      "626 / 2696\n",
      "627 / 2696\n",
      "628 / 2696\n",
      "629 / 2696\n",
      "630 / 2696\n",
      "631 / 2696\n",
      "632 / 2696\n",
      "633 / 2696\n"
     ]
    },
    {
     "name": "stderr",
     "output_type": "stream",
     "text": [
      "C:\\Users\\myhyu\\AppData\\Local\\Temp\\ipykernel_11084\\1729452186.py:25: FutureWarning: The behavior of DataFrame concatenation with empty or all-NA entries is deprecated. In a future version, this will no longer exclude empty or all-NA columns when determining the result dtypes. To retain the old behavior, exclude the relevant entries before the concat operation.\n",
      "  finance_table = pd.concat([finance_table, temp_arranged])\n"
     ]
    },
    {
     "name": "stdout",
     "output_type": "stream",
     "text": [
      "634 / 2696\n"
     ]
    },
    {
     "name": "stderr",
     "output_type": "stream",
     "text": [
      "C:\\Users\\myhyu\\AppData\\Local\\Temp\\ipykernel_11084\\1729452186.py:25: FutureWarning: The behavior of DataFrame concatenation with empty or all-NA entries is deprecated. In a future version, this will no longer exclude empty or all-NA columns when determining the result dtypes. To retain the old behavior, exclude the relevant entries before the concat operation.\n",
      "  finance_table = pd.concat([finance_table, temp_arranged])\n"
     ]
    },
    {
     "name": "stdout",
     "output_type": "stream",
     "text": [
      "635 / 2696\n"
     ]
    },
    {
     "name": "stderr",
     "output_type": "stream",
     "text": [
      "C:\\Users\\myhyu\\AppData\\Local\\Temp\\ipykernel_11084\\1729452186.py:25: FutureWarning: The behavior of DataFrame concatenation with empty or all-NA entries is deprecated. In a future version, this will no longer exclude empty or all-NA columns when determining the result dtypes. To retain the old behavior, exclude the relevant entries before the concat operation.\n",
      "  finance_table = pd.concat([finance_table, temp_arranged])\n"
     ]
    },
    {
     "name": "stdout",
     "output_type": "stream",
     "text": [
      "636 / 2696\n",
      "637 / 2696\n"
     ]
    },
    {
     "name": "stderr",
     "output_type": "stream",
     "text": [
      "C:\\Users\\myhyu\\AppData\\Local\\Temp\\ipykernel_11084\\1729452186.py:25: FutureWarning: The behavior of DataFrame concatenation with empty or all-NA entries is deprecated. In a future version, this will no longer exclude empty or all-NA columns when determining the result dtypes. To retain the old behavior, exclude the relevant entries before the concat operation.\n",
      "  finance_table = pd.concat([finance_table, temp_arranged])\n"
     ]
    },
    {
     "name": "stdout",
     "output_type": "stream",
     "text": [
      "638 / 2696\n"
     ]
    },
    {
     "name": "stderr",
     "output_type": "stream",
     "text": [
      "C:\\Users\\myhyu\\AppData\\Local\\Temp\\ipykernel_11084\\1729452186.py:25: FutureWarning: The behavior of DataFrame concatenation with empty or all-NA entries is deprecated. In a future version, this will no longer exclude empty or all-NA columns when determining the result dtypes. To retain the old behavior, exclude the relevant entries before the concat operation.\n",
      "  finance_table = pd.concat([finance_table, temp_arranged])\n"
     ]
    },
    {
     "name": "stdout",
     "output_type": "stream",
     "text": [
      "639 / 2696\n"
     ]
    },
    {
     "name": "stderr",
     "output_type": "stream",
     "text": [
      "C:\\Users\\myhyu\\AppData\\Local\\Temp\\ipykernel_11084\\1729452186.py:25: FutureWarning: The behavior of DataFrame concatenation with empty or all-NA entries is deprecated. In a future version, this will no longer exclude empty or all-NA columns when determining the result dtypes. To retain the old behavior, exclude the relevant entries before the concat operation.\n",
      "  finance_table = pd.concat([finance_table, temp_arranged])\n"
     ]
    },
    {
     "name": "stdout",
     "output_type": "stream",
     "text": [
      "640 / 2696\n",
      "641 / 2696\n"
     ]
    },
    {
     "name": "stderr",
     "output_type": "stream",
     "text": [
      "C:\\Users\\myhyu\\AppData\\Local\\Temp\\ipykernel_11084\\1729452186.py:25: FutureWarning: The behavior of DataFrame concatenation with empty or all-NA entries is deprecated. In a future version, this will no longer exclude empty or all-NA columns when determining the result dtypes. To retain the old behavior, exclude the relevant entries before the concat operation.\n",
      "  finance_table = pd.concat([finance_table, temp_arranged])\n"
     ]
    },
    {
     "name": "stdout",
     "output_type": "stream",
     "text": [
      "642 / 2696\n"
     ]
    },
    {
     "name": "stderr",
     "output_type": "stream",
     "text": [
      "C:\\Users\\myhyu\\AppData\\Local\\Temp\\ipykernel_11084\\1729452186.py:25: FutureWarning: The behavior of DataFrame concatenation with empty or all-NA entries is deprecated. In a future version, this will no longer exclude empty or all-NA columns when determining the result dtypes. To retain the old behavior, exclude the relevant entries before the concat operation.\n",
      "  finance_table = pd.concat([finance_table, temp_arranged])\n"
     ]
    },
    {
     "name": "stdout",
     "output_type": "stream",
     "text": [
      "643 / 2696\n"
     ]
    },
    {
     "name": "stderr",
     "output_type": "stream",
     "text": [
      "C:\\Users\\myhyu\\AppData\\Local\\Temp\\ipykernel_11084\\1729452186.py:25: FutureWarning: The behavior of DataFrame concatenation with empty or all-NA entries is deprecated. In a future version, this will no longer exclude empty or all-NA columns when determining the result dtypes. To retain the old behavior, exclude the relevant entries before the concat operation.\n",
      "  finance_table = pd.concat([finance_table, temp_arranged])\n"
     ]
    },
    {
     "name": "stdout",
     "output_type": "stream",
     "text": [
      "644 / 2696\n",
      "645 / 2696\n",
      "646 / 2696\n",
      "647 / 2696\n",
      "648 / 2696\n",
      "649 / 2696\n",
      "650 / 2696\n",
      "651 / 2696\n",
      "652 / 2696\n",
      "653 / 2696\n",
      "654 / 2696\n",
      "655 / 2696\n",
      "656 / 2696\n",
      "657 / 2696\n",
      "658 / 2696\n",
      "659 / 2696\n",
      "660 / 2696\n",
      "661 / 2696\n",
      "662 / 2696\n",
      "663 / 2696\n",
      "664 / 2696\n",
      "665 / 2696\n",
      "666 / 2696\n",
      "667 / 2696\n",
      "668 / 2696\n",
      "669 / 2696\n",
      "670 / 2696\n",
      "671 / 2696\n",
      "672 / 2696\n",
      "673 / 2696\n",
      "674 / 2696\n",
      "675 / 2696\n"
     ]
    },
    {
     "name": "stderr",
     "output_type": "stream",
     "text": [
      "C:\\Users\\myhyu\\AppData\\Local\\Temp\\ipykernel_11084\\1729452186.py:25: FutureWarning: The behavior of DataFrame concatenation with empty or all-NA entries is deprecated. In a future version, this will no longer exclude empty or all-NA columns when determining the result dtypes. To retain the old behavior, exclude the relevant entries before the concat operation.\n",
      "  finance_table = pd.concat([finance_table, temp_arranged])\n"
     ]
    },
    {
     "name": "stdout",
     "output_type": "stream",
     "text": [
      "676 / 2696\n",
      "677 / 2696\n",
      "678 / 2696\n",
      "679 / 2696\n",
      "680 / 2696\n",
      "681 / 2696\n",
      "682 / 2696\n",
      "683 / 2696\n",
      "684 / 2696\n",
      "685 / 2696\n",
      "686 / 2696\n",
      "687 / 2696\n",
      "688 / 2696\n",
      "689 / 2696\n",
      "690 / 2696\n",
      "691 / 2696\n",
      "692 / 2696\n",
      "693 / 2696\n"
     ]
    },
    {
     "name": "stderr",
     "output_type": "stream",
     "text": [
      "C:\\Users\\myhyu\\AppData\\Local\\Temp\\ipykernel_11084\\1729452186.py:25: FutureWarning: The behavior of DataFrame concatenation with empty or all-NA entries is deprecated. In a future version, this will no longer exclude empty or all-NA columns when determining the result dtypes. To retain the old behavior, exclude the relevant entries before the concat operation.\n",
      "  finance_table = pd.concat([finance_table, temp_arranged])\n"
     ]
    },
    {
     "name": "stdout",
     "output_type": "stream",
     "text": [
      "694 / 2696\n",
      "695 / 2696\n",
      "696 / 2696\n",
      "697 / 2696\n",
      "698 / 2696\n",
      "699 / 2696\n",
      "700 / 2696\n",
      "701 / 2696\n",
      "702 / 2696\n",
      "703 / 2696\n",
      "704 / 2696\n",
      "705 / 2696\n",
      "706 / 2696\n",
      "707 / 2696\n",
      "708 / 2696\n",
      "709 / 2696\n",
      "710 / 2696\n",
      "711 / 2696\n",
      "712 / 2696\n",
      "713 / 2696\n",
      "714 / 2696\n",
      "715 / 2696\n",
      "716 / 2696\n",
      "717 / 2696\n",
      "718 / 2696\n"
     ]
    },
    {
     "name": "stderr",
     "output_type": "stream",
     "text": [
      "C:\\Users\\myhyu\\AppData\\Local\\Temp\\ipykernel_11084\\1729452186.py:25: FutureWarning: The behavior of DataFrame concatenation with empty or all-NA entries is deprecated. In a future version, this will no longer exclude empty or all-NA columns when determining the result dtypes. To retain the old behavior, exclude the relevant entries before the concat operation.\n",
      "  finance_table = pd.concat([finance_table, temp_arranged])\n"
     ]
    },
    {
     "name": "stdout",
     "output_type": "stream",
     "text": [
      "719 / 2696\n"
     ]
    },
    {
     "name": "stderr",
     "output_type": "stream",
     "text": [
      "C:\\Users\\myhyu\\AppData\\Local\\Temp\\ipykernel_11084\\1729452186.py:25: FutureWarning: The behavior of DataFrame concatenation with empty or all-NA entries is deprecated. In a future version, this will no longer exclude empty or all-NA columns when determining the result dtypes. To retain the old behavior, exclude the relevant entries before the concat operation.\n",
      "  finance_table = pd.concat([finance_table, temp_arranged])\n"
     ]
    },
    {
     "name": "stdout",
     "output_type": "stream",
     "text": [
      "720 / 2696\n",
      "721 / 2696\n",
      "722 / 2696\n",
      "723 / 2696\n",
      "724 / 2696\n",
      "725 / 2696\n"
     ]
    },
    {
     "name": "stderr",
     "output_type": "stream",
     "text": [
      "C:\\Users\\myhyu\\AppData\\Local\\Temp\\ipykernel_11084\\1729452186.py:25: FutureWarning: The behavior of DataFrame concatenation with empty or all-NA entries is deprecated. In a future version, this will no longer exclude empty or all-NA columns when determining the result dtypes. To retain the old behavior, exclude the relevant entries before the concat operation.\n",
      "  finance_table = pd.concat([finance_table, temp_arranged])\n"
     ]
    },
    {
     "name": "stdout",
     "output_type": "stream",
     "text": [
      "726 / 2696\n",
      "727 / 2696\n",
      "728 / 2696\n",
      "729 / 2696\n",
      "730 / 2696\n",
      "731 / 2696\n",
      "732 / 2696\n",
      "733 / 2696\n",
      "734 / 2696\n",
      "735 / 2696\n"
     ]
    },
    {
     "name": "stderr",
     "output_type": "stream",
     "text": [
      "C:\\Users\\myhyu\\AppData\\Local\\Temp\\ipykernel_11084\\1729452186.py:25: FutureWarning: The behavior of DataFrame concatenation with empty or all-NA entries is deprecated. In a future version, this will no longer exclude empty or all-NA columns when determining the result dtypes. To retain the old behavior, exclude the relevant entries before the concat operation.\n",
      "  finance_table = pd.concat([finance_table, temp_arranged])\n"
     ]
    },
    {
     "name": "stdout",
     "output_type": "stream",
     "text": [
      "736 / 2696\n",
      "737 / 2696\n"
     ]
    },
    {
     "name": "stderr",
     "output_type": "stream",
     "text": [
      "C:\\Users\\myhyu\\AppData\\Local\\Temp\\ipykernel_11084\\1729452186.py:25: FutureWarning: The behavior of DataFrame concatenation with empty or all-NA entries is deprecated. In a future version, this will no longer exclude empty or all-NA columns when determining the result dtypes. To retain the old behavior, exclude the relevant entries before the concat operation.\n",
      "  finance_table = pd.concat([finance_table, temp_arranged])\n"
     ]
    },
    {
     "name": "stdout",
     "output_type": "stream",
     "text": [
      "738 / 2696\n"
     ]
    },
    {
     "name": "stderr",
     "output_type": "stream",
     "text": [
      "C:\\Users\\myhyu\\AppData\\Local\\Temp\\ipykernel_11084\\1729452186.py:25: FutureWarning: The behavior of DataFrame concatenation with empty or all-NA entries is deprecated. In a future version, this will no longer exclude empty or all-NA columns when determining the result dtypes. To retain the old behavior, exclude the relevant entries before the concat operation.\n",
      "  finance_table = pd.concat([finance_table, temp_arranged])\n"
     ]
    },
    {
     "name": "stdout",
     "output_type": "stream",
     "text": [
      "739 / 2696\n",
      "740 / 2696\n",
      "741 / 2696\n",
      "742 / 2696\n",
      "743 / 2696\n",
      "744 / 2696\n",
      "745 / 2696\n",
      "746 / 2696\n",
      "747 / 2696\n"
     ]
    },
    {
     "name": "stderr",
     "output_type": "stream",
     "text": [
      "C:\\Users\\myhyu\\AppData\\Local\\Temp\\ipykernel_11084\\1729452186.py:25: FutureWarning: The behavior of DataFrame concatenation with empty or all-NA entries is deprecated. In a future version, this will no longer exclude empty or all-NA columns when determining the result dtypes. To retain the old behavior, exclude the relevant entries before the concat operation.\n",
      "  finance_table = pd.concat([finance_table, temp_arranged])\n"
     ]
    },
    {
     "name": "stdout",
     "output_type": "stream",
     "text": [
      "748 / 2696\n",
      "749 / 2696\n"
     ]
    },
    {
     "name": "stderr",
     "output_type": "stream",
     "text": [
      "C:\\Users\\myhyu\\AppData\\Local\\Temp\\ipykernel_11084\\1729452186.py:25: FutureWarning: The behavior of DataFrame concatenation with empty or all-NA entries is deprecated. In a future version, this will no longer exclude empty or all-NA columns when determining the result dtypes. To retain the old behavior, exclude the relevant entries before the concat operation.\n",
      "  finance_table = pd.concat([finance_table, temp_arranged])\n"
     ]
    },
    {
     "name": "stdout",
     "output_type": "stream",
     "text": [
      "750 / 2696\n"
     ]
    },
    {
     "name": "stderr",
     "output_type": "stream",
     "text": [
      "C:\\Users\\myhyu\\AppData\\Local\\Temp\\ipykernel_11084\\1729452186.py:25: FutureWarning: The behavior of DataFrame concatenation with empty or all-NA entries is deprecated. In a future version, this will no longer exclude empty or all-NA columns when determining the result dtypes. To retain the old behavior, exclude the relevant entries before the concat operation.\n",
      "  finance_table = pd.concat([finance_table, temp_arranged])\n"
     ]
    },
    {
     "name": "stdout",
     "output_type": "stream",
     "text": [
      "751 / 2696\n",
      "752 / 2696\n"
     ]
    },
    {
     "name": "stderr",
     "output_type": "stream",
     "text": [
      "C:\\Users\\myhyu\\AppData\\Local\\Temp\\ipykernel_11084\\1729452186.py:25: FutureWarning: The behavior of DataFrame concatenation with empty or all-NA entries is deprecated. In a future version, this will no longer exclude empty or all-NA columns when determining the result dtypes. To retain the old behavior, exclude the relevant entries before the concat operation.\n",
      "  finance_table = pd.concat([finance_table, temp_arranged])\n"
     ]
    },
    {
     "name": "stdout",
     "output_type": "stream",
     "text": [
      "753 / 2696\n",
      "754 / 2696\n",
      "755 / 2696\n",
      "756 / 2696\n",
      "757 / 2696\n",
      "758 / 2696\n",
      "759 / 2696\n",
      "760 / 2696\n"
     ]
    },
    {
     "name": "stderr",
     "output_type": "stream",
     "text": [
      "C:\\Users\\myhyu\\AppData\\Local\\Temp\\ipykernel_11084\\1729452186.py:25: FutureWarning: The behavior of DataFrame concatenation with empty or all-NA entries is deprecated. In a future version, this will no longer exclude empty or all-NA columns when determining the result dtypes. To retain the old behavior, exclude the relevant entries before the concat operation.\n",
      "  finance_table = pd.concat([finance_table, temp_arranged])\n"
     ]
    },
    {
     "name": "stdout",
     "output_type": "stream",
     "text": [
      "761 / 2696\n",
      "762 / 2696\n"
     ]
    },
    {
     "name": "stderr",
     "output_type": "stream",
     "text": [
      "C:\\Users\\myhyu\\AppData\\Local\\Temp\\ipykernel_11084\\1729452186.py:25: FutureWarning: The behavior of DataFrame concatenation with empty or all-NA entries is deprecated. In a future version, this will no longer exclude empty or all-NA columns when determining the result dtypes. To retain the old behavior, exclude the relevant entries before the concat operation.\n",
      "  finance_table = pd.concat([finance_table, temp_arranged])\n"
     ]
    },
    {
     "name": "stdout",
     "output_type": "stream",
     "text": [
      "763 / 2696\n",
      "764 / 2696\n",
      "765 / 2696\n"
     ]
    },
    {
     "name": "stderr",
     "output_type": "stream",
     "text": [
      "C:\\Users\\myhyu\\AppData\\Local\\Temp\\ipykernel_11084\\1729452186.py:25: FutureWarning: The behavior of DataFrame concatenation with empty or all-NA entries is deprecated. In a future version, this will no longer exclude empty or all-NA columns when determining the result dtypes. To retain the old behavior, exclude the relevant entries before the concat operation.\n",
      "  finance_table = pd.concat([finance_table, temp_arranged])\n"
     ]
    },
    {
     "name": "stdout",
     "output_type": "stream",
     "text": [
      "766 / 2696\n",
      "767 / 2696\n",
      "768 / 2696\n",
      "769 / 2696\n",
      "770 / 2696\n",
      "771 / 2696\n",
      "772 / 2696\n"
     ]
    },
    {
     "name": "stderr",
     "output_type": "stream",
     "text": [
      "C:\\Users\\myhyu\\AppData\\Local\\Temp\\ipykernel_11084\\1729452186.py:25: FutureWarning: The behavior of DataFrame concatenation with empty or all-NA entries is deprecated. In a future version, this will no longer exclude empty or all-NA columns when determining the result dtypes. To retain the old behavior, exclude the relevant entries before the concat operation.\n",
      "  finance_table = pd.concat([finance_table, temp_arranged])\n"
     ]
    },
    {
     "name": "stdout",
     "output_type": "stream",
     "text": [
      "773 / 2696\n",
      "774 / 2696\n"
     ]
    },
    {
     "name": "stderr",
     "output_type": "stream",
     "text": [
      "C:\\Users\\myhyu\\AppData\\Local\\Temp\\ipykernel_11084\\1729452186.py:25: FutureWarning: The behavior of DataFrame concatenation with empty or all-NA entries is deprecated. In a future version, this will no longer exclude empty or all-NA columns when determining the result dtypes. To retain the old behavior, exclude the relevant entries before the concat operation.\n",
      "  finance_table = pd.concat([finance_table, temp_arranged])\n"
     ]
    },
    {
     "name": "stdout",
     "output_type": "stream",
     "text": [
      "775 / 2696\n"
     ]
    },
    {
     "name": "stderr",
     "output_type": "stream",
     "text": [
      "C:\\Users\\myhyu\\AppData\\Local\\Temp\\ipykernel_11084\\1729452186.py:25: FutureWarning: The behavior of DataFrame concatenation with empty or all-NA entries is deprecated. In a future version, this will no longer exclude empty or all-NA columns when determining the result dtypes. To retain the old behavior, exclude the relevant entries before the concat operation.\n",
      "  finance_table = pd.concat([finance_table, temp_arranged])\n"
     ]
    },
    {
     "name": "stdout",
     "output_type": "stream",
     "text": [
      "776 / 2696\n",
      "777 / 2696\n",
      "778 / 2696\n",
      "779 / 2696\n",
      "780 / 2696\n",
      "781 / 2696\n"
     ]
    },
    {
     "name": "stderr",
     "output_type": "stream",
     "text": [
      "C:\\Users\\myhyu\\AppData\\Local\\Temp\\ipykernel_11084\\1729452186.py:25: FutureWarning: The behavior of DataFrame concatenation with empty or all-NA entries is deprecated. In a future version, this will no longer exclude empty or all-NA columns when determining the result dtypes. To retain the old behavior, exclude the relevant entries before the concat operation.\n",
      "  finance_table = pd.concat([finance_table, temp_arranged])\n"
     ]
    },
    {
     "name": "stdout",
     "output_type": "stream",
     "text": [
      "782 / 2696\n",
      "783 / 2696\n",
      "784 / 2696\n",
      "785 / 2696\n",
      "786 / 2696\n",
      "787 / 2696\n",
      "788 / 2696\n",
      "789 / 2696\n"
     ]
    },
    {
     "name": "stderr",
     "output_type": "stream",
     "text": [
      "C:\\Users\\myhyu\\AppData\\Local\\Temp\\ipykernel_11084\\1729452186.py:25: FutureWarning: The behavior of DataFrame concatenation with empty or all-NA entries is deprecated. In a future version, this will no longer exclude empty or all-NA columns when determining the result dtypes. To retain the old behavior, exclude the relevant entries before the concat operation.\n",
      "  finance_table = pd.concat([finance_table, temp_arranged])\n"
     ]
    },
    {
     "name": "stdout",
     "output_type": "stream",
     "text": [
      "790 / 2696\n",
      "791 / 2696\n",
      "792 / 2696\n",
      "793 / 2696\n",
      "794 / 2696\n",
      "795 / 2696\n",
      "796 / 2696\n",
      "797 / 2696\n",
      "798 / 2696\n",
      "799 / 2696\n",
      "800 / 2696\n",
      "801 / 2696\n",
      "802 / 2696\n",
      "803 / 2696\n"
     ]
    },
    {
     "name": "stderr",
     "output_type": "stream",
     "text": [
      "C:\\Users\\myhyu\\AppData\\Local\\Temp\\ipykernel_11084\\1729452186.py:25: FutureWarning: The behavior of DataFrame concatenation with empty or all-NA entries is deprecated. In a future version, this will no longer exclude empty or all-NA columns when determining the result dtypes. To retain the old behavior, exclude the relevant entries before the concat operation.\n",
      "  finance_table = pd.concat([finance_table, temp_arranged])\n"
     ]
    },
    {
     "name": "stdout",
     "output_type": "stream",
     "text": [
      "804 / 2696\n",
      "805 / 2696\n",
      "806 / 2696\n",
      "807 / 2696\n",
      "808 / 2696\n",
      "809 / 2696\n",
      "810 / 2696\n"
     ]
    },
    {
     "name": "stderr",
     "output_type": "stream",
     "text": [
      "C:\\Users\\myhyu\\AppData\\Local\\Temp\\ipykernel_11084\\1729452186.py:25: FutureWarning: The behavior of DataFrame concatenation with empty or all-NA entries is deprecated. In a future version, this will no longer exclude empty or all-NA columns when determining the result dtypes. To retain the old behavior, exclude the relevant entries before the concat operation.\n",
      "  finance_table = pd.concat([finance_table, temp_arranged])\n"
     ]
    },
    {
     "name": "stdout",
     "output_type": "stream",
     "text": [
      "811 / 2696\n",
      "812 / 2696\n"
     ]
    },
    {
     "name": "stderr",
     "output_type": "stream",
     "text": [
      "C:\\Users\\myhyu\\AppData\\Local\\Temp\\ipykernel_11084\\1729452186.py:25: FutureWarning: The behavior of DataFrame concatenation with empty or all-NA entries is deprecated. In a future version, this will no longer exclude empty or all-NA columns when determining the result dtypes. To retain the old behavior, exclude the relevant entries before the concat operation.\n",
      "  finance_table = pd.concat([finance_table, temp_arranged])\n"
     ]
    },
    {
     "name": "stdout",
     "output_type": "stream",
     "text": [
      "813 / 2696\n"
     ]
    },
    {
     "name": "stderr",
     "output_type": "stream",
     "text": [
      "C:\\Users\\myhyu\\AppData\\Local\\Temp\\ipykernel_11084\\1729452186.py:25: FutureWarning: The behavior of DataFrame concatenation with empty or all-NA entries is deprecated. In a future version, this will no longer exclude empty or all-NA columns when determining the result dtypes. To retain the old behavior, exclude the relevant entries before the concat operation.\n",
      "  finance_table = pd.concat([finance_table, temp_arranged])\n"
     ]
    },
    {
     "name": "stdout",
     "output_type": "stream",
     "text": [
      "814 / 2696\n",
      "815 / 2696\n",
      "816 / 2696\n"
     ]
    },
    {
     "name": "stderr",
     "output_type": "stream",
     "text": [
      "C:\\Users\\myhyu\\AppData\\Local\\Temp\\ipykernel_11084\\1729452186.py:25: FutureWarning: The behavior of DataFrame concatenation with empty or all-NA entries is deprecated. In a future version, this will no longer exclude empty or all-NA columns when determining the result dtypes. To retain the old behavior, exclude the relevant entries before the concat operation.\n",
      "  finance_table = pd.concat([finance_table, temp_arranged])\n"
     ]
    },
    {
     "name": "stdout",
     "output_type": "stream",
     "text": [
      "817 / 2696\n"
     ]
    },
    {
     "name": "stderr",
     "output_type": "stream",
     "text": [
      "C:\\Users\\myhyu\\AppData\\Local\\Temp\\ipykernel_11084\\1729452186.py:25: FutureWarning: The behavior of DataFrame concatenation with empty or all-NA entries is deprecated. In a future version, this will no longer exclude empty or all-NA columns when determining the result dtypes. To retain the old behavior, exclude the relevant entries before the concat operation.\n",
      "  finance_table = pd.concat([finance_table, temp_arranged])\n"
     ]
    },
    {
     "name": "stdout",
     "output_type": "stream",
     "text": [
      "818 / 2696\n",
      "819 / 2696\n",
      "820 / 2696\n",
      "821 / 2696\n",
      "822 / 2696\n",
      "823 / 2696\n",
      "824 / 2696\n",
      "825 / 2696\n"
     ]
    },
    {
     "name": "stderr",
     "output_type": "stream",
     "text": [
      "C:\\Users\\myhyu\\AppData\\Local\\Temp\\ipykernel_11084\\1729452186.py:25: FutureWarning: The behavior of DataFrame concatenation with empty or all-NA entries is deprecated. In a future version, this will no longer exclude empty or all-NA columns when determining the result dtypes. To retain the old behavior, exclude the relevant entries before the concat operation.\n",
      "  finance_table = pd.concat([finance_table, temp_arranged])\n"
     ]
    },
    {
     "name": "stdout",
     "output_type": "stream",
     "text": [
      "826 / 2696\n",
      "827 / 2696\n",
      "828 / 2696\n",
      "829 / 2696\n",
      "830 / 2696\n",
      "831 / 2696\n",
      "832 / 2696\n",
      "833 / 2696\n",
      "834 / 2696\n",
      "835 / 2696\n",
      "836 / 2696\n"
     ]
    },
    {
     "name": "stderr",
     "output_type": "stream",
     "text": [
      "C:\\Users\\myhyu\\AppData\\Local\\Temp\\ipykernel_11084\\1729452186.py:25: FutureWarning: The behavior of DataFrame concatenation with empty or all-NA entries is deprecated. In a future version, this will no longer exclude empty or all-NA columns when determining the result dtypes. To retain the old behavior, exclude the relevant entries before the concat operation.\n",
      "  finance_table = pd.concat([finance_table, temp_arranged])\n"
     ]
    },
    {
     "name": "stdout",
     "output_type": "stream",
     "text": [
      "837 / 2696\n",
      "838 / 2696\n"
     ]
    },
    {
     "name": "stderr",
     "output_type": "stream",
     "text": [
      "C:\\Users\\myhyu\\AppData\\Local\\Temp\\ipykernel_11084\\1729452186.py:25: FutureWarning: The behavior of DataFrame concatenation with empty or all-NA entries is deprecated. In a future version, this will no longer exclude empty or all-NA columns when determining the result dtypes. To retain the old behavior, exclude the relevant entries before the concat operation.\n",
      "  finance_table = pd.concat([finance_table, temp_arranged])\n"
     ]
    },
    {
     "name": "stdout",
     "output_type": "stream",
     "text": [
      "839 / 2696\n",
      "840 / 2696\n",
      "841 / 2696\n",
      "842 / 2696\n",
      "843 / 2696\n",
      "844 / 2696\n",
      "845 / 2696\n",
      "846 / 2696\n",
      "847 / 2696\n",
      "848 / 2696\n",
      "849 / 2696\n",
      "850 / 2696\n",
      "851 / 2696\n",
      "852 / 2696\n",
      "853 / 2696\n",
      "854 / 2696\n",
      "855 / 2696\n",
      "856 / 2696\n",
      "857 / 2696\n",
      "858 / 2696\n",
      "859 / 2696\n",
      "860 / 2696\n",
      "861 / 2696\n",
      "862 / 2696\n",
      "863 / 2696\n"
     ]
    },
    {
     "name": "stderr",
     "output_type": "stream",
     "text": [
      "C:\\Users\\myhyu\\AppData\\Local\\Temp\\ipykernel_11084\\1729452186.py:25: FutureWarning: The behavior of DataFrame concatenation with empty or all-NA entries is deprecated. In a future version, this will no longer exclude empty or all-NA columns when determining the result dtypes. To retain the old behavior, exclude the relevant entries before the concat operation.\n",
      "  finance_table = pd.concat([finance_table, temp_arranged])\n"
     ]
    },
    {
     "name": "stdout",
     "output_type": "stream",
     "text": [
      "864 / 2696\n"
     ]
    },
    {
     "name": "stderr",
     "output_type": "stream",
     "text": [
      "C:\\Users\\myhyu\\AppData\\Local\\Temp\\ipykernel_11084\\1729452186.py:25: FutureWarning: The behavior of DataFrame concatenation with empty or all-NA entries is deprecated. In a future version, this will no longer exclude empty or all-NA columns when determining the result dtypes. To retain the old behavior, exclude the relevant entries before the concat operation.\n",
      "  finance_table = pd.concat([finance_table, temp_arranged])\n"
     ]
    },
    {
     "name": "stdout",
     "output_type": "stream",
     "text": [
      "865 / 2696\n",
      "866 / 2696\n",
      "867 / 2696\n",
      "868 / 2696\n",
      "869 / 2696\n",
      "870 / 2696\n",
      "871 / 2696\n",
      "872 / 2696\n",
      "873 / 2696\n",
      "874 / 2696\n",
      "875 / 2696\n",
      "876 / 2696\n",
      "877 / 2696\n",
      "878 / 2696\n"
     ]
    },
    {
     "name": "stderr",
     "output_type": "stream",
     "text": [
      "C:\\Users\\myhyu\\AppData\\Local\\Temp\\ipykernel_11084\\1729452186.py:25: FutureWarning: The behavior of DataFrame concatenation with empty or all-NA entries is deprecated. In a future version, this will no longer exclude empty or all-NA columns when determining the result dtypes. To retain the old behavior, exclude the relevant entries before the concat operation.\n",
      "  finance_table = pd.concat([finance_table, temp_arranged])\n"
     ]
    },
    {
     "name": "stdout",
     "output_type": "stream",
     "text": [
      "879 / 2696\n",
      "880 / 2696\n",
      "881 / 2696\n",
      "882 / 2696\n",
      "883 / 2696\n"
     ]
    },
    {
     "name": "stderr",
     "output_type": "stream",
     "text": [
      "C:\\Users\\myhyu\\AppData\\Local\\Temp\\ipykernel_11084\\1729452186.py:25: FutureWarning: The behavior of DataFrame concatenation with empty or all-NA entries is deprecated. In a future version, this will no longer exclude empty or all-NA columns when determining the result dtypes. To retain the old behavior, exclude the relevant entries before the concat operation.\n",
      "  finance_table = pd.concat([finance_table, temp_arranged])\n"
     ]
    },
    {
     "name": "stdout",
     "output_type": "stream",
     "text": [
      "884 / 2696\n",
      "885 / 2696\n"
     ]
    },
    {
     "name": "stderr",
     "output_type": "stream",
     "text": [
      "C:\\Users\\myhyu\\AppData\\Local\\Temp\\ipykernel_11084\\1729452186.py:25: FutureWarning: The behavior of DataFrame concatenation with empty or all-NA entries is deprecated. In a future version, this will no longer exclude empty or all-NA columns when determining the result dtypes. To retain the old behavior, exclude the relevant entries before the concat operation.\n",
      "  finance_table = pd.concat([finance_table, temp_arranged])\n"
     ]
    },
    {
     "name": "stdout",
     "output_type": "stream",
     "text": [
      "886 / 2696\n",
      "887 / 2696\n"
     ]
    },
    {
     "name": "stderr",
     "output_type": "stream",
     "text": [
      "C:\\Users\\myhyu\\AppData\\Local\\Temp\\ipykernel_11084\\1729452186.py:25: FutureWarning: The behavior of DataFrame concatenation with empty or all-NA entries is deprecated. In a future version, this will no longer exclude empty or all-NA columns when determining the result dtypes. To retain the old behavior, exclude the relevant entries before the concat operation.\n",
      "  finance_table = pd.concat([finance_table, temp_arranged])\n"
     ]
    },
    {
     "name": "stdout",
     "output_type": "stream",
     "text": [
      "888 / 2696\n"
     ]
    },
    {
     "name": "stderr",
     "output_type": "stream",
     "text": [
      "C:\\Users\\myhyu\\AppData\\Local\\Temp\\ipykernel_11084\\1729452186.py:25: FutureWarning: The behavior of DataFrame concatenation with empty or all-NA entries is deprecated. In a future version, this will no longer exclude empty or all-NA columns when determining the result dtypes. To retain the old behavior, exclude the relevant entries before the concat operation.\n",
      "  finance_table = pd.concat([finance_table, temp_arranged])\n"
     ]
    },
    {
     "name": "stdout",
     "output_type": "stream",
     "text": [
      "889 / 2696\n",
      "890 / 2696\n"
     ]
    },
    {
     "name": "stderr",
     "output_type": "stream",
     "text": [
      "C:\\Users\\myhyu\\AppData\\Local\\Temp\\ipykernel_11084\\1729452186.py:25: FutureWarning: The behavior of DataFrame concatenation with empty or all-NA entries is deprecated. In a future version, this will no longer exclude empty or all-NA columns when determining the result dtypes. To retain the old behavior, exclude the relevant entries before the concat operation.\n",
      "  finance_table = pd.concat([finance_table, temp_arranged])\n"
     ]
    },
    {
     "name": "stdout",
     "output_type": "stream",
     "text": [
      "891 / 2696\n",
      "892 / 2696\n",
      "893 / 2696\n",
      "894 / 2696\n",
      "895 / 2696\n"
     ]
    },
    {
     "name": "stderr",
     "output_type": "stream",
     "text": [
      "C:\\Users\\myhyu\\AppData\\Local\\Temp\\ipykernel_11084\\1729452186.py:25: FutureWarning: The behavior of DataFrame concatenation with empty or all-NA entries is deprecated. In a future version, this will no longer exclude empty or all-NA columns when determining the result dtypes. To retain the old behavior, exclude the relevant entries before the concat operation.\n",
      "  finance_table = pd.concat([finance_table, temp_arranged])\n"
     ]
    },
    {
     "name": "stdout",
     "output_type": "stream",
     "text": [
      "896 / 2696\n"
     ]
    },
    {
     "name": "stderr",
     "output_type": "stream",
     "text": [
      "C:\\Users\\myhyu\\AppData\\Local\\Temp\\ipykernel_11084\\1729452186.py:25: FutureWarning: The behavior of DataFrame concatenation with empty or all-NA entries is deprecated. In a future version, this will no longer exclude empty or all-NA columns when determining the result dtypes. To retain the old behavior, exclude the relevant entries before the concat operation.\n",
      "  finance_table = pd.concat([finance_table, temp_arranged])\n"
     ]
    },
    {
     "name": "stdout",
     "output_type": "stream",
     "text": [
      "897 / 2696\n"
     ]
    },
    {
     "name": "stderr",
     "output_type": "stream",
     "text": [
      "C:\\Users\\myhyu\\AppData\\Local\\Temp\\ipykernel_11084\\1729452186.py:25: FutureWarning: The behavior of DataFrame concatenation with empty or all-NA entries is deprecated. In a future version, this will no longer exclude empty or all-NA columns when determining the result dtypes. To retain the old behavior, exclude the relevant entries before the concat operation.\n",
      "  finance_table = pd.concat([finance_table, temp_arranged])\n"
     ]
    },
    {
     "name": "stdout",
     "output_type": "stream",
     "text": [
      "898 / 2696\n",
      "899 / 2696\n",
      "900 / 2696\n",
      "901 / 2696\n",
      "902 / 2696\n"
     ]
    },
    {
     "name": "stderr",
     "output_type": "stream",
     "text": [
      "C:\\Users\\myhyu\\AppData\\Local\\Temp\\ipykernel_11084\\1729452186.py:25: FutureWarning: The behavior of DataFrame concatenation with empty or all-NA entries is deprecated. In a future version, this will no longer exclude empty or all-NA columns when determining the result dtypes. To retain the old behavior, exclude the relevant entries before the concat operation.\n",
      "  finance_table = pd.concat([finance_table, temp_arranged])\n"
     ]
    },
    {
     "name": "stdout",
     "output_type": "stream",
     "text": [
      "903 / 2696\n",
      "904 / 2696\n",
      "905 / 2696\n",
      "906 / 2696\n",
      "907 / 2696\n",
      "908 / 2696\n",
      "909 / 2696\n",
      "910 / 2696\n",
      "911 / 2696\n",
      "912 / 2696\n",
      "913 / 2696\n",
      "914 / 2696\n",
      "915 / 2696\n",
      "916 / 2696\n",
      "917 / 2696\n"
     ]
    },
    {
     "name": "stderr",
     "output_type": "stream",
     "text": [
      "C:\\Users\\myhyu\\AppData\\Local\\Temp\\ipykernel_11084\\1729452186.py:25: FutureWarning: The behavior of DataFrame concatenation with empty or all-NA entries is deprecated. In a future version, this will no longer exclude empty or all-NA columns when determining the result dtypes. To retain the old behavior, exclude the relevant entries before the concat operation.\n",
      "  finance_table = pd.concat([finance_table, temp_arranged])\n"
     ]
    },
    {
     "name": "stdout",
     "output_type": "stream",
     "text": [
      "918 / 2696\n"
     ]
    },
    {
     "name": "stderr",
     "output_type": "stream",
     "text": [
      "C:\\Users\\myhyu\\AppData\\Local\\Temp\\ipykernel_11084\\1729452186.py:25: FutureWarning: The behavior of DataFrame concatenation with empty or all-NA entries is deprecated. In a future version, this will no longer exclude empty or all-NA columns when determining the result dtypes. To retain the old behavior, exclude the relevant entries before the concat operation.\n",
      "  finance_table = pd.concat([finance_table, temp_arranged])\n"
     ]
    },
    {
     "name": "stdout",
     "output_type": "stream",
     "text": [
      "919 / 2696\n"
     ]
    },
    {
     "name": "stderr",
     "output_type": "stream",
     "text": [
      "C:\\Users\\myhyu\\AppData\\Local\\Temp\\ipykernel_11084\\1729452186.py:25: FutureWarning: The behavior of DataFrame concatenation with empty or all-NA entries is deprecated. In a future version, this will no longer exclude empty or all-NA columns when determining the result dtypes. To retain the old behavior, exclude the relevant entries before the concat operation.\n",
      "  finance_table = pd.concat([finance_table, temp_arranged])\n"
     ]
    },
    {
     "name": "stdout",
     "output_type": "stream",
     "text": [
      "920 / 2696\n"
     ]
    },
    {
     "name": "stderr",
     "output_type": "stream",
     "text": [
      "C:\\Users\\myhyu\\AppData\\Local\\Temp\\ipykernel_11084\\1729452186.py:25: FutureWarning: The behavior of DataFrame concatenation with empty or all-NA entries is deprecated. In a future version, this will no longer exclude empty or all-NA columns when determining the result dtypes. To retain the old behavior, exclude the relevant entries before the concat operation.\n",
      "  finance_table = pd.concat([finance_table, temp_arranged])\n"
     ]
    },
    {
     "name": "stdout",
     "output_type": "stream",
     "text": [
      "921 / 2696\n",
      "922 / 2696\n",
      "923 / 2696\n",
      "924 / 2696\n"
     ]
    },
    {
     "name": "stderr",
     "output_type": "stream",
     "text": [
      "C:\\Users\\myhyu\\AppData\\Local\\Temp\\ipykernel_11084\\1729452186.py:25: FutureWarning: The behavior of DataFrame concatenation with empty or all-NA entries is deprecated. In a future version, this will no longer exclude empty or all-NA columns when determining the result dtypes. To retain the old behavior, exclude the relevant entries before the concat operation.\n",
      "  finance_table = pd.concat([finance_table, temp_arranged])\n"
     ]
    },
    {
     "name": "stdout",
     "output_type": "stream",
     "text": [
      "925 / 2696\n",
      "926 / 2696\n",
      "927 / 2696\n",
      "928 / 2696\n",
      "929 / 2696\n",
      "930 / 2696\n"
     ]
    },
    {
     "name": "stderr",
     "output_type": "stream",
     "text": [
      "C:\\Users\\myhyu\\AppData\\Local\\Temp\\ipykernel_11084\\1729452186.py:25: FutureWarning: The behavior of DataFrame concatenation with empty or all-NA entries is deprecated. In a future version, this will no longer exclude empty or all-NA columns when determining the result dtypes. To retain the old behavior, exclude the relevant entries before the concat operation.\n",
      "  finance_table = pd.concat([finance_table, temp_arranged])\n"
     ]
    },
    {
     "name": "stdout",
     "output_type": "stream",
     "text": [
      "931 / 2696\n",
      "932 / 2696\n",
      "933 / 2696\n",
      "934 / 2696\n",
      "935 / 2696\n",
      "936 / 2696\n",
      "937 / 2696\n",
      "938 / 2696\n",
      "939 / 2696\n",
      "940 / 2696\n",
      "941 / 2696\n",
      "942 / 2696\n",
      "943 / 2696\n",
      "944 / 2696\n",
      "945 / 2696\n",
      "946 / 2696\n",
      "947 / 2696\n",
      "948 / 2696\n",
      "949 / 2696\n",
      "950 / 2696\n",
      "951 / 2696\n",
      "952 / 2696\n"
     ]
    },
    {
     "name": "stderr",
     "output_type": "stream",
     "text": [
      "C:\\Users\\myhyu\\AppData\\Local\\Temp\\ipykernel_11084\\1729452186.py:25: FutureWarning: The behavior of DataFrame concatenation with empty or all-NA entries is deprecated. In a future version, this will no longer exclude empty or all-NA columns when determining the result dtypes. To retain the old behavior, exclude the relevant entries before the concat operation.\n",
      "  finance_table = pd.concat([finance_table, temp_arranged])\n"
     ]
    },
    {
     "name": "stdout",
     "output_type": "stream",
     "text": [
      "953 / 2696\n"
     ]
    },
    {
     "name": "stderr",
     "output_type": "stream",
     "text": [
      "C:\\Users\\myhyu\\AppData\\Local\\Temp\\ipykernel_11084\\1729452186.py:25: FutureWarning: The behavior of DataFrame concatenation with empty or all-NA entries is deprecated. In a future version, this will no longer exclude empty or all-NA columns when determining the result dtypes. To retain the old behavior, exclude the relevant entries before the concat operation.\n",
      "  finance_table = pd.concat([finance_table, temp_arranged])\n"
     ]
    },
    {
     "name": "stdout",
     "output_type": "stream",
     "text": [
      "954 / 2696\n",
      "955 / 2696\n",
      "956 / 2696\n",
      "957 / 2696\n",
      "958 / 2696\n",
      "959 / 2696\n",
      "960 / 2696\n",
      "961 / 2696\n",
      "962 / 2696\n",
      "963 / 2696\n",
      "964 / 2696\n",
      "965 / 2696\n",
      "966 / 2696\n",
      "967 / 2696\n",
      "968 / 2696\n"
     ]
    },
    {
     "name": "stderr",
     "output_type": "stream",
     "text": [
      "C:\\Users\\myhyu\\AppData\\Local\\Temp\\ipykernel_11084\\1729452186.py:25: FutureWarning: The behavior of DataFrame concatenation with empty or all-NA entries is deprecated. In a future version, this will no longer exclude empty or all-NA columns when determining the result dtypes. To retain the old behavior, exclude the relevant entries before the concat operation.\n",
      "  finance_table = pd.concat([finance_table, temp_arranged])\n"
     ]
    },
    {
     "name": "stdout",
     "output_type": "stream",
     "text": [
      "969 / 2696\n",
      "970 / 2696\n",
      "971 / 2696\n",
      "972 / 2696\n"
     ]
    },
    {
     "name": "stderr",
     "output_type": "stream",
     "text": [
      "C:\\Users\\myhyu\\AppData\\Local\\Temp\\ipykernel_11084\\1729452186.py:25: FutureWarning: The behavior of DataFrame concatenation with empty or all-NA entries is deprecated. In a future version, this will no longer exclude empty or all-NA columns when determining the result dtypes. To retain the old behavior, exclude the relevant entries before the concat operation.\n",
      "  finance_table = pd.concat([finance_table, temp_arranged])\n"
     ]
    },
    {
     "name": "stdout",
     "output_type": "stream",
     "text": [
      "973 / 2696\n"
     ]
    },
    {
     "name": "stderr",
     "output_type": "stream",
     "text": [
      "C:\\Users\\myhyu\\AppData\\Local\\Temp\\ipykernel_11084\\1729452186.py:25: FutureWarning: The behavior of DataFrame concatenation with empty or all-NA entries is deprecated. In a future version, this will no longer exclude empty or all-NA columns when determining the result dtypes. To retain the old behavior, exclude the relevant entries before the concat operation.\n",
      "  finance_table = pd.concat([finance_table, temp_arranged])\n"
     ]
    },
    {
     "name": "stdout",
     "output_type": "stream",
     "text": [
      "974 / 2696\n",
      "975 / 2696\n",
      "976 / 2696\n",
      "977 / 2696\n",
      "978 / 2696\n"
     ]
    },
    {
     "name": "stderr",
     "output_type": "stream",
     "text": [
      "C:\\Users\\myhyu\\AppData\\Local\\Temp\\ipykernel_11084\\1729452186.py:25: FutureWarning: The behavior of DataFrame concatenation with empty or all-NA entries is deprecated. In a future version, this will no longer exclude empty or all-NA columns when determining the result dtypes. To retain the old behavior, exclude the relevant entries before the concat operation.\n",
      "  finance_table = pd.concat([finance_table, temp_arranged])\n"
     ]
    },
    {
     "name": "stdout",
     "output_type": "stream",
     "text": [
      "979 / 2696\n",
      "980 / 2696\n",
      "981 / 2696\n",
      "982 / 2696\n",
      "983 / 2696\n"
     ]
    },
    {
     "name": "stderr",
     "output_type": "stream",
     "text": [
      "C:\\Users\\myhyu\\AppData\\Local\\Temp\\ipykernel_11084\\1729452186.py:25: FutureWarning: The behavior of DataFrame concatenation with empty or all-NA entries is deprecated. In a future version, this will no longer exclude empty or all-NA columns when determining the result dtypes. To retain the old behavior, exclude the relevant entries before the concat operation.\n",
      "  finance_table = pd.concat([finance_table, temp_arranged])\n"
     ]
    },
    {
     "name": "stdout",
     "output_type": "stream",
     "text": [
      "984 / 2696\n",
      "985 / 2696\n",
      "986 / 2696\n",
      "987 / 2696\n",
      "988 / 2696\n"
     ]
    },
    {
     "name": "stderr",
     "output_type": "stream",
     "text": [
      "C:\\Users\\myhyu\\AppData\\Local\\Temp\\ipykernel_11084\\1729452186.py:25: FutureWarning: The behavior of DataFrame concatenation with empty or all-NA entries is deprecated. In a future version, this will no longer exclude empty or all-NA columns when determining the result dtypes. To retain the old behavior, exclude the relevant entries before the concat operation.\n",
      "  finance_table = pd.concat([finance_table, temp_arranged])\n"
     ]
    },
    {
     "name": "stdout",
     "output_type": "stream",
     "text": [
      "989 / 2696\n",
      "990 / 2696\n",
      "991 / 2696\n",
      "992 / 2696\n",
      "993 / 2696\n",
      "994 / 2696\n",
      "995 / 2696\n",
      "996 / 2696\n",
      "997 / 2696\n",
      "998 / 2696\n",
      "999 / 2696\n",
      "1000 / 2696\n"
     ]
    },
    {
     "name": "stderr",
     "output_type": "stream",
     "text": [
      "C:\\Users\\myhyu\\AppData\\Local\\Temp\\ipykernel_11084\\1729452186.py:25: FutureWarning: The behavior of DataFrame concatenation with empty or all-NA entries is deprecated. In a future version, this will no longer exclude empty or all-NA columns when determining the result dtypes. To retain the old behavior, exclude the relevant entries before the concat operation.\n",
      "  finance_table = pd.concat([finance_table, temp_arranged])\n"
     ]
    },
    {
     "name": "stdout",
     "output_type": "stream",
     "text": [
      "1001 / 2696\n"
     ]
    },
    {
     "name": "stderr",
     "output_type": "stream",
     "text": [
      "C:\\Users\\myhyu\\AppData\\Local\\Temp\\ipykernel_11084\\1729452186.py:25: FutureWarning: The behavior of DataFrame concatenation with empty or all-NA entries is deprecated. In a future version, this will no longer exclude empty or all-NA columns when determining the result dtypes. To retain the old behavior, exclude the relevant entries before the concat operation.\n",
      "  finance_table = pd.concat([finance_table, temp_arranged])\n"
     ]
    },
    {
     "name": "stdout",
     "output_type": "stream",
     "text": [
      "1002 / 2696\n"
     ]
    },
    {
     "name": "stderr",
     "output_type": "stream",
     "text": [
      "C:\\Users\\myhyu\\AppData\\Local\\Temp\\ipykernel_11084\\1729452186.py:25: FutureWarning: The behavior of DataFrame concatenation with empty or all-NA entries is deprecated. In a future version, this will no longer exclude empty or all-NA columns when determining the result dtypes. To retain the old behavior, exclude the relevant entries before the concat operation.\n",
      "  finance_table = pd.concat([finance_table, temp_arranged])\n"
     ]
    },
    {
     "name": "stdout",
     "output_type": "stream",
     "text": [
      "1003 / 2696\n"
     ]
    },
    {
     "name": "stderr",
     "output_type": "stream",
     "text": [
      "C:\\Users\\myhyu\\AppData\\Local\\Temp\\ipykernel_11084\\1729452186.py:25: FutureWarning: The behavior of DataFrame concatenation with empty or all-NA entries is deprecated. In a future version, this will no longer exclude empty or all-NA columns when determining the result dtypes. To retain the old behavior, exclude the relevant entries before the concat operation.\n",
      "  finance_table = pd.concat([finance_table, temp_arranged])\n"
     ]
    },
    {
     "name": "stdout",
     "output_type": "stream",
     "text": [
      "1004 / 2696\n"
     ]
    },
    {
     "name": "stderr",
     "output_type": "stream",
     "text": [
      "C:\\Users\\myhyu\\AppData\\Local\\Temp\\ipykernel_11084\\1729452186.py:25: FutureWarning: The behavior of DataFrame concatenation with empty or all-NA entries is deprecated. In a future version, this will no longer exclude empty or all-NA columns when determining the result dtypes. To retain the old behavior, exclude the relevant entries before the concat operation.\n",
      "  finance_table = pd.concat([finance_table, temp_arranged])\n"
     ]
    },
    {
     "name": "stdout",
     "output_type": "stream",
     "text": [
      "1005 / 2696\n",
      "1006 / 2696\n",
      "1007 / 2696\n",
      "1008 / 2696\n",
      "1009 / 2696\n",
      "1010 / 2696\n",
      "1011 / 2696\n",
      "1012 / 2696\n",
      "1013 / 2696\n"
     ]
    },
    {
     "name": "stderr",
     "output_type": "stream",
     "text": [
      "C:\\Users\\myhyu\\AppData\\Local\\Temp\\ipykernel_11084\\1729452186.py:25: FutureWarning: The behavior of DataFrame concatenation with empty or all-NA entries is deprecated. In a future version, this will no longer exclude empty or all-NA columns when determining the result dtypes. To retain the old behavior, exclude the relevant entries before the concat operation.\n",
      "  finance_table = pd.concat([finance_table, temp_arranged])\n"
     ]
    },
    {
     "name": "stdout",
     "output_type": "stream",
     "text": [
      "1014 / 2696\n"
     ]
    },
    {
     "name": "stderr",
     "output_type": "stream",
     "text": [
      "C:\\Users\\myhyu\\AppData\\Local\\Temp\\ipykernel_11084\\1729452186.py:25: FutureWarning: The behavior of DataFrame concatenation with empty or all-NA entries is deprecated. In a future version, this will no longer exclude empty or all-NA columns when determining the result dtypes. To retain the old behavior, exclude the relevant entries before the concat operation.\n",
      "  finance_table = pd.concat([finance_table, temp_arranged])\n"
     ]
    },
    {
     "name": "stdout",
     "output_type": "stream",
     "text": [
      "1015 / 2696\n"
     ]
    },
    {
     "name": "stderr",
     "output_type": "stream",
     "text": [
      "C:\\Users\\myhyu\\AppData\\Local\\Temp\\ipykernel_11084\\1729452186.py:25: FutureWarning: The behavior of DataFrame concatenation with empty or all-NA entries is deprecated. In a future version, this will no longer exclude empty or all-NA columns when determining the result dtypes. To retain the old behavior, exclude the relevant entries before the concat operation.\n",
      "  finance_table = pd.concat([finance_table, temp_arranged])\n"
     ]
    },
    {
     "name": "stdout",
     "output_type": "stream",
     "text": [
      "1016 / 2696\n"
     ]
    },
    {
     "name": "stderr",
     "output_type": "stream",
     "text": [
      "C:\\Users\\myhyu\\AppData\\Local\\Temp\\ipykernel_11084\\1729452186.py:25: FutureWarning: The behavior of DataFrame concatenation with empty or all-NA entries is deprecated. In a future version, this will no longer exclude empty or all-NA columns when determining the result dtypes. To retain the old behavior, exclude the relevant entries before the concat operation.\n",
      "  finance_table = pd.concat([finance_table, temp_arranged])\n"
     ]
    },
    {
     "name": "stdout",
     "output_type": "stream",
     "text": [
      "1017 / 2696\n"
     ]
    },
    {
     "name": "stderr",
     "output_type": "stream",
     "text": [
      "C:\\Users\\myhyu\\AppData\\Local\\Temp\\ipykernel_11084\\1729452186.py:25: FutureWarning: The behavior of DataFrame concatenation with empty or all-NA entries is deprecated. In a future version, this will no longer exclude empty or all-NA columns when determining the result dtypes. To retain the old behavior, exclude the relevant entries before the concat operation.\n",
      "  finance_table = pd.concat([finance_table, temp_arranged])\n"
     ]
    },
    {
     "name": "stdout",
     "output_type": "stream",
     "text": [
      "1018 / 2696\n",
      "1019 / 2696\n",
      "1020 / 2696\n",
      "1021 / 2696\n",
      "1022 / 2696\n",
      "1023 / 2696\n",
      "1024 / 2696\n",
      "1025 / 2696\n",
      "1026 / 2696\n",
      "1027 / 2696\n",
      "1028 / 2696\n",
      "1029 / 2696\n",
      "1030 / 2696\n",
      "1031 / 2696\n",
      "1032 / 2696\n",
      "1033 / 2696\n"
     ]
    },
    {
     "name": "stderr",
     "output_type": "stream",
     "text": [
      "C:\\Users\\myhyu\\AppData\\Local\\Temp\\ipykernel_11084\\1729452186.py:25: FutureWarning: The behavior of DataFrame concatenation with empty or all-NA entries is deprecated. In a future version, this will no longer exclude empty or all-NA columns when determining the result dtypes. To retain the old behavior, exclude the relevant entries before the concat operation.\n",
      "  finance_table = pd.concat([finance_table, temp_arranged])\n"
     ]
    },
    {
     "name": "stdout",
     "output_type": "stream",
     "text": [
      "1034 / 2696\n",
      "1035 / 2696\n",
      "1036 / 2696\n",
      "1037 / 2696\n"
     ]
    },
    {
     "name": "stderr",
     "output_type": "stream",
     "text": [
      "C:\\Users\\myhyu\\AppData\\Local\\Temp\\ipykernel_11084\\1729452186.py:25: FutureWarning: The behavior of DataFrame concatenation with empty or all-NA entries is deprecated. In a future version, this will no longer exclude empty or all-NA columns when determining the result dtypes. To retain the old behavior, exclude the relevant entries before the concat operation.\n",
      "  finance_table = pd.concat([finance_table, temp_arranged])\n"
     ]
    },
    {
     "name": "stdout",
     "output_type": "stream",
     "text": [
      "1038 / 2696\n",
      "1039 / 2696\n",
      "1040 / 2696\n",
      "1041 / 2696\n",
      "1042 / 2696\n",
      "1043 / 2696\n",
      "1044 / 2696\n",
      "1045 / 2696\n",
      "1046 / 2696\n",
      "1047 / 2696\n",
      "1048 / 2696\n",
      "1049 / 2696\n",
      "1050 / 2696\n"
     ]
    },
    {
     "name": "stderr",
     "output_type": "stream",
     "text": [
      "C:\\Users\\myhyu\\AppData\\Local\\Temp\\ipykernel_11084\\1729452186.py:25: FutureWarning: The behavior of DataFrame concatenation with empty or all-NA entries is deprecated. In a future version, this will no longer exclude empty or all-NA columns when determining the result dtypes. To retain the old behavior, exclude the relevant entries before the concat operation.\n",
      "  finance_table = pd.concat([finance_table, temp_arranged])\n"
     ]
    },
    {
     "name": "stdout",
     "output_type": "stream",
     "text": [
      "1051 / 2696\n",
      "1052 / 2696\n",
      "1053 / 2696\n",
      "1054 / 2696\n",
      "1055 / 2696\n",
      "1056 / 2696\n",
      "1057 / 2696\n",
      "1058 / 2696\n",
      "1059 / 2696\n",
      "1060 / 2696\n",
      "1061 / 2696\n",
      "1062 / 2696\n",
      "1063 / 2696\n",
      "1064 / 2696\n"
     ]
    },
    {
     "name": "stderr",
     "output_type": "stream",
     "text": [
      "C:\\Users\\myhyu\\AppData\\Local\\Temp\\ipykernel_11084\\1729452186.py:25: FutureWarning: The behavior of DataFrame concatenation with empty or all-NA entries is deprecated. In a future version, this will no longer exclude empty or all-NA columns when determining the result dtypes. To retain the old behavior, exclude the relevant entries before the concat operation.\n",
      "  finance_table = pd.concat([finance_table, temp_arranged])\n"
     ]
    },
    {
     "name": "stdout",
     "output_type": "stream",
     "text": [
      "1065 / 2696\n",
      "1066 / 2696\n",
      "1067 / 2696\n",
      "1068 / 2696\n",
      "1069 / 2696\n"
     ]
    },
    {
     "name": "stderr",
     "output_type": "stream",
     "text": [
      "C:\\Users\\myhyu\\AppData\\Local\\Temp\\ipykernel_11084\\1729452186.py:25: FutureWarning: The behavior of DataFrame concatenation with empty or all-NA entries is deprecated. In a future version, this will no longer exclude empty or all-NA columns when determining the result dtypes. To retain the old behavior, exclude the relevant entries before the concat operation.\n",
      "  finance_table = pd.concat([finance_table, temp_arranged])\n"
     ]
    },
    {
     "name": "stdout",
     "output_type": "stream",
     "text": [
      "1070 / 2696\n",
      "1071 / 2696\n",
      "1072 / 2696\n",
      "1073 / 2696\n",
      "1074 / 2696\n",
      "1075 / 2696\n",
      "1076 / 2696\n",
      "1077 / 2696\n",
      "1078 / 2696\n",
      "1079 / 2696\n",
      "1080 / 2696\n",
      "1081 / 2696\n",
      "1082 / 2696\n",
      "1083 / 2696\n",
      "1084 / 2696\n",
      "1085 / 2696\n",
      "1086 / 2696\n",
      "1087 / 2696\n",
      "1088 / 2696\n",
      "1089 / 2696\n",
      "1090 / 2696\n",
      "1091 / 2696\n",
      "1092 / 2696\n",
      "1093 / 2696\n"
     ]
    },
    {
     "name": "stderr",
     "output_type": "stream",
     "text": [
      "C:\\Users\\myhyu\\AppData\\Local\\Temp\\ipykernel_11084\\1729452186.py:25: FutureWarning: The behavior of DataFrame concatenation with empty or all-NA entries is deprecated. In a future version, this will no longer exclude empty or all-NA columns when determining the result dtypes. To retain the old behavior, exclude the relevant entries before the concat operation.\n",
      "  finance_table = pd.concat([finance_table, temp_arranged])\n"
     ]
    },
    {
     "name": "stdout",
     "output_type": "stream",
     "text": [
      "1094 / 2696\n",
      "1095 / 2696\n",
      "1096 / 2696\n",
      "1097 / 2696\n",
      "1098 / 2696\n",
      "1099 / 2696\n",
      "1100 / 2696\n"
     ]
    },
    {
     "name": "stderr",
     "output_type": "stream",
     "text": [
      "C:\\Users\\myhyu\\AppData\\Local\\Temp\\ipykernel_11084\\1729452186.py:25: FutureWarning: The behavior of DataFrame concatenation with empty or all-NA entries is deprecated. In a future version, this will no longer exclude empty or all-NA columns when determining the result dtypes. To retain the old behavior, exclude the relevant entries before the concat operation.\n",
      "  finance_table = pd.concat([finance_table, temp_arranged])\n"
     ]
    },
    {
     "name": "stdout",
     "output_type": "stream",
     "text": [
      "1101 / 2696\n"
     ]
    },
    {
     "name": "stderr",
     "output_type": "stream",
     "text": [
      "C:\\Users\\myhyu\\AppData\\Local\\Temp\\ipykernel_11084\\1729452186.py:25: FutureWarning: The behavior of DataFrame concatenation with empty or all-NA entries is deprecated. In a future version, this will no longer exclude empty or all-NA columns when determining the result dtypes. To retain the old behavior, exclude the relevant entries before the concat operation.\n",
      "  finance_table = pd.concat([finance_table, temp_arranged])\n"
     ]
    },
    {
     "name": "stdout",
     "output_type": "stream",
     "text": [
      "1102 / 2696\n"
     ]
    },
    {
     "name": "stderr",
     "output_type": "stream",
     "text": [
      "C:\\Users\\myhyu\\AppData\\Local\\Temp\\ipykernel_11084\\1729452186.py:25: FutureWarning: The behavior of DataFrame concatenation with empty or all-NA entries is deprecated. In a future version, this will no longer exclude empty or all-NA columns when determining the result dtypes. To retain the old behavior, exclude the relevant entries before the concat operation.\n",
      "  finance_table = pd.concat([finance_table, temp_arranged])\n"
     ]
    },
    {
     "name": "stdout",
     "output_type": "stream",
     "text": [
      "1103 / 2696\n"
     ]
    },
    {
     "name": "stderr",
     "output_type": "stream",
     "text": [
      "C:\\Users\\myhyu\\AppData\\Local\\Temp\\ipykernel_11084\\1729452186.py:25: FutureWarning: The behavior of DataFrame concatenation with empty or all-NA entries is deprecated. In a future version, this will no longer exclude empty or all-NA columns when determining the result dtypes. To retain the old behavior, exclude the relevant entries before the concat operation.\n",
      "  finance_table = pd.concat([finance_table, temp_arranged])\n"
     ]
    },
    {
     "name": "stdout",
     "output_type": "stream",
     "text": [
      "1104 / 2696\n",
      "1105 / 2696\n",
      "1106 / 2696\n",
      "1107 / 2696\n",
      "1108 / 2696\n",
      "1109 / 2696\n",
      "1110 / 2696\n",
      "1111 / 2696\n",
      "1112 / 2696\n",
      "1113 / 2696\n",
      "1114 / 2696\n",
      "1115 / 2696\n",
      "1116 / 2696\n",
      "1117 / 2696\n",
      "1118 / 2696\n",
      "1119 / 2696\n",
      "1120 / 2696\n",
      "1121 / 2696\n",
      "1122 / 2696\n",
      "1123 / 2696\n",
      "1124 / 2696\n",
      "1125 / 2696\n",
      "1126 / 2696\n",
      "1127 / 2696\n"
     ]
    },
    {
     "name": "stderr",
     "output_type": "stream",
     "text": [
      "C:\\Users\\myhyu\\AppData\\Local\\Temp\\ipykernel_11084\\1729452186.py:25: FutureWarning: The behavior of DataFrame concatenation with empty or all-NA entries is deprecated. In a future version, this will no longer exclude empty or all-NA columns when determining the result dtypes. To retain the old behavior, exclude the relevant entries before the concat operation.\n",
      "  finance_table = pd.concat([finance_table, temp_arranged])\n"
     ]
    },
    {
     "name": "stdout",
     "output_type": "stream",
     "text": [
      "1128 / 2696\n",
      "1129 / 2696\n",
      "1130 / 2696\n",
      "1131 / 2696\n",
      "1132 / 2696\n",
      "1133 / 2696\n",
      "1134 / 2696\n",
      "1135 / 2696\n",
      "1136 / 2696\n",
      "1137 / 2696\n",
      "1138 / 2696\n",
      "1139 / 2696\n",
      "1140 / 2696\n",
      "1141 / 2696\n"
     ]
    },
    {
     "name": "stderr",
     "output_type": "stream",
     "text": [
      "C:\\Users\\myhyu\\AppData\\Local\\Temp\\ipykernel_11084\\1729452186.py:25: FutureWarning: The behavior of DataFrame concatenation with empty or all-NA entries is deprecated. In a future version, this will no longer exclude empty or all-NA columns when determining the result dtypes. To retain the old behavior, exclude the relevant entries before the concat operation.\n",
      "  finance_table = pd.concat([finance_table, temp_arranged])\n"
     ]
    },
    {
     "name": "stdout",
     "output_type": "stream",
     "text": [
      "1142 / 2696\n",
      "1143 / 2696\n",
      "1144 / 2696\n",
      "1145 / 2696\n",
      "1146 / 2696\n",
      "1147 / 2696\n",
      "1148 / 2696\n",
      "1149 / 2696\n",
      "1150 / 2696\n",
      "1151 / 2696\n",
      "1152 / 2696\n",
      "1153 / 2696\n",
      "1154 / 2696\n",
      "1155 / 2696\n",
      "1156 / 2696\n",
      "1157 / 2696\n",
      "1158 / 2696\n",
      "1159 / 2696\n",
      "1160 / 2696\n",
      "1161 / 2696\n",
      "1162 / 2696\n",
      "1163 / 2696\n",
      "1164 / 2696\n",
      "1165 / 2696\n",
      "1166 / 2696\n",
      "1167 / 2696\n",
      "1168 / 2696\n",
      "1169 / 2696\n",
      "1170 / 2696\n",
      "1171 / 2696\n",
      "1172 / 2696\n",
      "1173 / 2696\n"
     ]
    },
    {
     "name": "stderr",
     "output_type": "stream",
     "text": [
      "C:\\Users\\myhyu\\AppData\\Local\\Temp\\ipykernel_11084\\1729452186.py:25: FutureWarning: The behavior of DataFrame concatenation with empty or all-NA entries is deprecated. In a future version, this will no longer exclude empty or all-NA columns when determining the result dtypes. To retain the old behavior, exclude the relevant entries before the concat operation.\n",
      "  finance_table = pd.concat([finance_table, temp_arranged])\n"
     ]
    },
    {
     "name": "stdout",
     "output_type": "stream",
     "text": [
      "1174 / 2696\n",
      "1175 / 2696\n",
      "1176 / 2696\n",
      "1177 / 2696\n",
      "1178 / 2696\n",
      "1179 / 2696\n",
      "1180 / 2696\n",
      "1181 / 2696\n",
      "1182 / 2696\n",
      "1183 / 2696\n",
      "1184 / 2696\n",
      "1185 / 2696\n",
      "1186 / 2696\n",
      "1187 / 2696\n",
      "1188 / 2696\n",
      "1189 / 2696\n",
      "1190 / 2696\n",
      "1191 / 2696\n",
      "1192 / 2696\n",
      "1193 / 2696\n",
      "1194 / 2696\n",
      "1195 / 2696\n",
      "1196 / 2696\n"
     ]
    },
    {
     "name": "stderr",
     "output_type": "stream",
     "text": [
      "C:\\Users\\myhyu\\AppData\\Local\\Temp\\ipykernel_11084\\1729452186.py:25: FutureWarning: The behavior of DataFrame concatenation with empty or all-NA entries is deprecated. In a future version, this will no longer exclude empty or all-NA columns when determining the result dtypes. To retain the old behavior, exclude the relevant entries before the concat operation.\n",
      "  finance_table = pd.concat([finance_table, temp_arranged])\n"
     ]
    },
    {
     "name": "stdout",
     "output_type": "stream",
     "text": [
      "1197 / 2696\n",
      "1198 / 2696\n",
      "1199 / 2696\n",
      "1200 / 2696\n",
      "1201 / 2696\n",
      "1202 / 2696\n",
      "1203 / 2696\n",
      "1204 / 2696\n",
      "1205 / 2696\n",
      "1206 / 2696\n",
      "1207 / 2696\n",
      "1208 / 2696\n",
      "1209 / 2696\n",
      "1210 / 2696\n"
     ]
    },
    {
     "name": "stderr",
     "output_type": "stream",
     "text": [
      "C:\\Users\\myhyu\\AppData\\Local\\Temp\\ipykernel_11084\\1729452186.py:25: FutureWarning: The behavior of DataFrame concatenation with empty or all-NA entries is deprecated. In a future version, this will no longer exclude empty or all-NA columns when determining the result dtypes. To retain the old behavior, exclude the relevant entries before the concat operation.\n",
      "  finance_table = pd.concat([finance_table, temp_arranged])\n"
     ]
    },
    {
     "name": "stdout",
     "output_type": "stream",
     "text": [
      "1211 / 2696\n",
      "1212 / 2696\n",
      "1213 / 2696\n"
     ]
    },
    {
     "name": "stderr",
     "output_type": "stream",
     "text": [
      "C:\\Users\\myhyu\\AppData\\Local\\Temp\\ipykernel_11084\\1729452186.py:25: FutureWarning: The behavior of DataFrame concatenation with empty or all-NA entries is deprecated. In a future version, this will no longer exclude empty or all-NA columns when determining the result dtypes. To retain the old behavior, exclude the relevant entries before the concat operation.\n",
      "  finance_table = pd.concat([finance_table, temp_arranged])\n"
     ]
    },
    {
     "name": "stdout",
     "output_type": "stream",
     "text": [
      "1214 / 2696\n"
     ]
    },
    {
     "name": "stderr",
     "output_type": "stream",
     "text": [
      "C:\\Users\\myhyu\\AppData\\Local\\Temp\\ipykernel_11084\\1729452186.py:25: FutureWarning: The behavior of DataFrame concatenation with empty or all-NA entries is deprecated. In a future version, this will no longer exclude empty or all-NA columns when determining the result dtypes. To retain the old behavior, exclude the relevant entries before the concat operation.\n",
      "  finance_table = pd.concat([finance_table, temp_arranged])\n"
     ]
    },
    {
     "name": "stdout",
     "output_type": "stream",
     "text": [
      "1215 / 2696\n"
     ]
    },
    {
     "name": "stderr",
     "output_type": "stream",
     "text": [
      "C:\\Users\\myhyu\\AppData\\Local\\Temp\\ipykernel_11084\\1729452186.py:25: FutureWarning: The behavior of DataFrame concatenation with empty or all-NA entries is deprecated. In a future version, this will no longer exclude empty or all-NA columns when determining the result dtypes. To retain the old behavior, exclude the relevant entries before the concat operation.\n",
      "  finance_table = pd.concat([finance_table, temp_arranged])\n"
     ]
    },
    {
     "name": "stdout",
     "output_type": "stream",
     "text": [
      "1216 / 2696\n"
     ]
    },
    {
     "name": "stderr",
     "output_type": "stream",
     "text": [
      "C:\\Users\\myhyu\\AppData\\Local\\Temp\\ipykernel_11084\\1729452186.py:25: FutureWarning: The behavior of DataFrame concatenation with empty or all-NA entries is deprecated. In a future version, this will no longer exclude empty or all-NA columns when determining the result dtypes. To retain the old behavior, exclude the relevant entries before the concat operation.\n",
      "  finance_table = pd.concat([finance_table, temp_arranged])\n"
     ]
    },
    {
     "name": "stdout",
     "output_type": "stream",
     "text": [
      "1217 / 2696\n"
     ]
    },
    {
     "name": "stderr",
     "output_type": "stream",
     "text": [
      "C:\\Users\\myhyu\\AppData\\Local\\Temp\\ipykernel_11084\\1729452186.py:25: FutureWarning: The behavior of DataFrame concatenation with empty or all-NA entries is deprecated. In a future version, this will no longer exclude empty or all-NA columns when determining the result dtypes. To retain the old behavior, exclude the relevant entries before the concat operation.\n",
      "  finance_table = pd.concat([finance_table, temp_arranged])\n"
     ]
    },
    {
     "name": "stdout",
     "output_type": "stream",
     "text": [
      "1218 / 2696\n",
      "1219 / 2696\n",
      "1220 / 2696\n",
      "1221 / 2696\n",
      "1222 / 2696\n",
      "1223 / 2696\n",
      "1224 / 2696\n",
      "1225 / 2696\n",
      "1226 / 2696\n",
      "1227 / 2696\n",
      "1228 / 2696\n",
      "1229 / 2696\n",
      "1230 / 2696\n",
      "1231 / 2696\n",
      "1232 / 2696\n",
      "1233 / 2696\n",
      "1234 / 2696\n",
      "1235 / 2696\n"
     ]
    },
    {
     "name": "stderr",
     "output_type": "stream",
     "text": [
      "C:\\Users\\myhyu\\AppData\\Local\\Temp\\ipykernel_11084\\1729452186.py:25: FutureWarning: The behavior of DataFrame concatenation with empty or all-NA entries is deprecated. In a future version, this will no longer exclude empty or all-NA columns when determining the result dtypes. To retain the old behavior, exclude the relevant entries before the concat operation.\n",
      "  finance_table = pd.concat([finance_table, temp_arranged])\n"
     ]
    },
    {
     "name": "stdout",
     "output_type": "stream",
     "text": [
      "1236 / 2696\n",
      "1237 / 2696\n",
      "1238 / 2696\n",
      "1239 / 2696\n",
      "1240 / 2696\n",
      "1241 / 2696\n",
      "1242 / 2696\n",
      "1243 / 2696\n",
      "1244 / 2696\n",
      "1245 / 2696\n",
      "1246 / 2696\n",
      "1247 / 2696\n",
      "1248 / 2696\n",
      "1249 / 2696\n",
      "1250 / 2696\n",
      "1251 / 2696\n",
      "1252 / 2696\n",
      "1253 / 2696\n",
      "1254 / 2696\n",
      "1255 / 2696\n",
      "1256 / 2696\n",
      "1257 / 2696\n",
      "1258 / 2696\n",
      "1259 / 2696\n",
      "1260 / 2696\n",
      "1261 / 2696\n",
      "1262 / 2696\n",
      "1263 / 2696\n",
      "1264 / 2696\n",
      "1265 / 2696\n",
      "1266 / 2696\n",
      "1267 / 2696\n",
      "1268 / 2696\n",
      "1269 / 2696\n",
      "1270 / 2696\n",
      "1271 / 2696\n",
      "1272 / 2696\n",
      "1273 / 2696\n",
      "1274 / 2696\n",
      "1275 / 2696\n"
     ]
    },
    {
     "name": "stderr",
     "output_type": "stream",
     "text": [
      "C:\\Users\\myhyu\\AppData\\Local\\Temp\\ipykernel_11084\\1729452186.py:25: FutureWarning: The behavior of DataFrame concatenation with empty or all-NA entries is deprecated. In a future version, this will no longer exclude empty or all-NA columns when determining the result dtypes. To retain the old behavior, exclude the relevant entries before the concat operation.\n",
      "  finance_table = pd.concat([finance_table, temp_arranged])\n"
     ]
    },
    {
     "name": "stdout",
     "output_type": "stream",
     "text": [
      "1276 / 2696\n",
      "1277 / 2696\n",
      "1278 / 2696\n",
      "1279 / 2696\n",
      "1280 / 2696\n",
      "1281 / 2696\n",
      "1282 / 2696\n",
      "1283 / 2696\n",
      "1284 / 2696\n",
      "1285 / 2696\n",
      "1286 / 2696\n",
      "1287 / 2696\n"
     ]
    },
    {
     "name": "stderr",
     "output_type": "stream",
     "text": [
      "C:\\Users\\myhyu\\AppData\\Local\\Temp\\ipykernel_11084\\1729452186.py:25: FutureWarning: The behavior of DataFrame concatenation with empty or all-NA entries is deprecated. In a future version, this will no longer exclude empty or all-NA columns when determining the result dtypes. To retain the old behavior, exclude the relevant entries before the concat operation.\n",
      "  finance_table = pd.concat([finance_table, temp_arranged])\n"
     ]
    },
    {
     "name": "stdout",
     "output_type": "stream",
     "text": [
      "1288 / 2696\n",
      "1289 / 2696\n",
      "1290 / 2696\n",
      "1291 / 2696\n",
      "1292 / 2696\n",
      "1293 / 2696\n",
      "1294 / 2696\n",
      "1295 / 2696\n",
      "1296 / 2696\n",
      "1297 / 2696\n",
      "1298 / 2696\n",
      "1299 / 2696\n",
      "1300 / 2696\n",
      "1301 / 2696\n",
      "1302 / 2696\n",
      "1303 / 2696\n",
      "1304 / 2696\n",
      "1305 / 2696\n",
      "1306 / 2696\n",
      "1307 / 2696\n",
      "1308 / 2696\n",
      "1309 / 2696\n",
      "1310 / 2696\n",
      "1311 / 2696\n",
      "1312 / 2696\n",
      "1313 / 2696\n",
      "1314 / 2696\n",
      "1315 / 2696\n",
      "1316 / 2696\n",
      "1317 / 2696\n",
      "1318 / 2696\n",
      "1319 / 2696\n",
      "1320 / 2696\n",
      "1321 / 2696\n",
      "1322 / 2696\n",
      "1323 / 2696\n",
      "1324 / 2696\n",
      "1325 / 2696\n",
      "1326 / 2696\n",
      "1327 / 2696\n",
      "1328 / 2696\n",
      "1329 / 2696\n",
      "1330 / 2696\n",
      "1331 / 2696\n",
      "1332 / 2696\n",
      "1333 / 2696\n",
      "1334 / 2696\n",
      "1335 / 2696\n",
      "1336 / 2696\n",
      "1337 / 2696\n",
      "1338 / 2696\n",
      "1339 / 2696\n",
      "1340 / 2696\n",
      "1341 / 2696\n",
      "1342 / 2696\n",
      "1343 / 2696\n",
      "1344 / 2696\n",
      "1345 / 2696\n",
      "1346 / 2696\n",
      "1347 / 2696\n",
      "1348 / 2696\n",
      "1349 / 2696\n",
      "1350 / 2696\n",
      "1351 / 2696\n",
      "1352 / 2696\n",
      "1353 / 2696\n"
     ]
    },
    {
     "name": "stderr",
     "output_type": "stream",
     "text": [
      "C:\\Users\\myhyu\\AppData\\Local\\Temp\\ipykernel_11084\\1729452186.py:25: FutureWarning: The behavior of DataFrame concatenation with empty or all-NA entries is deprecated. In a future version, this will no longer exclude empty or all-NA columns when determining the result dtypes. To retain the old behavior, exclude the relevant entries before the concat operation.\n",
      "  finance_table = pd.concat([finance_table, temp_arranged])\n"
     ]
    },
    {
     "name": "stdout",
     "output_type": "stream",
     "text": [
      "1354 / 2696\n",
      "1355 / 2696\n",
      "1356 / 2696\n",
      "1357 / 2696\n",
      "1358 / 2696\n",
      "1359 / 2696\n",
      "1360 / 2696\n",
      "1361 / 2696\n",
      "1362 / 2696\n",
      "1363 / 2696\n",
      "1364 / 2696\n",
      "1365 / 2696\n",
      "1366 / 2696\n",
      "1367 / 2696\n",
      "1368 / 2696\n",
      "1369 / 2696\n",
      "1370 / 2696\n",
      "1371 / 2696\n",
      "1372 / 2696\n",
      "1373 / 2696\n",
      "1374 / 2696\n",
      "1375 / 2696\n",
      "1376 / 2696\n",
      "1377 / 2696\n",
      "1378 / 2696\n",
      "1379 / 2696\n",
      "1380 / 2696\n",
      "1381 / 2696\n"
     ]
    },
    {
     "name": "stderr",
     "output_type": "stream",
     "text": [
      "C:\\Users\\myhyu\\AppData\\Local\\Temp\\ipykernel_11084\\1729452186.py:25: FutureWarning: The behavior of DataFrame concatenation with empty or all-NA entries is deprecated. In a future version, this will no longer exclude empty or all-NA columns when determining the result dtypes. To retain the old behavior, exclude the relevant entries before the concat operation.\n",
      "  finance_table = pd.concat([finance_table, temp_arranged])\n"
     ]
    },
    {
     "name": "stdout",
     "output_type": "stream",
     "text": [
      "1382 / 2696\n",
      "1383 / 2696\n",
      "1384 / 2696\n",
      "1385 / 2696\n",
      "1386 / 2696\n",
      "1387 / 2696\n",
      "1388 / 2696\n",
      "1389 / 2696\n",
      "1390 / 2696\n",
      "1391 / 2696\n",
      "1392 / 2696\n",
      "1393 / 2696\n",
      "1394 / 2696\n",
      "1395 / 2696\n",
      "1396 / 2696\n",
      "1397 / 2696\n",
      "1398 / 2696\n",
      "1399 / 2696\n",
      "1400 / 2696\n",
      "1401 / 2696\n",
      "1402 / 2696\n",
      "1403 / 2696\n",
      "1404 / 2696\n",
      "1405 / 2696\n",
      "1406 / 2696\n",
      "1407 / 2696\n"
     ]
    },
    {
     "name": "stderr",
     "output_type": "stream",
     "text": [
      "C:\\Users\\myhyu\\AppData\\Local\\Temp\\ipykernel_11084\\1729452186.py:25: FutureWarning: The behavior of DataFrame concatenation with empty or all-NA entries is deprecated. In a future version, this will no longer exclude empty or all-NA columns when determining the result dtypes. To retain the old behavior, exclude the relevant entries before the concat operation.\n",
      "  finance_table = pd.concat([finance_table, temp_arranged])\n"
     ]
    },
    {
     "name": "stdout",
     "output_type": "stream",
     "text": [
      "1408 / 2696\n"
     ]
    },
    {
     "name": "stderr",
     "output_type": "stream",
     "text": [
      "C:\\Users\\myhyu\\AppData\\Local\\Temp\\ipykernel_11084\\1729452186.py:25: FutureWarning: The behavior of DataFrame concatenation with empty or all-NA entries is deprecated. In a future version, this will no longer exclude empty or all-NA columns when determining the result dtypes. To retain the old behavior, exclude the relevant entries before the concat operation.\n",
      "  finance_table = pd.concat([finance_table, temp_arranged])\n"
     ]
    },
    {
     "name": "stdout",
     "output_type": "stream",
     "text": [
      "1409 / 2696\n"
     ]
    },
    {
     "name": "stderr",
     "output_type": "stream",
     "text": [
      "C:\\Users\\myhyu\\AppData\\Local\\Temp\\ipykernel_11084\\1729452186.py:25: FutureWarning: The behavior of DataFrame concatenation with empty or all-NA entries is deprecated. In a future version, this will no longer exclude empty or all-NA columns when determining the result dtypes. To retain the old behavior, exclude the relevant entries before the concat operation.\n",
      "  finance_table = pd.concat([finance_table, temp_arranged])\n"
     ]
    },
    {
     "name": "stdout",
     "output_type": "stream",
     "text": [
      "1410 / 2696\n"
     ]
    },
    {
     "name": "stderr",
     "output_type": "stream",
     "text": [
      "C:\\Users\\myhyu\\AppData\\Local\\Temp\\ipykernel_11084\\1729452186.py:25: FutureWarning: The behavior of DataFrame concatenation with empty or all-NA entries is deprecated. In a future version, this will no longer exclude empty or all-NA columns when determining the result dtypes. To retain the old behavior, exclude the relevant entries before the concat operation.\n",
      "  finance_table = pd.concat([finance_table, temp_arranged])\n"
     ]
    },
    {
     "name": "stdout",
     "output_type": "stream",
     "text": [
      "1411 / 2696\n"
     ]
    },
    {
     "name": "stderr",
     "output_type": "stream",
     "text": [
      "C:\\Users\\myhyu\\AppData\\Local\\Temp\\ipykernel_11084\\1729452186.py:25: FutureWarning: The behavior of DataFrame concatenation with empty or all-NA entries is deprecated. In a future version, this will no longer exclude empty or all-NA columns when determining the result dtypes. To retain the old behavior, exclude the relevant entries before the concat operation.\n",
      "  finance_table = pd.concat([finance_table, temp_arranged])\n"
     ]
    },
    {
     "name": "stdout",
     "output_type": "stream",
     "text": [
      "1412 / 2696\n"
     ]
    },
    {
     "name": "stderr",
     "output_type": "stream",
     "text": [
      "C:\\Users\\myhyu\\AppData\\Local\\Temp\\ipykernel_11084\\1729452186.py:25: FutureWarning: The behavior of DataFrame concatenation with empty or all-NA entries is deprecated. In a future version, this will no longer exclude empty or all-NA columns when determining the result dtypes. To retain the old behavior, exclude the relevant entries before the concat operation.\n",
      "  finance_table = pd.concat([finance_table, temp_arranged])\n"
     ]
    },
    {
     "name": "stdout",
     "output_type": "stream",
     "text": [
      "1413 / 2696\n"
     ]
    },
    {
     "name": "stderr",
     "output_type": "stream",
     "text": [
      "C:\\Users\\myhyu\\AppData\\Local\\Temp\\ipykernel_11084\\1729452186.py:25: FutureWarning: The behavior of DataFrame concatenation with empty or all-NA entries is deprecated. In a future version, this will no longer exclude empty or all-NA columns when determining the result dtypes. To retain the old behavior, exclude the relevant entries before the concat operation.\n",
      "  finance_table = pd.concat([finance_table, temp_arranged])\n"
     ]
    },
    {
     "name": "stdout",
     "output_type": "stream",
     "text": [
      "1414 / 2696\n"
     ]
    },
    {
     "name": "stderr",
     "output_type": "stream",
     "text": [
      "C:\\Users\\myhyu\\AppData\\Local\\Temp\\ipykernel_11084\\1729452186.py:25: FutureWarning: The behavior of DataFrame concatenation with empty or all-NA entries is deprecated. In a future version, this will no longer exclude empty or all-NA columns when determining the result dtypes. To retain the old behavior, exclude the relevant entries before the concat operation.\n",
      "  finance_table = pd.concat([finance_table, temp_arranged])\n"
     ]
    },
    {
     "name": "stdout",
     "output_type": "stream",
     "text": [
      "1415 / 2696\n",
      "1416 / 2696\n",
      "1417 / 2696\n",
      "1418 / 2696\n",
      "1419 / 2696\n",
      "1420 / 2696\n"
     ]
    },
    {
     "name": "stderr",
     "output_type": "stream",
     "text": [
      "C:\\Users\\myhyu\\AppData\\Local\\Temp\\ipykernel_11084\\1729452186.py:25: FutureWarning: The behavior of DataFrame concatenation with empty or all-NA entries is deprecated. In a future version, this will no longer exclude empty or all-NA columns when determining the result dtypes. To retain the old behavior, exclude the relevant entries before the concat operation.\n",
      "  finance_table = pd.concat([finance_table, temp_arranged])\n"
     ]
    },
    {
     "name": "stdout",
     "output_type": "stream",
     "text": [
      "1421 / 2696\n",
      "1422 / 2696\n",
      "1423 / 2696\n",
      "1424 / 2696\n",
      "1425 / 2696\n",
      "1426 / 2696\n",
      "1427 / 2696\n",
      "1428 / 2696\n"
     ]
    },
    {
     "name": "stderr",
     "output_type": "stream",
     "text": [
      "C:\\Users\\myhyu\\AppData\\Local\\Temp\\ipykernel_11084\\1729452186.py:25: FutureWarning: The behavior of DataFrame concatenation with empty or all-NA entries is deprecated. In a future version, this will no longer exclude empty or all-NA columns when determining the result dtypes. To retain the old behavior, exclude the relevant entries before the concat operation.\n",
      "  finance_table = pd.concat([finance_table, temp_arranged])\n"
     ]
    },
    {
     "name": "stdout",
     "output_type": "stream",
     "text": [
      "1429 / 2696\n",
      "1430 / 2696\n",
      "1431 / 2696\n",
      "1432 / 2696\n",
      "1433 / 2696\n",
      "1434 / 2696\n",
      "1435 / 2696\n",
      "1436 / 2696\n",
      "1437 / 2696\n",
      "1438 / 2696\n",
      "1439 / 2696\n",
      "1440 / 2696\n",
      "1441 / 2696\n",
      "1442 / 2696\n",
      "1443 / 2696\n",
      "1444 / 2696\n",
      "1445 / 2696\n",
      "1446 / 2696\n",
      "1447 / 2696\n",
      "1448 / 2696\n",
      "1449 / 2696\n",
      "1450 / 2696\n",
      "1451 / 2696\n",
      "1452 / 2696\n",
      "1453 / 2696\n",
      "1454 / 2696\n",
      "1455 / 2696\n",
      "1456 / 2696\n",
      "1457 / 2696\n",
      "1458 / 2696\n",
      "1459 / 2696\n",
      "1460 / 2696\n",
      "1461 / 2696\n",
      "1462 / 2696\n",
      "1463 / 2696\n",
      "1464 / 2696\n",
      "1465 / 2696\n",
      "1466 / 2696\n",
      "1467 / 2696\n",
      "1468 / 2696\n",
      "1469 / 2696\n",
      "1470 / 2696\n",
      "1471 / 2696\n",
      "1472 / 2696\n",
      "1473 / 2696\n",
      "1474 / 2696\n",
      "1475 / 2696\n",
      "1476 / 2696\n",
      "1477 / 2696\n",
      "1478 / 2696\n",
      "1479 / 2696\n",
      "1480 / 2696\n",
      "1481 / 2696\n"
     ]
    },
    {
     "name": "stderr",
     "output_type": "stream",
     "text": [
      "C:\\Users\\myhyu\\AppData\\Local\\Temp\\ipykernel_11084\\1729452186.py:25: FutureWarning: The behavior of DataFrame concatenation with empty or all-NA entries is deprecated. In a future version, this will no longer exclude empty or all-NA columns when determining the result dtypes. To retain the old behavior, exclude the relevant entries before the concat operation.\n",
      "  finance_table = pd.concat([finance_table, temp_arranged])\n"
     ]
    },
    {
     "name": "stdout",
     "output_type": "stream",
     "text": [
      "1482 / 2696\n"
     ]
    },
    {
     "name": "stderr",
     "output_type": "stream",
     "text": [
      "C:\\Users\\myhyu\\AppData\\Local\\Temp\\ipykernel_11084\\1729452186.py:25: FutureWarning: The behavior of DataFrame concatenation with empty or all-NA entries is deprecated. In a future version, this will no longer exclude empty or all-NA columns when determining the result dtypes. To retain the old behavior, exclude the relevant entries before the concat operation.\n",
      "  finance_table = pd.concat([finance_table, temp_arranged])\n"
     ]
    },
    {
     "name": "stdout",
     "output_type": "stream",
     "text": [
      "1483 / 2696\n",
      "1484 / 2696\n",
      "1485 / 2696\n",
      "1486 / 2696\n",
      "1487 / 2696\n",
      "1488 / 2696\n",
      "1489 / 2696\n",
      "1490 / 2696\n",
      "1491 / 2696\n",
      "1492 / 2696\n",
      "1493 / 2696\n",
      "1494 / 2696\n",
      "1495 / 2696\n",
      "1496 / 2696\n",
      "1497 / 2696\n",
      "1498 / 2696\n",
      "1499 / 2696\n",
      "1500 / 2696\n",
      "1501 / 2696\n",
      "1502 / 2696\n",
      "1503 / 2696\n",
      "1504 / 2696\n",
      "1505 / 2696\n",
      "1506 / 2696\n",
      "1507 / 2696\n",
      "1508 / 2696\n"
     ]
    },
    {
     "name": "stderr",
     "output_type": "stream",
     "text": [
      "C:\\Users\\myhyu\\AppData\\Local\\Temp\\ipykernel_11084\\1729452186.py:25: FutureWarning: The behavior of DataFrame concatenation with empty or all-NA entries is deprecated. In a future version, this will no longer exclude empty or all-NA columns when determining the result dtypes. To retain the old behavior, exclude the relevant entries before the concat operation.\n",
      "  finance_table = pd.concat([finance_table, temp_arranged])\n"
     ]
    },
    {
     "name": "stdout",
     "output_type": "stream",
     "text": [
      "1509 / 2696\n",
      "1510 / 2696\n",
      "1511 / 2696\n",
      "1512 / 2696\n",
      "1513 / 2696\n",
      "1514 / 2696\n"
     ]
    },
    {
     "name": "stderr",
     "output_type": "stream",
     "text": [
      "C:\\Users\\myhyu\\AppData\\Local\\Temp\\ipykernel_11084\\1729452186.py:25: FutureWarning: The behavior of DataFrame concatenation with empty or all-NA entries is deprecated. In a future version, this will no longer exclude empty or all-NA columns when determining the result dtypes. To retain the old behavior, exclude the relevant entries before the concat operation.\n",
      "  finance_table = pd.concat([finance_table, temp_arranged])\n"
     ]
    },
    {
     "name": "stdout",
     "output_type": "stream",
     "text": [
      "1515 / 2696\n"
     ]
    },
    {
     "name": "stderr",
     "output_type": "stream",
     "text": [
      "C:\\Users\\myhyu\\AppData\\Local\\Temp\\ipykernel_11084\\1729452186.py:25: FutureWarning: The behavior of DataFrame concatenation with empty or all-NA entries is deprecated. In a future version, this will no longer exclude empty or all-NA columns when determining the result dtypes. To retain the old behavior, exclude the relevant entries before the concat operation.\n",
      "  finance_table = pd.concat([finance_table, temp_arranged])\n"
     ]
    },
    {
     "name": "stdout",
     "output_type": "stream",
     "text": [
      "1516 / 2696\n"
     ]
    },
    {
     "name": "stderr",
     "output_type": "stream",
     "text": [
      "C:\\Users\\myhyu\\AppData\\Local\\Temp\\ipykernel_11084\\1729452186.py:25: FutureWarning: The behavior of DataFrame concatenation with empty or all-NA entries is deprecated. In a future version, this will no longer exclude empty or all-NA columns when determining the result dtypes. To retain the old behavior, exclude the relevant entries before the concat operation.\n",
      "  finance_table = pd.concat([finance_table, temp_arranged])\n"
     ]
    },
    {
     "name": "stdout",
     "output_type": "stream",
     "text": [
      "1517 / 2696\n"
     ]
    },
    {
     "name": "stderr",
     "output_type": "stream",
     "text": [
      "C:\\Users\\myhyu\\AppData\\Local\\Temp\\ipykernel_11084\\1729452186.py:25: FutureWarning: The behavior of DataFrame concatenation with empty or all-NA entries is deprecated. In a future version, this will no longer exclude empty or all-NA columns when determining the result dtypes. To retain the old behavior, exclude the relevant entries before the concat operation.\n",
      "  finance_table = pd.concat([finance_table, temp_arranged])\n"
     ]
    },
    {
     "name": "stdout",
     "output_type": "stream",
     "text": [
      "1518 / 2696\n",
      "1519 / 2696\n",
      "1520 / 2696\n",
      "1521 / 2696\n",
      "1522 / 2696\n",
      "1523 / 2696\n",
      "1524 / 2696\n",
      "1525 / 2696\n",
      "1526 / 2696\n",
      "1527 / 2696\n",
      "1528 / 2696\n",
      "1529 / 2696\n",
      "1530 / 2696\n",
      "1531 / 2696\n",
      "1532 / 2696\n",
      "1533 / 2696\n",
      "1534 / 2696\n",
      "1535 / 2696\n"
     ]
    },
    {
     "name": "stderr",
     "output_type": "stream",
     "text": [
      "C:\\Users\\myhyu\\AppData\\Local\\Temp\\ipykernel_11084\\1729452186.py:25: FutureWarning: The behavior of DataFrame concatenation with empty or all-NA entries is deprecated. In a future version, this will no longer exclude empty or all-NA columns when determining the result dtypes. To retain the old behavior, exclude the relevant entries before the concat operation.\n",
      "  finance_table = pd.concat([finance_table, temp_arranged])\n"
     ]
    },
    {
     "name": "stdout",
     "output_type": "stream",
     "text": [
      "1536 / 2696\n"
     ]
    },
    {
     "name": "stderr",
     "output_type": "stream",
     "text": [
      "C:\\Users\\myhyu\\AppData\\Local\\Temp\\ipykernel_11084\\1729452186.py:25: FutureWarning: The behavior of DataFrame concatenation with empty or all-NA entries is deprecated. In a future version, this will no longer exclude empty or all-NA columns when determining the result dtypes. To retain the old behavior, exclude the relevant entries before the concat operation.\n",
      "  finance_table = pd.concat([finance_table, temp_arranged])\n"
     ]
    },
    {
     "name": "stdout",
     "output_type": "stream",
     "text": [
      "1537 / 2696\n",
      "1538 / 2696\n",
      "1539 / 2696\n",
      "1540 / 2696\n",
      "1541 / 2696\n",
      "1542 / 2696\n",
      "1543 / 2696\n",
      "1544 / 2696\n",
      "1545 / 2696\n",
      "1546 / 2696\n",
      "1547 / 2696\n",
      "1548 / 2696\n",
      "1549 / 2696\n",
      "1550 / 2696\n",
      "1551 / 2696\n",
      "1552 / 2696\n",
      "1553 / 2696\n",
      "1554 / 2696\n",
      "1555 / 2696\n",
      "1556 / 2696\n",
      "1557 / 2696\n",
      "1558 / 2696\n",
      "1559 / 2696\n",
      "1560 / 2696\n",
      "1561 / 2696\n",
      "1562 / 2696\n",
      "1563 / 2696\n",
      "1564 / 2696\n",
      "1565 / 2696\n",
      "1566 / 2696\n",
      "1567 / 2696\n",
      "1568 / 2696\n",
      "1569 / 2696\n",
      "1570 / 2696\n",
      "1571 / 2696\n",
      "1572 / 2696\n",
      "1573 / 2696\n"
     ]
    },
    {
     "name": "stderr",
     "output_type": "stream",
     "text": [
      "C:\\Users\\myhyu\\AppData\\Local\\Temp\\ipykernel_11084\\1729452186.py:25: FutureWarning: The behavior of DataFrame concatenation with empty or all-NA entries is deprecated. In a future version, this will no longer exclude empty or all-NA columns when determining the result dtypes. To retain the old behavior, exclude the relevant entries before the concat operation.\n",
      "  finance_table = pd.concat([finance_table, temp_arranged])\n"
     ]
    },
    {
     "name": "stdout",
     "output_type": "stream",
     "text": [
      "1574 / 2696\n",
      "1575 / 2696\n",
      "1576 / 2696\n",
      "1577 / 2696\n",
      "1578 / 2696\n",
      "1579 / 2696\n",
      "1580 / 2696\n",
      "1581 / 2696\n",
      "1582 / 2696\n",
      "1583 / 2696\n",
      "1584 / 2696\n",
      "1585 / 2696\n",
      "1586 / 2696\n",
      "1587 / 2696\n",
      "1588 / 2696\n",
      "1589 / 2696\n",
      "1590 / 2696\n",
      "1591 / 2696\n",
      "1592 / 2696\n",
      "1593 / 2696\n",
      "1594 / 2696\n",
      "1595 / 2696\n",
      "1596 / 2696\n",
      "1597 / 2696\n",
      "1598 / 2696\n",
      "1599 / 2696\n",
      "1600 / 2696\n",
      "1601 / 2696\n",
      "1602 / 2696\n",
      "1603 / 2696\n",
      "1604 / 2696\n",
      "1605 / 2696\n",
      "1606 / 2696\n",
      "1607 / 2696\n",
      "1608 / 2696\n",
      "1609 / 2696\n",
      "1610 / 2696\n"
     ]
    },
    {
     "name": "stderr",
     "output_type": "stream",
     "text": [
      "C:\\Users\\myhyu\\AppData\\Local\\Temp\\ipykernel_11084\\1729452186.py:25: FutureWarning: The behavior of DataFrame concatenation with empty or all-NA entries is deprecated. In a future version, this will no longer exclude empty or all-NA columns when determining the result dtypes. To retain the old behavior, exclude the relevant entries before the concat operation.\n",
      "  finance_table = pd.concat([finance_table, temp_arranged])\n"
     ]
    },
    {
     "name": "stdout",
     "output_type": "stream",
     "text": [
      "1611 / 2696\n",
      "1612 / 2696\n",
      "1613 / 2696\n",
      "1614 / 2696\n",
      "1615 / 2696\n",
      "1616 / 2696\n",
      "1617 / 2696\n",
      "1618 / 2696\n",
      "1619 / 2696\n",
      "1620 / 2696\n",
      "1621 / 2696\n",
      "1622 / 2696\n",
      "1623 / 2696\n",
      "1624 / 2696\n",
      "1625 / 2696\n",
      "1626 / 2696\n",
      "1627 / 2696\n",
      "1628 / 2696\n",
      "1629 / 2696\n",
      "1630 / 2696\n",
      "1631 / 2696\n",
      "1632 / 2696\n",
      "1633 / 2696\n",
      "1634 / 2696\n"
     ]
    },
    {
     "name": "stderr",
     "output_type": "stream",
     "text": [
      "C:\\Users\\myhyu\\AppData\\Local\\Temp\\ipykernel_11084\\1729452186.py:25: FutureWarning: The behavior of DataFrame concatenation with empty or all-NA entries is deprecated. In a future version, this will no longer exclude empty or all-NA columns when determining the result dtypes. To retain the old behavior, exclude the relevant entries before the concat operation.\n",
      "  finance_table = pd.concat([finance_table, temp_arranged])\n"
     ]
    },
    {
     "name": "stdout",
     "output_type": "stream",
     "text": [
      "1635 / 2696\n",
      "1636 / 2696\n",
      "1637 / 2696\n",
      "1638 / 2696\n",
      "1639 / 2696\n",
      "1640 / 2696\n",
      "1641 / 2696\n",
      "1642 / 2696\n",
      "1643 / 2696\n",
      "1644 / 2696\n",
      "1645 / 2696\n",
      "1646 / 2696\n",
      "1647 / 2696\n",
      "1648 / 2696\n",
      "1649 / 2696\n",
      "1650 / 2696\n"
     ]
    },
    {
     "name": "stderr",
     "output_type": "stream",
     "text": [
      "C:\\Users\\myhyu\\AppData\\Local\\Temp\\ipykernel_11084\\1729452186.py:25: FutureWarning: The behavior of DataFrame concatenation with empty or all-NA entries is deprecated. In a future version, this will no longer exclude empty or all-NA columns when determining the result dtypes. To retain the old behavior, exclude the relevant entries before the concat operation.\n",
      "  finance_table = pd.concat([finance_table, temp_arranged])\n"
     ]
    },
    {
     "name": "stdout",
     "output_type": "stream",
     "text": [
      "1651 / 2696\n",
      "1652 / 2696\n",
      "1653 / 2696\n",
      "1654 / 2696\n",
      "1655 / 2696\n",
      "1656 / 2696\n",
      "1657 / 2696\n",
      "1658 / 2696\n",
      "1659 / 2696\n",
      "1660 / 2696\n",
      "1661 / 2696\n"
     ]
    },
    {
     "name": "stderr",
     "output_type": "stream",
     "text": [
      "C:\\Users\\myhyu\\AppData\\Local\\Temp\\ipykernel_11084\\1729452186.py:25: FutureWarning: The behavior of DataFrame concatenation with empty or all-NA entries is deprecated. In a future version, this will no longer exclude empty or all-NA columns when determining the result dtypes. To retain the old behavior, exclude the relevant entries before the concat operation.\n",
      "  finance_table = pd.concat([finance_table, temp_arranged])\n"
     ]
    },
    {
     "name": "stdout",
     "output_type": "stream",
     "text": [
      "1662 / 2696\n"
     ]
    },
    {
     "name": "stderr",
     "output_type": "stream",
     "text": [
      "C:\\Users\\myhyu\\AppData\\Local\\Temp\\ipykernel_11084\\1729452186.py:25: FutureWarning: The behavior of DataFrame concatenation with empty or all-NA entries is deprecated. In a future version, this will no longer exclude empty or all-NA columns when determining the result dtypes. To retain the old behavior, exclude the relevant entries before the concat operation.\n",
      "  finance_table = pd.concat([finance_table, temp_arranged])\n"
     ]
    },
    {
     "name": "stdout",
     "output_type": "stream",
     "text": [
      "1663 / 2696\n"
     ]
    },
    {
     "name": "stderr",
     "output_type": "stream",
     "text": [
      "C:\\Users\\myhyu\\AppData\\Local\\Temp\\ipykernel_11084\\1729452186.py:25: FutureWarning: The behavior of DataFrame concatenation with empty or all-NA entries is deprecated. In a future version, this will no longer exclude empty or all-NA columns when determining the result dtypes. To retain the old behavior, exclude the relevant entries before the concat operation.\n",
      "  finance_table = pd.concat([finance_table, temp_arranged])\n"
     ]
    },
    {
     "name": "stdout",
     "output_type": "stream",
     "text": [
      "1664 / 2696\n",
      "1665 / 2696\n",
      "1666 / 2696\n",
      "1667 / 2696\n",
      "1668 / 2696\n"
     ]
    },
    {
     "name": "stderr",
     "output_type": "stream",
     "text": [
      "C:\\Users\\myhyu\\AppData\\Local\\Temp\\ipykernel_11084\\1729452186.py:25: FutureWarning: The behavior of DataFrame concatenation with empty or all-NA entries is deprecated. In a future version, this will no longer exclude empty or all-NA columns when determining the result dtypes. To retain the old behavior, exclude the relevant entries before the concat operation.\n",
      "  finance_table = pd.concat([finance_table, temp_arranged])\n"
     ]
    },
    {
     "name": "stdout",
     "output_type": "stream",
     "text": [
      "1669 / 2696\n"
     ]
    },
    {
     "name": "stderr",
     "output_type": "stream",
     "text": [
      "C:\\Users\\myhyu\\AppData\\Local\\Temp\\ipykernel_11084\\1729452186.py:25: FutureWarning: The behavior of DataFrame concatenation with empty or all-NA entries is deprecated. In a future version, this will no longer exclude empty or all-NA columns when determining the result dtypes. To retain the old behavior, exclude the relevant entries before the concat operation.\n",
      "  finance_table = pd.concat([finance_table, temp_arranged])\n"
     ]
    },
    {
     "name": "stdout",
     "output_type": "stream",
     "text": [
      "1670 / 2696\n"
     ]
    },
    {
     "name": "stderr",
     "output_type": "stream",
     "text": [
      "C:\\Users\\myhyu\\AppData\\Local\\Temp\\ipykernel_11084\\1729452186.py:25: FutureWarning: The behavior of DataFrame concatenation with empty or all-NA entries is deprecated. In a future version, this will no longer exclude empty or all-NA columns when determining the result dtypes. To retain the old behavior, exclude the relevant entries before the concat operation.\n",
      "  finance_table = pd.concat([finance_table, temp_arranged])\n"
     ]
    },
    {
     "name": "stdout",
     "output_type": "stream",
     "text": [
      "1671 / 2696\n"
     ]
    },
    {
     "name": "stderr",
     "output_type": "stream",
     "text": [
      "C:\\Users\\myhyu\\AppData\\Local\\Temp\\ipykernel_11084\\1729452186.py:25: FutureWarning: The behavior of DataFrame concatenation with empty or all-NA entries is deprecated. In a future version, this will no longer exclude empty or all-NA columns when determining the result dtypes. To retain the old behavior, exclude the relevant entries before the concat operation.\n",
      "  finance_table = pd.concat([finance_table, temp_arranged])\n"
     ]
    },
    {
     "name": "stdout",
     "output_type": "stream",
     "text": [
      "1672 / 2696\n",
      "1673 / 2696\n",
      "1674 / 2696\n",
      "1675 / 2696\n",
      "1676 / 2696\n",
      "1677 / 2696\n",
      "1678 / 2696\n",
      "1679 / 2696\n",
      "1680 / 2696\n",
      "1681 / 2696\n",
      "1682 / 2696\n",
      "1683 / 2696\n",
      "1684 / 2696\n",
      "1685 / 2696\n",
      "1686 / 2696\n",
      "1687 / 2696\n",
      "1688 / 2696\n",
      "1689 / 2696\n",
      "1690 / 2696\n",
      "1691 / 2696\n",
      "1692 / 2696\n",
      "1693 / 2696\n",
      "1694 / 2696\n",
      "1695 / 2696\n",
      "1696 / 2696\n",
      "1697 / 2696\n",
      "1698 / 2696\n",
      "1699 / 2696\n",
      "1700 / 2696\n",
      "1701 / 2696\n",
      "1702 / 2696\n",
      "1703 / 2696\n",
      "1704 / 2696\n",
      "1705 / 2696\n",
      "1706 / 2696\n",
      "1707 / 2696\n",
      "1708 / 2696\n",
      "1709 / 2696\n"
     ]
    },
    {
     "name": "stderr",
     "output_type": "stream",
     "text": [
      "C:\\Users\\myhyu\\AppData\\Local\\Temp\\ipykernel_11084\\1729452186.py:25: FutureWarning: The behavior of DataFrame concatenation with empty or all-NA entries is deprecated. In a future version, this will no longer exclude empty or all-NA columns when determining the result dtypes. To retain the old behavior, exclude the relevant entries before the concat operation.\n",
      "  finance_table = pd.concat([finance_table, temp_arranged])\n"
     ]
    },
    {
     "name": "stdout",
     "output_type": "stream",
     "text": [
      "1710 / 2696\n",
      "1711 / 2696\n",
      "1712 / 2696\n",
      "1713 / 2696\n",
      "1714 / 2696\n",
      "1715 / 2696\n",
      "1716 / 2696\n",
      "1717 / 2696\n",
      "1718 / 2696\n",
      "1719 / 2696\n",
      "1720 / 2696\n",
      "1721 / 2696\n",
      "1722 / 2696\n",
      "1723 / 2696\n",
      "1724 / 2696\n",
      "1725 / 2696\n",
      "1726 / 2696\n",
      "1727 / 2696\n",
      "1728 / 2696\n",
      "1729 / 2696\n",
      "1730 / 2696\n",
      "1731 / 2696\n",
      "1732 / 2696\n",
      "1733 / 2696\n",
      "1734 / 2696\n",
      "1735 / 2696\n",
      "1736 / 2696\n",
      "1737 / 2696\n",
      "1738 / 2696\n",
      "1739 / 2696\n",
      "1740 / 2696\n",
      "1741 / 2696\n",
      "1742 / 2696\n",
      "1743 / 2696\n",
      "1744 / 2696\n",
      "1745 / 2696\n",
      "1746 / 2696\n",
      "1747 / 2696\n",
      "1748 / 2696\n",
      "1749 / 2696\n",
      "1750 / 2696\n",
      "1751 / 2696\n",
      "1752 / 2696\n"
     ]
    },
    {
     "name": "stderr",
     "output_type": "stream",
     "text": [
      "C:\\Users\\myhyu\\AppData\\Local\\Temp\\ipykernel_11084\\1729452186.py:25: FutureWarning: The behavior of DataFrame concatenation with empty or all-NA entries is deprecated. In a future version, this will no longer exclude empty or all-NA columns when determining the result dtypes. To retain the old behavior, exclude the relevant entries before the concat operation.\n",
      "  finance_table = pd.concat([finance_table, temp_arranged])\n"
     ]
    },
    {
     "name": "stdout",
     "output_type": "stream",
     "text": [
      "1753 / 2696\n",
      "1754 / 2696\n",
      "1755 / 2696\n",
      "1756 / 2696\n",
      "1757 / 2696\n",
      "1758 / 2696\n",
      "1759 / 2696\n",
      "1760 / 2696\n",
      "1761 / 2696\n"
     ]
    },
    {
     "name": "stderr",
     "output_type": "stream",
     "text": [
      "C:\\Users\\myhyu\\AppData\\Local\\Temp\\ipykernel_11084\\1729452186.py:25: FutureWarning: The behavior of DataFrame concatenation with empty or all-NA entries is deprecated. In a future version, this will no longer exclude empty or all-NA columns when determining the result dtypes. To retain the old behavior, exclude the relevant entries before the concat operation.\n",
      "  finance_table = pd.concat([finance_table, temp_arranged])\n"
     ]
    },
    {
     "name": "stdout",
     "output_type": "stream",
     "text": [
      "1762 / 2696\n",
      "1763 / 2696\n",
      "1764 / 2696\n",
      "1765 / 2696\n",
      "1766 / 2696\n",
      "1767 / 2696\n",
      "1768 / 2696\n",
      "1769 / 2696\n",
      "1770 / 2696\n",
      "1771 / 2696\n",
      "1772 / 2696\n",
      "1773 / 2696\n",
      "1774 / 2696\n",
      "1775 / 2696\n",
      "1776 / 2696\n",
      "1777 / 2696\n",
      "1778 / 2696\n",
      "1779 / 2696\n",
      "1780 / 2696\n",
      "1781 / 2696\n",
      "1782 / 2696\n",
      "1783 / 2696\n",
      "1784 / 2696\n",
      "1785 / 2696\n",
      "1786 / 2696\n",
      "1787 / 2696\n",
      "1788 / 2696\n",
      "1789 / 2696\n",
      "1790 / 2696\n",
      "1791 / 2696\n",
      "1792 / 2696\n",
      "1793 / 2696\n",
      "1794 / 2696\n",
      "1795 / 2696\n",
      "1796 / 2696\n",
      "1797 / 2696\n",
      "1798 / 2696\n",
      "1799 / 2696\n",
      "1800 / 2696\n",
      "1801 / 2696\n",
      "1802 / 2696\n"
     ]
    },
    {
     "name": "stderr",
     "output_type": "stream",
     "text": [
      "C:\\Users\\myhyu\\AppData\\Local\\Temp\\ipykernel_11084\\1729452186.py:25: FutureWarning: The behavior of DataFrame concatenation with empty or all-NA entries is deprecated. In a future version, this will no longer exclude empty or all-NA columns when determining the result dtypes. To retain the old behavior, exclude the relevant entries before the concat operation.\n",
      "  finance_table = pd.concat([finance_table, temp_arranged])\n"
     ]
    },
    {
     "name": "stdout",
     "output_type": "stream",
     "text": [
      "1803 / 2696\n",
      "1804 / 2696\n",
      "1805 / 2696\n",
      "1806 / 2696\n",
      "1807 / 2696\n",
      "1808 / 2696\n",
      "1809 / 2696\n",
      "1810 / 2696\n",
      "1811 / 2696\n",
      "1812 / 2696\n",
      "1813 / 2696\n",
      "1814 / 2696\n",
      "1815 / 2696\n",
      "1816 / 2696\n",
      "1817 / 2696\n",
      "1818 / 2696\n",
      "1819 / 2696\n",
      "1820 / 2696\n",
      "1821 / 2696\n",
      "1822 / 2696\n",
      "1823 / 2696\n",
      "1824 / 2696\n",
      "1825 / 2696\n",
      "1826 / 2696\n",
      "1827 / 2696\n",
      "1828 / 2696\n",
      "1829 / 2696\n",
      "1830 / 2696\n",
      "1831 / 2696\n",
      "1832 / 2696\n",
      "1833 / 2696\n"
     ]
    },
    {
     "name": "stderr",
     "output_type": "stream",
     "text": [
      "C:\\Users\\myhyu\\AppData\\Local\\Temp\\ipykernel_11084\\1729452186.py:25: FutureWarning: The behavior of DataFrame concatenation with empty or all-NA entries is deprecated. In a future version, this will no longer exclude empty or all-NA columns when determining the result dtypes. To retain the old behavior, exclude the relevant entries before the concat operation.\n",
      "  finance_table = pd.concat([finance_table, temp_arranged])\n"
     ]
    },
    {
     "name": "stdout",
     "output_type": "stream",
     "text": [
      "1834 / 2696\n"
     ]
    },
    {
     "name": "stderr",
     "output_type": "stream",
     "text": [
      "C:\\Users\\myhyu\\AppData\\Local\\Temp\\ipykernel_11084\\1729452186.py:25: FutureWarning: The behavior of DataFrame concatenation with empty or all-NA entries is deprecated. In a future version, this will no longer exclude empty or all-NA columns when determining the result dtypes. To retain the old behavior, exclude the relevant entries before the concat operation.\n",
      "  finance_table = pd.concat([finance_table, temp_arranged])\n"
     ]
    },
    {
     "name": "stdout",
     "output_type": "stream",
     "text": [
      "1835 / 2696\n"
     ]
    },
    {
     "name": "stderr",
     "output_type": "stream",
     "text": [
      "C:\\Users\\myhyu\\AppData\\Local\\Temp\\ipykernel_11084\\1729452186.py:25: FutureWarning: The behavior of DataFrame concatenation with empty or all-NA entries is deprecated. In a future version, this will no longer exclude empty or all-NA columns when determining the result dtypes. To retain the old behavior, exclude the relevant entries before the concat operation.\n",
      "  finance_table = pd.concat([finance_table, temp_arranged])\n"
     ]
    },
    {
     "name": "stdout",
     "output_type": "stream",
     "text": [
      "1836 / 2696\n"
     ]
    },
    {
     "name": "stderr",
     "output_type": "stream",
     "text": [
      "C:\\Users\\myhyu\\AppData\\Local\\Temp\\ipykernel_11084\\1729452186.py:25: FutureWarning: The behavior of DataFrame concatenation with empty or all-NA entries is deprecated. In a future version, this will no longer exclude empty or all-NA columns when determining the result dtypes. To retain the old behavior, exclude the relevant entries before the concat operation.\n",
      "  finance_table = pd.concat([finance_table, temp_arranged])\n"
     ]
    },
    {
     "name": "stdout",
     "output_type": "stream",
     "text": [
      "1837 / 2696\n"
     ]
    },
    {
     "name": "stderr",
     "output_type": "stream",
     "text": [
      "C:\\Users\\myhyu\\AppData\\Local\\Temp\\ipykernel_11084\\1729452186.py:25: FutureWarning: The behavior of DataFrame concatenation with empty or all-NA entries is deprecated. In a future version, this will no longer exclude empty or all-NA columns when determining the result dtypes. To retain the old behavior, exclude the relevant entries before the concat operation.\n",
      "  finance_table = pd.concat([finance_table, temp_arranged])\n"
     ]
    },
    {
     "name": "stdout",
     "output_type": "stream",
     "text": [
      "1838 / 2696\n",
      "1839 / 2696\n",
      "1840 / 2696\n",
      "1841 / 2696\n",
      "1842 / 2696\n",
      "1843 / 2696\n",
      "1844 / 2696\n",
      "1845 / 2696\n",
      "1846 / 2696\n",
      "1847 / 2696\n",
      "1848 / 2696\n",
      "1849 / 2696\n",
      "1850 / 2696\n",
      "1851 / 2696\n",
      "1852 / 2696\n",
      "1853 / 2696\n",
      "1854 / 2696\n",
      "1855 / 2696\n",
      "1856 / 2696\n",
      "1857 / 2696\n",
      "1858 / 2696\n",
      "1859 / 2696\n",
      "1860 / 2696\n",
      "1861 / 2696\n",
      "1862 / 2696\n",
      "1863 / 2696\n",
      "1864 / 2696\n",
      "1865 / 2696\n",
      "1866 / 2696\n",
      "1867 / 2696\n",
      "1868 / 2696\n"
     ]
    },
    {
     "name": "stderr",
     "output_type": "stream",
     "text": [
      "C:\\Users\\myhyu\\AppData\\Local\\Temp\\ipykernel_11084\\1729452186.py:25: FutureWarning: The behavior of DataFrame concatenation with empty or all-NA entries is deprecated. In a future version, this will no longer exclude empty or all-NA columns when determining the result dtypes. To retain the old behavior, exclude the relevant entries before the concat operation.\n",
      "  finance_table = pd.concat([finance_table, temp_arranged])\n"
     ]
    },
    {
     "name": "stdout",
     "output_type": "stream",
     "text": [
      "1869 / 2696\n"
     ]
    },
    {
     "name": "stderr",
     "output_type": "stream",
     "text": [
      "C:\\Users\\myhyu\\AppData\\Local\\Temp\\ipykernel_11084\\1729452186.py:25: FutureWarning: The behavior of DataFrame concatenation with empty or all-NA entries is deprecated. In a future version, this will no longer exclude empty or all-NA columns when determining the result dtypes. To retain the old behavior, exclude the relevant entries before the concat operation.\n",
      "  finance_table = pd.concat([finance_table, temp_arranged])\n"
     ]
    },
    {
     "name": "stdout",
     "output_type": "stream",
     "text": [
      "1870 / 2696\n",
      "1871 / 2696\n",
      "1872 / 2696\n",
      "1873 / 2696\n",
      "1874 / 2696\n",
      "1875 / 2696\n",
      "1876 / 2696\n",
      "1877 / 2696\n"
     ]
    },
    {
     "name": "stderr",
     "output_type": "stream",
     "text": [
      "C:\\Users\\myhyu\\AppData\\Local\\Temp\\ipykernel_11084\\1729452186.py:25: FutureWarning: The behavior of DataFrame concatenation with empty or all-NA entries is deprecated. In a future version, this will no longer exclude empty or all-NA columns when determining the result dtypes. To retain the old behavior, exclude the relevant entries before the concat operation.\n",
      "  finance_table = pd.concat([finance_table, temp_arranged])\n"
     ]
    },
    {
     "name": "stdout",
     "output_type": "stream",
     "text": [
      "1878 / 2696\n",
      "1879 / 2696\n",
      "1880 / 2696\n",
      "1881 / 2696\n",
      "1882 / 2696\n",
      "1883 / 2696\n",
      "1884 / 2696\n",
      "1885 / 2696\n",
      "1886 / 2696\n",
      "1887 / 2696\n",
      "1888 / 2696\n",
      "1889 / 2696\n",
      "1890 / 2696\n",
      "1891 / 2696\n",
      "1892 / 2696\n",
      "1893 / 2696\n",
      "1894 / 2696\n",
      "1895 / 2696\n",
      "1896 / 2696\n",
      "1897 / 2696\n",
      "1898 / 2696\n",
      "1899 / 2696\n",
      "1900 / 2696\n",
      "1901 / 2696\n",
      "1902 / 2696\n",
      "1903 / 2696\n",
      "1904 / 2696\n",
      "1905 / 2696\n",
      "1906 / 2696\n",
      "1907 / 2696\n",
      "1908 / 2696\n",
      "1909 / 2696\n",
      "1910 / 2696\n",
      "1911 / 2696\n",
      "1912 / 2696\n"
     ]
    },
    {
     "name": "stderr",
     "output_type": "stream",
     "text": [
      "C:\\Users\\myhyu\\AppData\\Local\\Temp\\ipykernel_11084\\1729452186.py:25: FutureWarning: The behavior of DataFrame concatenation with empty or all-NA entries is deprecated. In a future version, this will no longer exclude empty or all-NA columns when determining the result dtypes. To retain the old behavior, exclude the relevant entries before the concat operation.\n",
      "  finance_table = pd.concat([finance_table, temp_arranged])\n"
     ]
    },
    {
     "name": "stdout",
     "output_type": "stream",
     "text": [
      "1913 / 2696\n"
     ]
    },
    {
     "name": "stderr",
     "output_type": "stream",
     "text": [
      "C:\\Users\\myhyu\\AppData\\Local\\Temp\\ipykernel_11084\\1729452186.py:25: FutureWarning: The behavior of DataFrame concatenation with empty or all-NA entries is deprecated. In a future version, this will no longer exclude empty or all-NA columns when determining the result dtypes. To retain the old behavior, exclude the relevant entries before the concat operation.\n",
      "  finance_table = pd.concat([finance_table, temp_arranged])\n"
     ]
    },
    {
     "name": "stdout",
     "output_type": "stream",
     "text": [
      "1914 / 2696\n"
     ]
    },
    {
     "name": "stderr",
     "output_type": "stream",
     "text": [
      "C:\\Users\\myhyu\\AppData\\Local\\Temp\\ipykernel_11084\\1729452186.py:25: FutureWarning: The behavior of DataFrame concatenation with empty or all-NA entries is deprecated. In a future version, this will no longer exclude empty or all-NA columns when determining the result dtypes. To retain the old behavior, exclude the relevant entries before the concat operation.\n",
      "  finance_table = pd.concat([finance_table, temp_arranged])\n"
     ]
    },
    {
     "name": "stdout",
     "output_type": "stream",
     "text": [
      "1915 / 2696\n"
     ]
    },
    {
     "name": "stderr",
     "output_type": "stream",
     "text": [
      "C:\\Users\\myhyu\\AppData\\Local\\Temp\\ipykernel_11084\\1729452186.py:25: FutureWarning: The behavior of DataFrame concatenation with empty or all-NA entries is deprecated. In a future version, this will no longer exclude empty or all-NA columns when determining the result dtypes. To retain the old behavior, exclude the relevant entries before the concat operation.\n",
      "  finance_table = pd.concat([finance_table, temp_arranged])\n"
     ]
    },
    {
     "name": "stdout",
     "output_type": "stream",
     "text": [
      "1916 / 2696\n"
     ]
    },
    {
     "name": "stderr",
     "output_type": "stream",
     "text": [
      "C:\\Users\\myhyu\\AppData\\Local\\Temp\\ipykernel_11084\\1729452186.py:25: FutureWarning: The behavior of DataFrame concatenation with empty or all-NA entries is deprecated. In a future version, this will no longer exclude empty or all-NA columns when determining the result dtypes. To retain the old behavior, exclude the relevant entries before the concat operation.\n",
      "  finance_table = pd.concat([finance_table, temp_arranged])\n"
     ]
    },
    {
     "name": "stdout",
     "output_type": "stream",
     "text": [
      "1917 / 2696\n"
     ]
    },
    {
     "name": "stderr",
     "output_type": "stream",
     "text": [
      "C:\\Users\\myhyu\\AppData\\Local\\Temp\\ipykernel_11084\\1729452186.py:25: FutureWarning: The behavior of DataFrame concatenation with empty or all-NA entries is deprecated. In a future version, this will no longer exclude empty or all-NA columns when determining the result dtypes. To retain the old behavior, exclude the relevant entries before the concat operation.\n",
      "  finance_table = pd.concat([finance_table, temp_arranged])\n"
     ]
    },
    {
     "name": "stdout",
     "output_type": "stream",
     "text": [
      "1918 / 2696\n"
     ]
    },
    {
     "name": "stderr",
     "output_type": "stream",
     "text": [
      "C:\\Users\\myhyu\\AppData\\Local\\Temp\\ipykernel_11084\\1729452186.py:25: FutureWarning: The behavior of DataFrame concatenation with empty or all-NA entries is deprecated. In a future version, this will no longer exclude empty or all-NA columns when determining the result dtypes. To retain the old behavior, exclude the relevant entries before the concat operation.\n",
      "  finance_table = pd.concat([finance_table, temp_arranged])\n"
     ]
    },
    {
     "name": "stdout",
     "output_type": "stream",
     "text": [
      "1919 / 2696\n",
      "1920 / 2696\n",
      "1921 / 2696\n",
      "1922 / 2696\n",
      "1923 / 2696\n",
      "1924 / 2696\n",
      "1925 / 2696\n",
      "1926 / 2696\n",
      "1927 / 2696\n",
      "1928 / 2696\n",
      "1929 / 2696\n",
      "1930 / 2696\n",
      "1931 / 2696\n",
      "1932 / 2696\n"
     ]
    },
    {
     "name": "stderr",
     "output_type": "stream",
     "text": [
      "C:\\Users\\myhyu\\AppData\\Local\\Temp\\ipykernel_11084\\1729452186.py:25: FutureWarning: The behavior of DataFrame concatenation with empty or all-NA entries is deprecated. In a future version, this will no longer exclude empty or all-NA columns when determining the result dtypes. To retain the old behavior, exclude the relevant entries before the concat operation.\n",
      "  finance_table = pd.concat([finance_table, temp_arranged])\n"
     ]
    },
    {
     "name": "stdout",
     "output_type": "stream",
     "text": [
      "1933 / 2696\n",
      "1934 / 2696\n",
      "1935 / 2696\n",
      "1936 / 2696\n",
      "1937 / 2696\n",
      "1938 / 2696\n",
      "1939 / 2696\n",
      "1940 / 2696\n",
      "1941 / 2696\n"
     ]
    },
    {
     "name": "stderr",
     "output_type": "stream",
     "text": [
      "C:\\Users\\myhyu\\AppData\\Local\\Temp\\ipykernel_11084\\1729452186.py:25: FutureWarning: The behavior of DataFrame concatenation with empty or all-NA entries is deprecated. In a future version, this will no longer exclude empty or all-NA columns when determining the result dtypes. To retain the old behavior, exclude the relevant entries before the concat operation.\n",
      "  finance_table = pd.concat([finance_table, temp_arranged])\n"
     ]
    },
    {
     "name": "stdout",
     "output_type": "stream",
     "text": [
      "1942 / 2696\n",
      "1943 / 2696\n",
      "1944 / 2696\n",
      "1945 / 2696\n",
      "1946 / 2696\n",
      "1947 / 2696\n",
      "1948 / 2696\n",
      "1949 / 2696\n",
      "1950 / 2696\n",
      "1951 / 2696\n",
      "1952 / 2696\n",
      "1953 / 2696\n",
      "1954 / 2696\n",
      "1955 / 2696\n",
      "1956 / 2696\n",
      "1957 / 2696\n",
      "1958 / 2696\n",
      "1959 / 2696\n",
      "1960 / 2696\n",
      "1961 / 2696\n",
      "1962 / 2696\n",
      "1963 / 2696\n",
      "1964 / 2696\n",
      "1965 / 2696\n",
      "1966 / 2696\n",
      "1967 / 2696\n",
      "1968 / 2696\n",
      "1969 / 2696\n",
      "1970 / 2696\n",
      "1971 / 2696\n",
      "1972 / 2696\n",
      "1973 / 2696\n",
      "1974 / 2696\n"
     ]
    },
    {
     "name": "stderr",
     "output_type": "stream",
     "text": [
      "C:\\Users\\myhyu\\AppData\\Local\\Temp\\ipykernel_11084\\1729452186.py:25: FutureWarning: The behavior of DataFrame concatenation with empty or all-NA entries is deprecated. In a future version, this will no longer exclude empty or all-NA columns when determining the result dtypes. To retain the old behavior, exclude the relevant entries before the concat operation.\n",
      "  finance_table = pd.concat([finance_table, temp_arranged])\n"
     ]
    },
    {
     "name": "stdout",
     "output_type": "stream",
     "text": [
      "1975 / 2696\n",
      "1976 / 2696\n",
      "1977 / 2696\n",
      "1978 / 2696\n",
      "1979 / 2696\n",
      "1980 / 2696\n",
      "1981 / 2696\n",
      "1982 / 2696\n",
      "1983 / 2696\n",
      "1984 / 2696\n",
      "1985 / 2696\n",
      "1986 / 2696\n",
      "1987 / 2696\n",
      "1988 / 2696\n",
      "1989 / 2696\n",
      "1990 / 2696\n",
      "1991 / 2696\n",
      "1992 / 2696\n",
      "1993 / 2696\n",
      "1994 / 2696\n",
      "1995 / 2696\n",
      "1996 / 2696\n",
      "1997 / 2696\n",
      "1998 / 2696\n",
      "1999 / 2696\n",
      "2000 / 2696\n",
      "2001 / 2696\n",
      "2002 / 2696\n",
      "2003 / 2696\n",
      "2004 / 2696\n",
      "2005 / 2696\n",
      "2006 / 2696\n",
      "2007 / 2696\n",
      "2008 / 2696\n",
      "2009 / 2696\n",
      "2010 / 2696\n",
      "2011 / 2696\n",
      "2012 / 2696\n",
      "2013 / 2696\n"
     ]
    },
    {
     "name": "stderr",
     "output_type": "stream",
     "text": [
      "C:\\Users\\myhyu\\AppData\\Local\\Temp\\ipykernel_11084\\1729452186.py:25: FutureWarning: The behavior of DataFrame concatenation with empty or all-NA entries is deprecated. In a future version, this will no longer exclude empty or all-NA columns when determining the result dtypes. To retain the old behavior, exclude the relevant entries before the concat operation.\n",
      "  finance_table = pd.concat([finance_table, temp_arranged])\n"
     ]
    },
    {
     "name": "stdout",
     "output_type": "stream",
     "text": [
      "2014 / 2696\n",
      "2015 / 2696\n",
      "2016 / 2696\n"
     ]
    },
    {
     "name": "stderr",
     "output_type": "stream",
     "text": [
      "C:\\Users\\myhyu\\AppData\\Local\\Temp\\ipykernel_11084\\1729452186.py:25: FutureWarning: The behavior of DataFrame concatenation with empty or all-NA entries is deprecated. In a future version, this will no longer exclude empty or all-NA columns when determining the result dtypes. To retain the old behavior, exclude the relevant entries before the concat operation.\n",
      "  finance_table = pd.concat([finance_table, temp_arranged])\n"
     ]
    },
    {
     "name": "stdout",
     "output_type": "stream",
     "text": [
      "2017 / 2696\n",
      "2018 / 2696\n",
      "2019 / 2696\n",
      "2020 / 2696\n",
      "2021 / 2696\n",
      "2022 / 2696\n",
      "2023 / 2696\n",
      "2024 / 2696\n",
      "2025 / 2696\n",
      "2026 / 2696\n",
      "2027 / 2696\n",
      "2028 / 2696\n",
      "2029 / 2696\n",
      "2030 / 2696\n",
      "2031 / 2696\n",
      "2032 / 2696\n",
      "2033 / 2696\n",
      "2034 / 2696\n",
      "2035 / 2696\n",
      "2036 / 2696\n",
      "2037 / 2696\n",
      "2038 / 2696\n",
      "2039 / 2696\n",
      "2040 / 2696\n",
      "2041 / 2696\n",
      "2042 / 2696\n",
      "2043 / 2696\n",
      "2044 / 2696\n",
      "2045 / 2696\n",
      "2046 / 2696\n",
      "2047 / 2696\n",
      "2048 / 2696\n",
      "2049 / 2696\n",
      "2050 / 2696\n",
      "2051 / 2696\n",
      "2052 / 2696\n",
      "2053 / 2696\n",
      "2054 / 2696\n",
      "2055 / 2696\n",
      "2056 / 2696\n",
      "2057 / 2696\n",
      "2058 / 2696\n",
      "2059 / 2696\n",
      "2060 / 2696\n",
      "2061 / 2696\n",
      "2062 / 2696\n",
      "2063 / 2696\n",
      "2064 / 2696\n",
      "2065 / 2696\n",
      "2066 / 2696\n",
      "2067 / 2696\n",
      "2068 / 2696\n",
      "2069 / 2696\n",
      "2070 / 2696\n",
      "2071 / 2696\n",
      "2072 / 2696\n",
      "2073 / 2696\n",
      "2074 / 2696\n",
      "2075 / 2696\n",
      "2076 / 2696\n",
      "2077 / 2696\n",
      "2078 / 2696\n",
      "2079 / 2696\n",
      "2080 / 2696\n",
      "2081 / 2696\n",
      "2082 / 2696\n",
      "2083 / 2696\n",
      "2084 / 2696\n",
      "2085 / 2696\n",
      "2086 / 2696\n",
      "2087 / 2696\n",
      "2088 / 2696\n",
      "2089 / 2696\n",
      "2090 / 2696\n",
      "2091 / 2696\n",
      "2092 / 2696\n",
      "2093 / 2696\n",
      "2094 / 2696\n"
     ]
    },
    {
     "name": "stderr",
     "output_type": "stream",
     "text": [
      "C:\\Users\\myhyu\\AppData\\Local\\Temp\\ipykernel_11084\\1729452186.py:25: FutureWarning: The behavior of DataFrame concatenation with empty or all-NA entries is deprecated. In a future version, this will no longer exclude empty or all-NA columns when determining the result dtypes. To retain the old behavior, exclude the relevant entries before the concat operation.\n",
      "  finance_table = pd.concat([finance_table, temp_arranged])\n"
     ]
    },
    {
     "name": "stdout",
     "output_type": "stream",
     "text": [
      "2095 / 2696\n"
     ]
    },
    {
     "name": "stderr",
     "output_type": "stream",
     "text": [
      "C:\\Users\\myhyu\\AppData\\Local\\Temp\\ipykernel_11084\\1729452186.py:25: FutureWarning: The behavior of DataFrame concatenation with empty or all-NA entries is deprecated. In a future version, this will no longer exclude empty or all-NA columns when determining the result dtypes. To retain the old behavior, exclude the relevant entries before the concat operation.\n",
      "  finance_table = pd.concat([finance_table, temp_arranged])\n"
     ]
    },
    {
     "name": "stdout",
     "output_type": "stream",
     "text": [
      "2096 / 2696\n"
     ]
    },
    {
     "name": "stderr",
     "output_type": "stream",
     "text": [
      "C:\\Users\\myhyu\\AppData\\Local\\Temp\\ipykernel_11084\\1729452186.py:25: FutureWarning: The behavior of DataFrame concatenation with empty or all-NA entries is deprecated. In a future version, this will no longer exclude empty or all-NA columns when determining the result dtypes. To retain the old behavior, exclude the relevant entries before the concat operation.\n",
      "  finance_table = pd.concat([finance_table, temp_arranged])\n"
     ]
    },
    {
     "name": "stdout",
     "output_type": "stream",
     "text": [
      "2097 / 2696\n"
     ]
    },
    {
     "name": "stderr",
     "output_type": "stream",
     "text": [
      "C:\\Users\\myhyu\\AppData\\Local\\Temp\\ipykernel_11084\\1729452186.py:25: FutureWarning: The behavior of DataFrame concatenation with empty or all-NA entries is deprecated. In a future version, this will no longer exclude empty or all-NA columns when determining the result dtypes. To retain the old behavior, exclude the relevant entries before the concat operation.\n",
      "  finance_table = pd.concat([finance_table, temp_arranged])\n"
     ]
    },
    {
     "name": "stdout",
     "output_type": "stream",
     "text": [
      "2098 / 2696\n"
     ]
    },
    {
     "name": "stderr",
     "output_type": "stream",
     "text": [
      "C:\\Users\\myhyu\\AppData\\Local\\Temp\\ipykernel_11084\\1729452186.py:25: FutureWarning: The behavior of DataFrame concatenation with empty or all-NA entries is deprecated. In a future version, this will no longer exclude empty or all-NA columns when determining the result dtypes. To retain the old behavior, exclude the relevant entries before the concat operation.\n",
      "  finance_table = pd.concat([finance_table, temp_arranged])\n"
     ]
    },
    {
     "name": "stdout",
     "output_type": "stream",
     "text": [
      "2099 / 2696\n"
     ]
    },
    {
     "name": "stderr",
     "output_type": "stream",
     "text": [
      "C:\\Users\\myhyu\\AppData\\Local\\Temp\\ipykernel_11084\\1729452186.py:25: FutureWarning: The behavior of DataFrame concatenation with empty or all-NA entries is deprecated. In a future version, this will no longer exclude empty or all-NA columns when determining the result dtypes. To retain the old behavior, exclude the relevant entries before the concat operation.\n",
      "  finance_table = pd.concat([finance_table, temp_arranged])\n"
     ]
    },
    {
     "name": "stdout",
     "output_type": "stream",
     "text": [
      "2100 / 2696\n"
     ]
    },
    {
     "name": "stderr",
     "output_type": "stream",
     "text": [
      "C:\\Users\\myhyu\\AppData\\Local\\Temp\\ipykernel_11084\\1729452186.py:25: FutureWarning: The behavior of DataFrame concatenation with empty or all-NA entries is deprecated. In a future version, this will no longer exclude empty or all-NA columns when determining the result dtypes. To retain the old behavior, exclude the relevant entries before the concat operation.\n",
      "  finance_table = pd.concat([finance_table, temp_arranged])\n"
     ]
    },
    {
     "name": "stdout",
     "output_type": "stream",
     "text": [
      "2101 / 2696\n"
     ]
    },
    {
     "name": "stderr",
     "output_type": "stream",
     "text": [
      "C:\\Users\\myhyu\\AppData\\Local\\Temp\\ipykernel_11084\\1729452186.py:25: FutureWarning: The behavior of DataFrame concatenation with empty or all-NA entries is deprecated. In a future version, this will no longer exclude empty or all-NA columns when determining the result dtypes. To retain the old behavior, exclude the relevant entries before the concat operation.\n",
      "  finance_table = pd.concat([finance_table, temp_arranged])\n"
     ]
    },
    {
     "name": "stdout",
     "output_type": "stream",
     "text": [
      "2102 / 2696\n",
      "2103 / 2696\n",
      "2104 / 2696\n",
      "2105 / 2696\n",
      "2106 / 2696\n",
      "2107 / 2696\n"
     ]
    },
    {
     "name": "stderr",
     "output_type": "stream",
     "text": [
      "C:\\Users\\myhyu\\AppData\\Local\\Temp\\ipykernel_11084\\1729452186.py:25: FutureWarning: The behavior of DataFrame concatenation with empty or all-NA entries is deprecated. In a future version, this will no longer exclude empty or all-NA columns when determining the result dtypes. To retain the old behavior, exclude the relevant entries before the concat operation.\n",
      "  finance_table = pd.concat([finance_table, temp_arranged])\n"
     ]
    },
    {
     "name": "stdout",
     "output_type": "stream",
     "text": [
      "2108 / 2696\n"
     ]
    },
    {
     "name": "stderr",
     "output_type": "stream",
     "text": [
      "C:\\Users\\myhyu\\AppData\\Local\\Temp\\ipykernel_11084\\1729452186.py:25: FutureWarning: The behavior of DataFrame concatenation with empty or all-NA entries is deprecated. In a future version, this will no longer exclude empty or all-NA columns when determining the result dtypes. To retain the old behavior, exclude the relevant entries before the concat operation.\n",
      "  finance_table = pd.concat([finance_table, temp_arranged])\n"
     ]
    },
    {
     "name": "stdout",
     "output_type": "stream",
     "text": [
      "2109 / 2696\n",
      "2110 / 2696\n",
      "2111 / 2696\n",
      "2112 / 2696\n",
      "2113 / 2696\n",
      "2114 / 2696\n",
      "2115 / 2696\n",
      "2116 / 2696\n",
      "2117 / 2696\n",
      "2118 / 2696\n",
      "2119 / 2696\n",
      "2120 / 2696\n",
      "2121 / 2696\n",
      "2122 / 2696\n",
      "2123 / 2696\n",
      "2124 / 2696\n",
      "2125 / 2696\n",
      "2126 / 2696\n",
      "2127 / 2696\n",
      "2128 / 2696\n",
      "2129 / 2696\n",
      "2130 / 2696\n",
      "2131 / 2696\n",
      "2132 / 2696\n",
      "2133 / 2696\n",
      "2134 / 2696\n",
      "2135 / 2696\n",
      "2136 / 2696\n",
      "2137 / 2696\n",
      "2138 / 2696\n",
      "2139 / 2696\n",
      "2140 / 2696\n"
     ]
    },
    {
     "name": "stderr",
     "output_type": "stream",
     "text": [
      "C:\\Users\\myhyu\\AppData\\Local\\Temp\\ipykernel_11084\\1729452186.py:25: FutureWarning: The behavior of DataFrame concatenation with empty or all-NA entries is deprecated. In a future version, this will no longer exclude empty or all-NA columns when determining the result dtypes. To retain the old behavior, exclude the relevant entries before the concat operation.\n",
      "  finance_table = pd.concat([finance_table, temp_arranged])\n"
     ]
    },
    {
     "name": "stdout",
     "output_type": "stream",
     "text": [
      "2141 / 2696\n",
      "2142 / 2696\n",
      "2143 / 2696\n",
      "2144 / 2696\n",
      "2145 / 2696\n",
      "2146 / 2696\n",
      "2147 / 2696\n",
      "2148 / 2696\n",
      "2149 / 2696\n",
      "2150 / 2696\n",
      "2151 / 2696\n",
      "2152 / 2696\n",
      "2153 / 2696\n",
      "2154 / 2696\n",
      "2155 / 2696\n",
      "2156 / 2696\n",
      "2157 / 2696\n",
      "2158 / 2696\n",
      "2159 / 2696\n"
     ]
    },
    {
     "name": "stderr",
     "output_type": "stream",
     "text": [
      "C:\\Users\\myhyu\\AppData\\Local\\Temp\\ipykernel_11084\\1729452186.py:25: FutureWarning: The behavior of DataFrame concatenation with empty or all-NA entries is deprecated. In a future version, this will no longer exclude empty or all-NA columns when determining the result dtypes. To retain the old behavior, exclude the relevant entries before the concat operation.\n",
      "  finance_table = pd.concat([finance_table, temp_arranged])\n"
     ]
    },
    {
     "name": "stdout",
     "output_type": "stream",
     "text": [
      "2160 / 2696\n",
      "2161 / 2696\n",
      "2162 / 2696\n",
      "2163 / 2696\n",
      "2164 / 2696\n",
      "2165 / 2696\n",
      "2166 / 2696\n",
      "2167 / 2696\n",
      "2168 / 2696\n",
      "2169 / 2696\n",
      "2170 / 2696\n",
      "2171 / 2696\n",
      "2172 / 2696\n",
      "2173 / 2696\n",
      "2174 / 2696\n",
      "2175 / 2696\n",
      "2176 / 2696\n",
      "2177 / 2696\n",
      "2178 / 2696\n",
      "2179 / 2696\n",
      "2180 / 2696\n",
      "2181 / 2696\n",
      "2182 / 2696\n",
      "2183 / 2696\n",
      "2184 / 2696\n",
      "2185 / 2696\n",
      "2186 / 2696\n",
      "2187 / 2696\n",
      "2188 / 2696\n",
      "2189 / 2696\n",
      "2190 / 2696\n",
      "2191 / 2696\n",
      "2192 / 2696\n",
      "2193 / 2696\n",
      "2194 / 2696\n",
      "2195 / 2696\n",
      "2196 / 2696\n",
      "2197 / 2696\n",
      "2198 / 2696\n",
      "2199 / 2696\n",
      "2200 / 2696\n",
      "2201 / 2696\n",
      "2202 / 2696\n",
      "2203 / 2696\n",
      "2204 / 2696\n",
      "2205 / 2696\n",
      "2206 / 2696\n",
      "2207 / 2696\n",
      "2208 / 2696\n",
      "2209 / 2696\n",
      "2210 / 2696\n",
      "2211 / 2696\n",
      "2212 / 2696\n",
      "2213 / 2696\n",
      "2214 / 2696\n",
      "2215 / 2696\n",
      "2216 / 2696\n",
      "2217 / 2696\n",
      "2218 / 2696\n",
      "2219 / 2696\n",
      "2220 / 2696\n",
      "2221 / 2696\n",
      "2222 / 2696\n",
      "2223 / 2696\n",
      "2224 / 2696\n",
      "2225 / 2696\n",
      "2226 / 2696\n",
      "2227 / 2696\n",
      "2228 / 2696\n",
      "2229 / 2696\n",
      "2230 / 2696\n",
      "2231 / 2696\n",
      "2232 / 2696\n",
      "2233 / 2696\n",
      "2234 / 2696\n",
      "2235 / 2696\n",
      "2236 / 2696\n",
      "2237 / 2696\n",
      "2238 / 2696\n",
      "2239 / 2696\n",
      "2240 / 2696\n",
      "2241 / 2696\n",
      "2242 / 2696\n",
      "2243 / 2696\n",
      "2244 / 2696\n"
     ]
    },
    {
     "name": "stderr",
     "output_type": "stream",
     "text": [
      "C:\\Users\\myhyu\\AppData\\Local\\Temp\\ipykernel_11084\\1729452186.py:25: FutureWarning: The behavior of DataFrame concatenation with empty or all-NA entries is deprecated. In a future version, this will no longer exclude empty or all-NA columns when determining the result dtypes. To retain the old behavior, exclude the relevant entries before the concat operation.\n",
      "  finance_table = pd.concat([finance_table, temp_arranged])\n"
     ]
    },
    {
     "name": "stdout",
     "output_type": "stream",
     "text": [
      "2245 / 2696\n",
      "2246 / 2696\n",
      "2247 / 2696\n",
      "2248 / 2696\n",
      "2249 / 2696\n",
      "2250 / 2696\n",
      "2251 / 2696\n",
      "2252 / 2696\n",
      "2253 / 2696\n",
      "2254 / 2696\n",
      "2255 / 2696\n",
      "2256 / 2696\n",
      "2257 / 2696\n",
      "2258 / 2696\n",
      "2259 / 2696\n",
      "2260 / 2696\n",
      "2261 / 2696\n",
      "2262 / 2696\n",
      "2263 / 2696\n",
      "2264 / 2696\n",
      "2265 / 2696\n",
      "2266 / 2696\n",
      "2267 / 2696\n",
      "2268 / 2696\n",
      "2269 / 2696\n",
      "2270 / 2696\n",
      "2271 / 2696\n",
      "2272 / 2696\n",
      "2273 / 2696\n",
      "2274 / 2696\n",
      "2275 / 2696\n",
      "2276 / 2696\n",
      "2277 / 2696\n",
      "2278 / 2696\n",
      "2279 / 2696\n",
      "2280 / 2696\n",
      "2281 / 2696\n",
      "2282 / 2696\n",
      "2283 / 2696\n",
      "2284 / 2696\n",
      "2285 / 2696\n",
      "2286 / 2696\n",
      "2287 / 2696\n",
      "2288 / 2696\n",
      "2289 / 2696\n",
      "2290 / 2696\n",
      "2291 / 2696\n",
      "2292 / 2696\n",
      "2293 / 2696\n",
      "2294 / 2696\n",
      "2295 / 2696\n",
      "2296 / 2696\n",
      "2297 / 2696\n",
      "2298 / 2696\n",
      "2299 / 2696\n",
      "2300 / 2696\n",
      "2301 / 2696\n",
      "2302 / 2696\n",
      "2303 / 2696\n",
      "2304 / 2696\n",
      "2305 / 2696\n"
     ]
    },
    {
     "name": "stderr",
     "output_type": "stream",
     "text": [
      "C:\\Users\\myhyu\\AppData\\Local\\Temp\\ipykernel_11084\\1729452186.py:25: FutureWarning: The behavior of DataFrame concatenation with empty or all-NA entries is deprecated. In a future version, this will no longer exclude empty or all-NA columns when determining the result dtypes. To retain the old behavior, exclude the relevant entries before the concat operation.\n",
      "  finance_table = pd.concat([finance_table, temp_arranged])\n"
     ]
    },
    {
     "name": "stdout",
     "output_type": "stream",
     "text": [
      "2306 / 2696\n",
      "2307 / 2696\n",
      "2308 / 2696\n",
      "2309 / 2696\n",
      "2310 / 2696\n",
      "2311 / 2696\n"
     ]
    },
    {
     "name": "stderr",
     "output_type": "stream",
     "text": [
      "C:\\Users\\myhyu\\AppData\\Local\\Temp\\ipykernel_11084\\1729452186.py:25: FutureWarning: The behavior of DataFrame concatenation with empty or all-NA entries is deprecated. In a future version, this will no longer exclude empty or all-NA columns when determining the result dtypes. To retain the old behavior, exclude the relevant entries before the concat operation.\n",
      "  finance_table = pd.concat([finance_table, temp_arranged])\n"
     ]
    },
    {
     "name": "stdout",
     "output_type": "stream",
     "text": [
      "2312 / 2696\n",
      "2313 / 2696\n",
      "2314 / 2696\n",
      "2315 / 2696\n",
      "2316 / 2696\n",
      "2317 / 2696\n"
     ]
    },
    {
     "name": "stderr",
     "output_type": "stream",
     "text": [
      "C:\\Users\\myhyu\\AppData\\Local\\Temp\\ipykernel_11084\\1729452186.py:25: FutureWarning: The behavior of DataFrame concatenation with empty or all-NA entries is deprecated. In a future version, this will no longer exclude empty or all-NA columns when determining the result dtypes. To retain the old behavior, exclude the relevant entries before the concat operation.\n",
      "  finance_table = pd.concat([finance_table, temp_arranged])\n"
     ]
    },
    {
     "name": "stdout",
     "output_type": "stream",
     "text": [
      "2318 / 2696\n"
     ]
    },
    {
     "name": "stderr",
     "output_type": "stream",
     "text": [
      "C:\\Users\\myhyu\\AppData\\Local\\Temp\\ipykernel_11084\\1729452186.py:25: FutureWarning: The behavior of DataFrame concatenation with empty or all-NA entries is deprecated. In a future version, this will no longer exclude empty or all-NA columns when determining the result dtypes. To retain the old behavior, exclude the relevant entries before the concat operation.\n",
      "  finance_table = pd.concat([finance_table, temp_arranged])\n"
     ]
    },
    {
     "name": "stdout",
     "output_type": "stream",
     "text": [
      "2319 / 2696\n",
      "2320 / 2696\n",
      "2321 / 2696\n",
      "2322 / 2696\n",
      "2323 / 2696\n",
      "2324 / 2696\n",
      "2325 / 2696\n",
      "2326 / 2696\n",
      "2327 / 2696\n",
      "2328 / 2696\n",
      "2329 / 2696\n",
      "2330 / 2696\n",
      "2331 / 2696\n",
      "2332 / 2696\n",
      "2333 / 2696\n",
      "2334 / 2696\n",
      "2335 / 2696\n",
      "2336 / 2696\n",
      "2337 / 2696\n",
      "2338 / 2696\n",
      "2339 / 2696\n",
      "2340 / 2696\n",
      "2341 / 2696\n",
      "2342 / 2696\n",
      "2343 / 2696\n",
      "2344 / 2696\n",
      "2345 / 2696\n",
      "2346 / 2696\n",
      "2347 / 2696\n",
      "2348 / 2696\n",
      "2349 / 2696\n",
      "2350 / 2696\n",
      "2351 / 2696\n",
      "2352 / 2696\n",
      "2353 / 2696\n",
      "2354 / 2696\n"
     ]
    },
    {
     "name": "stderr",
     "output_type": "stream",
     "text": [
      "C:\\Users\\myhyu\\AppData\\Local\\Temp\\ipykernel_11084\\1729452186.py:25: FutureWarning: The behavior of DataFrame concatenation with empty or all-NA entries is deprecated. In a future version, this will no longer exclude empty or all-NA columns when determining the result dtypes. To retain the old behavior, exclude the relevant entries before the concat operation.\n",
      "  finance_table = pd.concat([finance_table, temp_arranged])\n"
     ]
    },
    {
     "name": "stdout",
     "output_type": "stream",
     "text": [
      "2355 / 2696\n",
      "2356 / 2696\n",
      "2357 / 2696\n",
      "2358 / 2696\n",
      "2359 / 2696\n",
      "2360 / 2696\n",
      "2361 / 2696\n",
      "2362 / 2696\n",
      "2363 / 2696\n",
      "2364 / 2696\n",
      "2365 / 2696\n",
      "2366 / 2696\n",
      "2367 / 2696\n",
      "2368 / 2696\n",
      "2369 / 2696\n",
      "2370 / 2696\n",
      "2371 / 2696\n",
      "2372 / 2696\n",
      "2373 / 2696\n",
      "2374 / 2696\n",
      "2375 / 2696\n",
      "2376 / 2696\n",
      "2377 / 2696\n",
      "2378 / 2696\n"
     ]
    },
    {
     "name": "stderr",
     "output_type": "stream",
     "text": [
      "C:\\Users\\myhyu\\AppData\\Local\\Temp\\ipykernel_11084\\1729452186.py:25: FutureWarning: The behavior of DataFrame concatenation with empty or all-NA entries is deprecated. In a future version, this will no longer exclude empty or all-NA columns when determining the result dtypes. To retain the old behavior, exclude the relevant entries before the concat operation.\n",
      "  finance_table = pd.concat([finance_table, temp_arranged])\n"
     ]
    },
    {
     "name": "stdout",
     "output_type": "stream",
     "text": [
      "2379 / 2696\n",
      "2380 / 2696\n",
      "2381 / 2696\n",
      "2382 / 2696\n",
      "2383 / 2696\n",
      "2384 / 2696\n",
      "2385 / 2696\n",
      "2386 / 2696\n",
      "2387 / 2696\n",
      "2388 / 2696\n",
      "2389 / 2696\n",
      "2390 / 2696\n",
      "2391 / 2696\n",
      "2392 / 2696\n",
      "2393 / 2696\n",
      "2394 / 2696\n",
      "2395 / 2696\n",
      "2396 / 2696\n",
      "2397 / 2696\n",
      "2398 / 2696\n"
     ]
    },
    {
     "name": "stderr",
     "output_type": "stream",
     "text": [
      "C:\\Users\\myhyu\\AppData\\Local\\Temp\\ipykernel_11084\\1729452186.py:25: FutureWarning: The behavior of DataFrame concatenation with empty or all-NA entries is deprecated. In a future version, this will no longer exclude empty or all-NA columns when determining the result dtypes. To retain the old behavior, exclude the relevant entries before the concat operation.\n",
      "  finance_table = pd.concat([finance_table, temp_arranged])\n"
     ]
    },
    {
     "name": "stdout",
     "output_type": "stream",
     "text": [
      "2399 / 2696\n",
      "2400 / 2696\n",
      "2401 / 2696\n",
      "2402 / 2696\n",
      "2403 / 2696\n",
      "2404 / 2696\n",
      "2405 / 2696\n"
     ]
    },
    {
     "name": "stderr",
     "output_type": "stream",
     "text": [
      "C:\\Users\\myhyu\\AppData\\Local\\Temp\\ipykernel_11084\\1729452186.py:25: FutureWarning: The behavior of DataFrame concatenation with empty or all-NA entries is deprecated. In a future version, this will no longer exclude empty or all-NA columns when determining the result dtypes. To retain the old behavior, exclude the relevant entries before the concat operation.\n",
      "  finance_table = pd.concat([finance_table, temp_arranged])\n"
     ]
    },
    {
     "name": "stdout",
     "output_type": "stream",
     "text": [
      "2406 / 2696\n",
      "2407 / 2696\n",
      "2408 / 2696\n",
      "2409 / 2696\n",
      "2410 / 2696\n"
     ]
    },
    {
     "name": "stderr",
     "output_type": "stream",
     "text": [
      "C:\\Users\\myhyu\\AppData\\Local\\Temp\\ipykernel_11084\\1729452186.py:25: FutureWarning: The behavior of DataFrame concatenation with empty or all-NA entries is deprecated. In a future version, this will no longer exclude empty or all-NA columns when determining the result dtypes. To retain the old behavior, exclude the relevant entries before the concat operation.\n",
      "  finance_table = pd.concat([finance_table, temp_arranged])\n"
     ]
    },
    {
     "name": "stdout",
     "output_type": "stream",
     "text": [
      "2411 / 2696\n"
     ]
    },
    {
     "name": "stderr",
     "output_type": "stream",
     "text": [
      "C:\\Users\\myhyu\\AppData\\Local\\Temp\\ipykernel_11084\\1729452186.py:25: FutureWarning: The behavior of DataFrame concatenation with empty or all-NA entries is deprecated. In a future version, this will no longer exclude empty or all-NA columns when determining the result dtypes. To retain the old behavior, exclude the relevant entries before the concat operation.\n",
      "  finance_table = pd.concat([finance_table, temp_arranged])\n"
     ]
    },
    {
     "name": "stdout",
     "output_type": "stream",
     "text": [
      "2412 / 2696\n"
     ]
    },
    {
     "name": "stderr",
     "output_type": "stream",
     "text": [
      "C:\\Users\\myhyu\\AppData\\Local\\Temp\\ipykernel_11084\\1729452186.py:25: FutureWarning: The behavior of DataFrame concatenation with empty or all-NA entries is deprecated. In a future version, this will no longer exclude empty or all-NA columns when determining the result dtypes. To retain the old behavior, exclude the relevant entries before the concat operation.\n",
      "  finance_table = pd.concat([finance_table, temp_arranged])\n"
     ]
    },
    {
     "name": "stdout",
     "output_type": "stream",
     "text": [
      "2413 / 2696\n",
      "2414 / 2696\n",
      "2415 / 2696\n",
      "2416 / 2696\n",
      "2417 / 2696\n",
      "2418 / 2696\n",
      "2419 / 2696\n",
      "2420 / 2696\n",
      "2421 / 2696\n",
      "2422 / 2696\n",
      "2423 / 2696\n",
      "2424 / 2696\n",
      "2425 / 2696\n",
      "2426 / 2696\n",
      "2427 / 2696\n",
      "2428 / 2696\n",
      "2429 / 2696\n",
      "2430 / 2696\n",
      "2431 / 2696\n",
      "2432 / 2696\n",
      "2433 / 2696\n",
      "2434 / 2696\n",
      "2435 / 2696\n",
      "2436 / 2696\n",
      "2437 / 2696\n",
      "2438 / 2696\n",
      "2439 / 2696\n",
      "2440 / 2696\n",
      "2441 / 2696\n",
      "2442 / 2696\n",
      "2443 / 2696\n",
      "2444 / 2696\n",
      "2445 / 2696\n",
      "2446 / 2696\n",
      "2447 / 2696\n",
      "2448 / 2696\n",
      "2449 / 2696\n",
      "2450 / 2696\n",
      "2451 / 2696\n",
      "2452 / 2696\n",
      "2453 / 2696\n",
      "2454 / 2696\n",
      "2455 / 2696\n",
      "2456 / 2696\n",
      "2457 / 2696\n",
      "2458 / 2696\n",
      "2459 / 2696\n",
      "2460 / 2696\n",
      "2461 / 2696\n",
      "2462 / 2696\n",
      "2463 / 2696\n",
      "2464 / 2696\n",
      "2465 / 2696\n",
      "2466 / 2696\n",
      "2467 / 2696\n",
      "2468 / 2696\n",
      "2469 / 2696\n",
      "2470 / 2696\n",
      "2471 / 2696\n",
      "2472 / 2696\n",
      "2473 / 2696\n",
      "2474 / 2696\n",
      "2475 / 2696\n",
      "2476 / 2696\n",
      "2477 / 2696\n",
      "2478 / 2696\n",
      "2479 / 2696\n",
      "2480 / 2696\n",
      "2481 / 2696\n",
      "2482 / 2696\n",
      "2483 / 2696\n",
      "2484 / 2696\n",
      "2485 / 2696\n",
      "2486 / 2696\n",
      "2487 / 2696\n",
      "2488 / 2696\n",
      "2489 / 2696\n",
      "2490 / 2696\n",
      "2491 / 2696\n",
      "2492 / 2696\n",
      "2493 / 2696\n",
      "2494 / 2696\n",
      "2495 / 2696\n",
      "2496 / 2696\n",
      "2497 / 2696\n",
      "2498 / 2696\n",
      "2499 / 2696\n",
      "2500 / 2696\n",
      "2501 / 2696\n",
      "2502 / 2696\n",
      "2503 / 2696\n",
      "2504 / 2696\n",
      "2505 / 2696\n",
      "2506 / 2696\n",
      "2507 / 2696\n"
     ]
    },
    {
     "name": "stderr",
     "output_type": "stream",
     "text": [
      "C:\\Users\\myhyu\\AppData\\Local\\Temp\\ipykernel_11084\\1729452186.py:25: FutureWarning: The behavior of DataFrame concatenation with empty or all-NA entries is deprecated. In a future version, this will no longer exclude empty or all-NA columns when determining the result dtypes. To retain the old behavior, exclude the relevant entries before the concat operation.\n",
      "  finance_table = pd.concat([finance_table, temp_arranged])\n"
     ]
    },
    {
     "name": "stdout",
     "output_type": "stream",
     "text": [
      "2508 / 2696\n",
      "2509 / 2696\n",
      "2510 / 2696\n",
      "2511 / 2696\n",
      "2512 / 2696\n",
      "2513 / 2696\n",
      "2514 / 2696\n",
      "2515 / 2696\n"
     ]
    },
    {
     "name": "stderr",
     "output_type": "stream",
     "text": [
      "C:\\Users\\myhyu\\AppData\\Local\\Temp\\ipykernel_11084\\1729452186.py:25: FutureWarning: The behavior of DataFrame concatenation with empty or all-NA entries is deprecated. In a future version, this will no longer exclude empty or all-NA columns when determining the result dtypes. To retain the old behavior, exclude the relevant entries before the concat operation.\n",
      "  finance_table = pd.concat([finance_table, temp_arranged])\n"
     ]
    },
    {
     "name": "stdout",
     "output_type": "stream",
     "text": [
      "2516 / 2696\n",
      "2517 / 2696\n",
      "2518 / 2696\n",
      "2519 / 2696\n",
      "2520 / 2696\n",
      "2521 / 2696\n",
      "2522 / 2696\n",
      "2523 / 2696\n",
      "2524 / 2696\n",
      "2525 / 2696\n",
      "2526 / 2696\n",
      "2527 / 2696\n",
      "2528 / 2696\n",
      "2529 / 2696\n",
      "2530 / 2696\n",
      "2531 / 2696\n",
      "2532 / 2696\n",
      "2533 / 2696\n",
      "2534 / 2696\n",
      "2535 / 2696\n",
      "2536 / 2696\n",
      "2537 / 2696\n"
     ]
    },
    {
     "name": "stderr",
     "output_type": "stream",
     "text": [
      "C:\\Users\\myhyu\\AppData\\Local\\Temp\\ipykernel_11084\\1729452186.py:25: FutureWarning: The behavior of DataFrame concatenation with empty or all-NA entries is deprecated. In a future version, this will no longer exclude empty or all-NA columns when determining the result dtypes. To retain the old behavior, exclude the relevant entries before the concat operation.\n",
      "  finance_table = pd.concat([finance_table, temp_arranged])\n"
     ]
    },
    {
     "name": "stdout",
     "output_type": "stream",
     "text": [
      "2538 / 2696\n",
      "2539 / 2696\n",
      "2540 / 2696\n",
      "2541 / 2696\n",
      "2542 / 2696\n",
      "2543 / 2696\n",
      "2544 / 2696\n",
      "2545 / 2696\n",
      "2546 / 2696\n",
      "2547 / 2696\n",
      "2548 / 2696\n",
      "2549 / 2696\n",
      "2550 / 2696\n",
      "2551 / 2696\n",
      "2552 / 2696\n",
      "2553 / 2696\n",
      "2554 / 2696\n",
      "2555 / 2696\n",
      "2556 / 2696\n",
      "2557 / 2696\n",
      "2558 / 2696\n",
      "2559 / 2696\n",
      "2560 / 2696\n",
      "2561 / 2696\n",
      "2562 / 2696\n",
      "2563 / 2696\n",
      "2564 / 2696\n"
     ]
    },
    {
     "name": "stderr",
     "output_type": "stream",
     "text": [
      "C:\\Users\\myhyu\\AppData\\Local\\Temp\\ipykernel_11084\\1729452186.py:25: FutureWarning: The behavior of DataFrame concatenation with empty or all-NA entries is deprecated. In a future version, this will no longer exclude empty or all-NA columns when determining the result dtypes. To retain the old behavior, exclude the relevant entries before the concat operation.\n",
      "  finance_table = pd.concat([finance_table, temp_arranged])\n"
     ]
    },
    {
     "name": "stdout",
     "output_type": "stream",
     "text": [
      "2565 / 2696\n"
     ]
    },
    {
     "name": "stderr",
     "output_type": "stream",
     "text": [
      "C:\\Users\\myhyu\\AppData\\Local\\Temp\\ipykernel_11084\\1729452186.py:25: FutureWarning: The behavior of DataFrame concatenation with empty or all-NA entries is deprecated. In a future version, this will no longer exclude empty or all-NA columns when determining the result dtypes. To retain the old behavior, exclude the relevant entries before the concat operation.\n",
      "  finance_table = pd.concat([finance_table, temp_arranged])\n"
     ]
    },
    {
     "name": "stdout",
     "output_type": "stream",
     "text": [
      "2566 / 2696\n"
     ]
    },
    {
     "name": "stderr",
     "output_type": "stream",
     "text": [
      "C:\\Users\\myhyu\\AppData\\Local\\Temp\\ipykernel_11084\\1729452186.py:25: FutureWarning: The behavior of DataFrame concatenation with empty or all-NA entries is deprecated. In a future version, this will no longer exclude empty or all-NA columns when determining the result dtypes. To retain the old behavior, exclude the relevant entries before the concat operation.\n",
      "  finance_table = pd.concat([finance_table, temp_arranged])\n"
     ]
    },
    {
     "name": "stdout",
     "output_type": "stream",
     "text": [
      "2567 / 2696\n"
     ]
    },
    {
     "name": "stderr",
     "output_type": "stream",
     "text": [
      "C:\\Users\\myhyu\\AppData\\Local\\Temp\\ipykernel_11084\\1729452186.py:25: FutureWarning: The behavior of DataFrame concatenation with empty or all-NA entries is deprecated. In a future version, this will no longer exclude empty or all-NA columns when determining the result dtypes. To retain the old behavior, exclude the relevant entries before the concat operation.\n",
      "  finance_table = pd.concat([finance_table, temp_arranged])\n"
     ]
    },
    {
     "name": "stdout",
     "output_type": "stream",
     "text": [
      "2568 / 2696\n"
     ]
    },
    {
     "name": "stderr",
     "output_type": "stream",
     "text": [
      "C:\\Users\\myhyu\\AppData\\Local\\Temp\\ipykernel_11084\\1729452186.py:25: FutureWarning: The behavior of DataFrame concatenation with empty or all-NA entries is deprecated. In a future version, this will no longer exclude empty or all-NA columns when determining the result dtypes. To retain the old behavior, exclude the relevant entries before the concat operation.\n",
      "  finance_table = pd.concat([finance_table, temp_arranged])\n"
     ]
    },
    {
     "name": "stdout",
     "output_type": "stream",
     "text": [
      "2569 / 2696\n"
     ]
    },
    {
     "name": "stderr",
     "output_type": "stream",
     "text": [
      "C:\\Users\\myhyu\\AppData\\Local\\Temp\\ipykernel_11084\\1729452186.py:25: FutureWarning: The behavior of DataFrame concatenation with empty or all-NA entries is deprecated. In a future version, this will no longer exclude empty or all-NA columns when determining the result dtypes. To retain the old behavior, exclude the relevant entries before the concat operation.\n",
      "  finance_table = pd.concat([finance_table, temp_arranged])\n"
     ]
    },
    {
     "name": "stdout",
     "output_type": "stream",
     "text": [
      "2570 / 2696\n"
     ]
    },
    {
     "name": "stderr",
     "output_type": "stream",
     "text": [
      "C:\\Users\\myhyu\\AppData\\Local\\Temp\\ipykernel_11084\\1729452186.py:25: FutureWarning: The behavior of DataFrame concatenation with empty or all-NA entries is deprecated. In a future version, this will no longer exclude empty or all-NA columns when determining the result dtypes. To retain the old behavior, exclude the relevant entries before the concat operation.\n",
      "  finance_table = pd.concat([finance_table, temp_arranged])\n"
     ]
    },
    {
     "name": "stdout",
     "output_type": "stream",
     "text": [
      "2571 / 2696\n"
     ]
    },
    {
     "name": "stderr",
     "output_type": "stream",
     "text": [
      "C:\\Users\\myhyu\\AppData\\Local\\Temp\\ipykernel_11084\\1729452186.py:25: FutureWarning: The behavior of DataFrame concatenation with empty or all-NA entries is deprecated. In a future version, this will no longer exclude empty or all-NA columns when determining the result dtypes. To retain the old behavior, exclude the relevant entries before the concat operation.\n",
      "  finance_table = pd.concat([finance_table, temp_arranged])\n"
     ]
    },
    {
     "name": "stdout",
     "output_type": "stream",
     "text": [
      "2572 / 2696\n"
     ]
    },
    {
     "name": "stderr",
     "output_type": "stream",
     "text": [
      "C:\\Users\\myhyu\\AppData\\Local\\Temp\\ipykernel_11084\\1729452186.py:25: FutureWarning: The behavior of DataFrame concatenation with empty or all-NA entries is deprecated. In a future version, this will no longer exclude empty or all-NA columns when determining the result dtypes. To retain the old behavior, exclude the relevant entries before the concat operation.\n",
      "  finance_table = pd.concat([finance_table, temp_arranged])\n"
     ]
    },
    {
     "name": "stdout",
     "output_type": "stream",
     "text": [
      "2573 / 2696\n"
     ]
    },
    {
     "name": "stderr",
     "output_type": "stream",
     "text": [
      "C:\\Users\\myhyu\\AppData\\Local\\Temp\\ipykernel_11084\\1729452186.py:25: FutureWarning: The behavior of DataFrame concatenation with empty or all-NA entries is deprecated. In a future version, this will no longer exclude empty or all-NA columns when determining the result dtypes. To retain the old behavior, exclude the relevant entries before the concat operation.\n",
      "  finance_table = pd.concat([finance_table, temp_arranged])\n"
     ]
    },
    {
     "name": "stdout",
     "output_type": "stream",
     "text": [
      "2574 / 2696\n"
     ]
    },
    {
     "name": "stderr",
     "output_type": "stream",
     "text": [
      "C:\\Users\\myhyu\\AppData\\Local\\Temp\\ipykernel_11084\\1729452186.py:25: FutureWarning: The behavior of DataFrame concatenation with empty or all-NA entries is deprecated. In a future version, this will no longer exclude empty or all-NA columns when determining the result dtypes. To retain the old behavior, exclude the relevant entries before the concat operation.\n",
      "  finance_table = pd.concat([finance_table, temp_arranged])\n"
     ]
    },
    {
     "name": "stdout",
     "output_type": "stream",
     "text": [
      "2575 / 2696\n"
     ]
    },
    {
     "name": "stderr",
     "output_type": "stream",
     "text": [
      "C:\\Users\\myhyu\\AppData\\Local\\Temp\\ipykernel_11084\\1729452186.py:25: FutureWarning: The behavior of DataFrame concatenation with empty or all-NA entries is deprecated. In a future version, this will no longer exclude empty or all-NA columns when determining the result dtypes. To retain the old behavior, exclude the relevant entries before the concat operation.\n",
      "  finance_table = pd.concat([finance_table, temp_arranged])\n"
     ]
    },
    {
     "name": "stdout",
     "output_type": "stream",
     "text": [
      "2576 / 2696\n",
      "2577 / 2696\n",
      "2578 / 2696\n",
      "2579 / 2696\n",
      "2580 / 2696\n",
      "2581 / 2696\n",
      "2582 / 2696\n",
      "2583 / 2696\n",
      "2584 / 2696\n",
      "2585 / 2696\n",
      "2586 / 2696\n",
      "2587 / 2696\n",
      "2588 / 2696\n"
     ]
    },
    {
     "name": "stderr",
     "output_type": "stream",
     "text": [
      "C:\\Users\\myhyu\\AppData\\Local\\Temp\\ipykernel_11084\\1729452186.py:25: FutureWarning: The behavior of DataFrame concatenation with empty or all-NA entries is deprecated. In a future version, this will no longer exclude empty or all-NA columns when determining the result dtypes. To retain the old behavior, exclude the relevant entries before the concat operation.\n",
      "  finance_table = pd.concat([finance_table, temp_arranged])\n"
     ]
    },
    {
     "name": "stdout",
     "output_type": "stream",
     "text": [
      "2589 / 2696\n"
     ]
    },
    {
     "name": "stderr",
     "output_type": "stream",
     "text": [
      "C:\\Users\\myhyu\\AppData\\Local\\Temp\\ipykernel_11084\\1729452186.py:25: FutureWarning: The behavior of DataFrame concatenation with empty or all-NA entries is deprecated. In a future version, this will no longer exclude empty or all-NA columns when determining the result dtypes. To retain the old behavior, exclude the relevant entries before the concat operation.\n",
      "  finance_table = pd.concat([finance_table, temp_arranged])\n"
     ]
    },
    {
     "name": "stdout",
     "output_type": "stream",
     "text": [
      "2590 / 2696\n",
      "2591 / 2696\n",
      "2592 / 2696\n",
      "2593 / 2696\n",
      "2594 / 2696\n",
      "2595 / 2696\n",
      "2596 / 2696\n",
      "2597 / 2696\n",
      "2598 / 2696\n",
      "2599 / 2696\n",
      "2600 / 2696\n",
      "2601 / 2696\n",
      "2602 / 2696\n",
      "2603 / 2696\n",
      "2604 / 2696\n",
      "2605 / 2696\n",
      "2606 / 2696\n",
      "2607 / 2696\n",
      "2608 / 2696\n",
      "2609 / 2696\n",
      "2610 / 2696\n"
     ]
    },
    {
     "name": "stderr",
     "output_type": "stream",
     "text": [
      "C:\\Users\\myhyu\\AppData\\Local\\Temp\\ipykernel_11084\\1729452186.py:25: FutureWarning: The behavior of DataFrame concatenation with empty or all-NA entries is deprecated. In a future version, this will no longer exclude empty or all-NA columns when determining the result dtypes. To retain the old behavior, exclude the relevant entries before the concat operation.\n",
      "  finance_table = pd.concat([finance_table, temp_arranged])\n"
     ]
    },
    {
     "name": "stdout",
     "output_type": "stream",
     "text": [
      "2611 / 2696\n"
     ]
    },
    {
     "name": "stderr",
     "output_type": "stream",
     "text": [
      "C:\\Users\\myhyu\\AppData\\Local\\Temp\\ipykernel_11084\\1729452186.py:25: FutureWarning: The behavior of DataFrame concatenation with empty or all-NA entries is deprecated. In a future version, this will no longer exclude empty or all-NA columns when determining the result dtypes. To retain the old behavior, exclude the relevant entries before the concat operation.\n",
      "  finance_table = pd.concat([finance_table, temp_arranged])\n"
     ]
    },
    {
     "name": "stdout",
     "output_type": "stream",
     "text": [
      "2612 / 2696\n"
     ]
    },
    {
     "name": "stderr",
     "output_type": "stream",
     "text": [
      "C:\\Users\\myhyu\\AppData\\Local\\Temp\\ipykernel_11084\\1729452186.py:25: FutureWarning: The behavior of DataFrame concatenation with empty or all-NA entries is deprecated. In a future version, this will no longer exclude empty or all-NA columns when determining the result dtypes. To retain the old behavior, exclude the relevant entries before the concat operation.\n",
      "  finance_table = pd.concat([finance_table, temp_arranged])\n"
     ]
    },
    {
     "name": "stdout",
     "output_type": "stream",
     "text": [
      "2613 / 2696\n"
     ]
    },
    {
     "name": "stderr",
     "output_type": "stream",
     "text": [
      "C:\\Users\\myhyu\\AppData\\Local\\Temp\\ipykernel_11084\\1729452186.py:25: FutureWarning: The behavior of DataFrame concatenation with empty or all-NA entries is deprecated. In a future version, this will no longer exclude empty or all-NA columns when determining the result dtypes. To retain the old behavior, exclude the relevant entries before the concat operation.\n",
      "  finance_table = pd.concat([finance_table, temp_arranged])\n"
     ]
    },
    {
     "name": "stdout",
     "output_type": "stream",
     "text": [
      "2614 / 2696\n"
     ]
    },
    {
     "name": "stderr",
     "output_type": "stream",
     "text": [
      "C:\\Users\\myhyu\\AppData\\Local\\Temp\\ipykernel_11084\\1729452186.py:25: FutureWarning: The behavior of DataFrame concatenation with empty or all-NA entries is deprecated. In a future version, this will no longer exclude empty or all-NA columns when determining the result dtypes. To retain the old behavior, exclude the relevant entries before the concat operation.\n",
      "  finance_table = pd.concat([finance_table, temp_arranged])\n"
     ]
    },
    {
     "name": "stdout",
     "output_type": "stream",
     "text": [
      "2615 / 2696\n"
     ]
    },
    {
     "name": "stderr",
     "output_type": "stream",
     "text": [
      "C:\\Users\\myhyu\\AppData\\Local\\Temp\\ipykernel_11084\\1729452186.py:25: FutureWarning: The behavior of DataFrame concatenation with empty or all-NA entries is deprecated. In a future version, this will no longer exclude empty or all-NA columns when determining the result dtypes. To retain the old behavior, exclude the relevant entries before the concat operation.\n",
      "  finance_table = pd.concat([finance_table, temp_arranged])\n"
     ]
    },
    {
     "name": "stdout",
     "output_type": "stream",
     "text": [
      "2616 / 2696\n",
      "2617 / 2696\n",
      "2618 / 2696\n",
      "2619 / 2696\n",
      "2620 / 2696\n",
      "2621 / 2696\n",
      "2622 / 2696\n",
      "2623 / 2696\n",
      "2624 / 2696\n",
      "2625 / 2696\n",
      "2626 / 2696\n"
     ]
    },
    {
     "name": "stderr",
     "output_type": "stream",
     "text": [
      "C:\\Users\\myhyu\\AppData\\Local\\Temp\\ipykernel_11084\\1729452186.py:25: FutureWarning: The behavior of DataFrame concatenation with empty or all-NA entries is deprecated. In a future version, this will no longer exclude empty or all-NA columns when determining the result dtypes. To retain the old behavior, exclude the relevant entries before the concat operation.\n",
      "  finance_table = pd.concat([finance_table, temp_arranged])\n"
     ]
    },
    {
     "name": "stdout",
     "output_type": "stream",
     "text": [
      "2627 / 2696\n",
      "2628 / 2696\n",
      "2629 / 2696\n",
      "2630 / 2696\n",
      "2631 / 2696\n",
      "2632 / 2696\n",
      "2633 / 2696\n",
      "2634 / 2696\n",
      "2635 / 2696\n",
      "2636 / 2696\n",
      "2637 / 2696\n",
      "2638 / 2696\n",
      "2639 / 2696\n",
      "2640 / 2696\n",
      "2641 / 2696\n",
      "2642 / 2696\n",
      "2643 / 2696\n",
      "2644 / 2696\n",
      "2645 / 2696\n",
      "2646 / 2696\n"
     ]
    },
    {
     "name": "stderr",
     "output_type": "stream",
     "text": [
      "C:\\Users\\myhyu\\AppData\\Local\\Temp\\ipykernel_11084\\1729452186.py:25: FutureWarning: The behavior of DataFrame concatenation with empty or all-NA entries is deprecated. In a future version, this will no longer exclude empty or all-NA columns when determining the result dtypes. To retain the old behavior, exclude the relevant entries before the concat operation.\n",
      "  finance_table = pd.concat([finance_table, temp_arranged])\n"
     ]
    },
    {
     "name": "stdout",
     "output_type": "stream",
     "text": [
      "2647 / 2696\n"
     ]
    },
    {
     "name": "stderr",
     "output_type": "stream",
     "text": [
      "C:\\Users\\myhyu\\AppData\\Local\\Temp\\ipykernel_11084\\1729452186.py:25: FutureWarning: The behavior of DataFrame concatenation with empty or all-NA entries is deprecated. In a future version, this will no longer exclude empty or all-NA columns when determining the result dtypes. To retain the old behavior, exclude the relevant entries before the concat operation.\n",
      "  finance_table = pd.concat([finance_table, temp_arranged])\n"
     ]
    },
    {
     "name": "stdout",
     "output_type": "stream",
     "text": [
      "2648 / 2696\n",
      "2649 / 2696\n"
     ]
    },
    {
     "name": "stderr",
     "output_type": "stream",
     "text": [
      "C:\\Users\\myhyu\\AppData\\Local\\Temp\\ipykernel_11084\\1729452186.py:25: FutureWarning: The behavior of DataFrame concatenation with empty or all-NA entries is deprecated. In a future version, this will no longer exclude empty or all-NA columns when determining the result dtypes. To retain the old behavior, exclude the relevant entries before the concat operation.\n",
      "  finance_table = pd.concat([finance_table, temp_arranged])\n"
     ]
    },
    {
     "name": "stdout",
     "output_type": "stream",
     "text": [
      "2650 / 2696\n"
     ]
    },
    {
     "name": "stderr",
     "output_type": "stream",
     "text": [
      "C:\\Users\\myhyu\\AppData\\Local\\Temp\\ipykernel_11084\\1729452186.py:25: FutureWarning: The behavior of DataFrame concatenation with empty or all-NA entries is deprecated. In a future version, this will no longer exclude empty or all-NA columns when determining the result dtypes. To retain the old behavior, exclude the relevant entries before the concat operation.\n",
      "  finance_table = pd.concat([finance_table, temp_arranged])\n"
     ]
    },
    {
     "name": "stdout",
     "output_type": "stream",
     "text": [
      "2651 / 2696\n",
      "2652 / 2696\n",
      "2653 / 2696\n",
      "2654 / 2696\n",
      "2655 / 2696\n",
      "2656 / 2696\n",
      "2657 / 2696\n",
      "2658 / 2696\n",
      "2659 / 2696\n",
      "2660 / 2696\n",
      "2661 / 2696\n",
      "2662 / 2696\n",
      "2663 / 2696\n",
      "2664 / 2696\n",
      "2665 / 2696\n",
      "2666 / 2696\n",
      "2667 / 2696\n",
      "2668 / 2696\n",
      "2669 / 2696\n",
      "2670 / 2696\n",
      "2671 / 2696\n",
      "2672 / 2696\n",
      "2673 / 2696\n",
      "2674 / 2696\n",
      "2675 / 2696\n",
      "2676 / 2696\n",
      "2677 / 2696\n",
      "2678 / 2696\n",
      "2679 / 2696\n",
      "2680 / 2696\n",
      "2681 / 2696\n",
      "2682 / 2696\n",
      "2683 / 2696\n",
      "2684 / 2696\n",
      "2685 / 2696\n",
      "2686 / 2696\n",
      "2687 / 2696\n",
      "2688 / 2696\n",
      "2689 / 2696\n",
      "2690 / 2696\n",
      "2691 / 2696\n",
      "2692 / 2696\n",
      "2693 / 2696\n",
      "2694 / 2696\n",
      "2695 / 2696\n",
      "2696 / 2696\n"
     ]
    }
   ],
   "source": [
    "# 재무제표 크롤링\n",
    "for idx, firm_code in enumerate(code_data['종목코드']):\n",
    "    print(idx + 1, '/', len(code_data['종목코드']))\n",
    "    try:\n",
    "        # 종목별 재무제표 크롤링\n",
    "        try:\n",
    "            sub_finance_table = get_ev_ebitda(firm_code)\n",
    "        except requests.exceptions.Timeout:\n",
    "            time.sleep(60)\n",
    "            sub_finance_table = get_ev_ebitda(firm_code)\n",
    "\n",
    "        # 종목별 재무제표 정리\n",
    "        for num, col in enumerate(sub_finance_table.columns):\n",
    "            temp = pd.DataFrame({firm_code: sub_finance_table[col]}).T\n",
    "            temp.columns = [[col] * len(sub_finance_table), temp.columns]\n",
    "            if num == 0:\n",
    "                temp_arranged = temp\n",
    "            else:\n",
    "                temp_arranged = pd.merge(temp_arranged, temp, how='outer', left_index=True, right_index=True)\n",
    "\n",
    "        # 재무제표 통합        \n",
    "        if idx == 0:\n",
    "            finance_table = temp_arranged\n",
    "        else:\n",
    "            finance_table = pd.concat([finance_table, temp_arranged])\n",
    "    except (ValueError, KeyError):\n",
    "        continue\n"
   ]
  },
  {
   "cell_type": "code",
   "execution_count": 7,
   "id": "a5348b78",
   "metadata": {},
   "outputs": [
    {
     "name": "stdout",
     "output_type": "stream",
     "text": [
      "<class 'pandas.core.frame.DataFrame'>\n",
      "Index: 2696 entries, 095570 to 238490\n",
      "Data columns (total 4 columns):\n",
      " #   Column          Non-Null Count  Dtype  \n",
      "---  ------          --------------  -----  \n",
      " 0   (기업코드, 0)       2696 non-null   object \n",
      " 1   (EV, 0)         2400 non-null   object \n",
      " 2   (EBITDA, 0)     2401 non-null   object \n",
      " 3   (EV/EBITDA, 0)  2379 non-null   float64\n",
      "dtypes: float64(1), object(3)\n",
      "memory usage: 105.3+ KB\n"
     ]
    }
   ],
   "source": [
    "finance_table.info()\n",
    "# 결측치 300개"
   ]
  },
  {
   "cell_type": "code",
   "execution_count": 11,
   "id": "5a17bd64",
   "metadata": {},
   "outputs": [
    {
     "data": {
      "text/plain": [
       "MultiIndex([(     '기업코드', 0),\n",
       "            (       'EV', 0),\n",
       "            (   'EBITDA', 0),\n",
       "            ('EV/EBITDA', 0)],\n",
       "           )"
      ]
     },
     "execution_count": 11,
     "metadata": {},
     "output_type": "execute_result"
    }
   ],
   "source": [
    "finance_table.columns"
   ]
  },
  {
   "cell_type": "code",
   "execution_count": 16,
   "id": "5cefb93d",
   "metadata": {},
   "outputs": [
    {
     "data": {
      "text/html": [
       "<div>\n",
       "<style scoped>\n",
       "    .dataframe tbody tr th:only-of-type {\n",
       "        vertical-align: middle;\n",
       "    }\n",
       "\n",
       "    .dataframe tbody tr th {\n",
       "        vertical-align: top;\n",
       "    }\n",
       "\n",
       "    .dataframe thead th {\n",
       "        text-align: right;\n",
       "    }\n",
       "</style>\n",
       "<table border=\"1\" class=\"dataframe\">\n",
       "  <thead>\n",
       "    <tr style=\"text-align: right;\">\n",
       "      <th></th>\n",
       "      <th>기업코드</th>\n",
       "      <th>EV</th>\n",
       "      <th>EBITDA</th>\n",
       "      <th>EV/EBITDA</th>\n",
       "    </tr>\n",
       "  </thead>\n",
       "  <tbody>\n",
       "    <tr>\n",
       "      <th>095570</th>\n",
       "      <td>095570</td>\n",
       "      <td>11528</td>\n",
       "      <td>615</td>\n",
       "      <td>18.744715</td>\n",
       "    </tr>\n",
       "    <tr>\n",
       "      <th>006840</th>\n",
       "      <td>006840</td>\n",
       "      <td>27192</td>\n",
       "      <td>1606</td>\n",
       "      <td>16.931507</td>\n",
       "    </tr>\n",
       "    <tr>\n",
       "      <th>027410</th>\n",
       "      <td>027410</td>\n",
       "      <td>6049</td>\n",
       "      <td>185</td>\n",
       "      <td>32.697297</td>\n",
       "    </tr>\n",
       "    <tr>\n",
       "      <th>282330</th>\n",
       "      <td>282330</td>\n",
       "      <td>20343</td>\n",
       "      <td>1597</td>\n",
       "      <td>12.738259</td>\n",
       "    </tr>\n",
       "    <tr>\n",
       "      <th>138930</th>\n",
       "      <td>138930</td>\n",
       "      <td>&lt;NA&gt;</td>\n",
       "      <td>&lt;NA&gt;</td>\n",
       "      <td>NaN</td>\n",
       "    </tr>\n",
       "    <tr>\n",
       "      <th>...</th>\n",
       "      <td>...</td>\n",
       "      <td>...</td>\n",
       "      <td>...</td>\n",
       "      <td>...</td>\n",
       "    </tr>\n",
       "    <tr>\n",
       "      <th>024060</th>\n",
       "      <td>024060</td>\n",
       "      <td>1572</td>\n",
       "      <td>-2</td>\n",
       "      <td>-786.000000</td>\n",
       "    </tr>\n",
       "    <tr>\n",
       "      <th>010240</th>\n",
       "      <td>010240</td>\n",
       "      <td>690</td>\n",
       "      <td>40</td>\n",
       "      <td>17.250000</td>\n",
       "    </tr>\n",
       "    <tr>\n",
       "      <th>189980</th>\n",
       "      <td>189980</td>\n",
       "      <td>1725</td>\n",
       "      <td>37</td>\n",
       "      <td>46.621622</td>\n",
       "    </tr>\n",
       "    <tr>\n",
       "      <th>037440</th>\n",
       "      <td>037440</td>\n",
       "      <td>947</td>\n",
       "      <td>32</td>\n",
       "      <td>29.593750</td>\n",
       "    </tr>\n",
       "    <tr>\n",
       "      <th>238490</th>\n",
       "      <td>238490</td>\n",
       "      <td>710</td>\n",
       "      <td>31</td>\n",
       "      <td>22.903226</td>\n",
       "    </tr>\n",
       "  </tbody>\n",
       "</table>\n",
       "<p>2696 rows × 4 columns</p>\n",
       "</div>"
      ],
      "text/plain": [
       "          기업코드     EV EBITDA   EV/EBITDA\n",
       "095570  095570  11528    615   18.744715\n",
       "006840  006840  27192   1606   16.931507\n",
       "027410  027410   6049    185   32.697297\n",
       "282330  282330  20343   1597   12.738259\n",
       "138930  138930   <NA>   <NA>         NaN\n",
       "...        ...    ...    ...         ...\n",
       "024060  024060   1572     -2 -786.000000\n",
       "010240  010240    690     40   17.250000\n",
       "189980  189980   1725     37   46.621622\n",
       "037440  037440    947     32   29.593750\n",
       "238490  238490    710     31   22.903226\n",
       "\n",
       "[2696 rows x 4 columns]"
      ]
     },
     "execution_count": 16,
     "metadata": {},
     "output_type": "execute_result"
    }
   ],
   "source": [
    "finance_table.columns = ['기업코드','EV','EBITDA','EV/EBITDA']\n",
    "finance_table"
   ]
  },
  {
   "cell_type": "code",
   "execution_count": 18,
   "id": "41b696d3",
   "metadata": {},
   "outputs": [],
   "source": [
    "# 재무제표 저장\n",
    "finance_table.to_csv('ev_ebitda_table.csv', index=False, encoding='cp949')"
   ]
  }
 ],
 "metadata": {
  "kernelspec": {
   "display_name": "Python 3 (ipykernel)",
   "language": "python",
   "name": "python3"
  },
  "language_info": {
   "codemirror_mode": {
    "name": "ipython",
    "version": 3
   },
   "file_extension": ".py",
   "mimetype": "text/x-python",
   "name": "python",
   "nbconvert_exporter": "python",
   "pygments_lexer": "ipython3",
   "version": "3.10.13"
  }
 },
 "nbformat": 4,
 "nbformat_minor": 5
}
