{
 "cells": [
  {
   "cell_type": "markdown",
   "id": "0bba6046",
   "metadata": {},
   "source": [
    "# 뉴스기업명추출_ver1\n",
    "2024.07.17"
   ]
  },
  {
   "cell_type": "code",
   "execution_count": 1,
   "id": "d8bc1beb",
   "metadata": {},
   "outputs": [],
   "source": [
    "import os\n",
    "os.chdir('C:/Users/myhyu/OneDrive/Desktop/2024 미래에셋/NewsData/')"
   ]
  },
  {
   "cell_type": "code",
   "execution_count": 22,
   "id": "131153fd",
   "metadata": {},
   "outputs": [
    {
     "name": "stdout",
     "output_type": "stream",
     "text": [
      "0     id:b01651b1-ef05-41e2-ba71-f76b60b5a25f\\nevent...\n",
      "1     id:bd91cbc7-71a9-4cef-b77f-9551b2e2e61e\\nevent...\n",
      "2     id:69790c4c-ea70-400a-89c5-a13b91121840\\nevent...\n",
      "3     id:4a8d8101-59b2-439e-8301-ddb407144c74\\nevent...\n",
      "4     id:303ee507-0b4a-45f3-8020-2d72cb711c4d\\nevent...\n",
      "                            ...                        \n",
      "60    id:4470d539-6bd9-434c-969e-9e525029c52c\\nevent...\n",
      "61    id:da38d543-36d6-4f1f-954b-ef518bda4ebf\\nevent...\n",
      "62    id:1a853fd2-26f8-4120-b511-5cf1d8f9d6a8\\nevent...\n",
      "63    id:7b6bca0c-871b-4cfb-bb81-b17307243d2c\\nevent...\n",
      "64    id:fa23093e-bd80-40d7-8141-75673040aa19\\nevent...\n",
      "Name: keys, Length: 65, dtype: object\n"
     ]
    }
   ],
   "source": [
    "# -*- coding: utf-8 -*-\n",
    "\n",
    "import requests\n",
    "import pandas as pd\n",
    "\n",
    "class CompletionExecutor:\n",
    "    def __init__(self, host, api_key, api_key_primary_val, request_id):\n",
    "        self._host = host\n",
    "        self._api_key = api_key\n",
    "        self._api_key_primary_val = api_key_primary_val\n",
    "        self._request_id = request_id\n",
    "\n",
    "    def execute(self, completion_request):\n",
    "        headers = {\n",
    "            'X-NCP-CLOVASTUDIO-API-KEY': self._api_key,\n",
    "            'X-NCP-APIGW-API-KEY': self._api_key_primary_val,\n",
    "            'X-NCP-CLOVASTUDIO-REQUEST-ID': self._request_id,\n",
    "            'Content-Type': 'application/json; charset=utf-8',\n",
    "            'Accept': 'text/event-stream'\n",
    "        }\n",
    "\n",
    "        response = \"\"\n",
    "        with requests.post(self._host + '/testapp/v1/chat-completions/HCX-003',\n",
    "                           headers=headers, json=completion_request, stream=True) as r:\n",
    "            for line in r.iter_lines():\n",
    "                if line:\n",
    "                    decoded_line = line.decode(\"utf-8\")\n",
    "                    response += decoded_line + \"\\n\"\n",
    "        return response\n",
    "\n",
    "if __name__ == '__main__':\n",
    "    completion_executor = CompletionExecutor(\n",
    "        host='https://clovastudio.stream.ntruss.com',\n",
    "        api_key='NTA0MjU2MWZlZTcxNDJiY1XHHT1CG2IEYUDfBzRBda5ARQgcLFxGk4gffzMOUc02',\n",
    "        api_key_primary_val='U8NCSe3jtrv3qZxOJxVat54fOq3ztFr34Y5Dgd3q',\n",
    "        request_id='9a99879f-7a88-4e68-a4f3-0a7722363304'\n",
    "    )\n",
    "\n",
    "    # CSV 파일 읽기\n",
    "    df = pd.read_csv('뉴스요약_ver2.csv')\n",
    "\n",
    "    # 키워드를 저장할 리스트\n",
    "    keys = []\n",
    "\n",
    "    # Preset text for the API\n",
    "    preset_text = [{\"role\": \"system\", \"content\": \"-문서에서 핵심 키워드를 추출합니다.\\n-문서는 증권 뉴스입니다.\\n-키워드는 뉴스에서 말하고 있는 주식의 기업명입니다.\\n-키워드는 하나만 뽑으세요.\\n- 키워드는 한 어절입니다.\"}]\n",
    "\n",
    "    # 각 summary 열의 내용을 API로 처리하여 키워드를 추출\n",
    "    for content in df['summary']:\n",
    "        preset_text.append({\"role\": \"user\", \"content\": content})\n",
    "        request_data = {\n",
    "            'messages': preset_text,\n",
    "            'topP': 0.6,\n",
    "            'topK': 0,\n",
    "            'maxTokens': 300,\n",
    "            'temperature': 0.2,\n",
    "            'repeatPenalty': 2.0,\n",
    "            'stopBefore': [],\n",
    "            'includeAiFilters': True,\n",
    "            'seed': 0\n",
    "        }\n",
    "\n",
    "        response = completion_executor.execute(request_data)\n",
    "        keys.append(response.strip())\n",
    "\n",
    "        # Reset the preset_text for the next iteration\n",
    "        preset_text.pop()\n",
    "\n",
    "    # 결과를 새로운 열에 추가\n",
    "    df['keys'] = keys\n",
    "\n",
    "    print(df['keys'])\n"
   ]
  },
  {
   "cell_type": "code",
   "execution_count": 26,
   "id": "ca3a99b1",
   "metadata": {},
   "outputs": [
    {
     "name": "stdout",
     "output_type": "stream",
     "text": [
      "0          테슬라\n",
      "1          HMM\n",
      "2         주식시장\n",
      "3     매그니피센트 7\n",
      "4         None\n",
      "        ...   \n",
      "60        None\n",
      "61      LS일렉트릭\n",
      "62      현대차 그룹\n",
      "63        None\n",
      "64        None\n",
      "Name: keywords, Length: 65, dtype: object\n"
     ]
    }
   ],
   "source": [
    "import json\n",
    "import re\n",
    "\n",
    "def extract_keyword(response):\n",
    "    # Find all JSON objects in the response using regex\n",
    "    json_objects = re.findall(r'{.*}', response)\n",
    "\n",
    "    # Extract the \"content\" field from the relevant JSON object\n",
    "    for obj in json_objects:\n",
    "        data = json.loads(obj)\n",
    "        if \"message\" in data and \"content\" in data[\"message\"]:\n",
    "            content = data[\"message\"][\"content\"]\n",
    "            if \"키워드 :\" in content:\n",
    "                # Extract the actual keyword\n",
    "                keyword = content.split(\"키워드 :\")[-1].strip()\n",
    "                return keyword\n",
    "    return None\n",
    "\n",
    "keywords = []\n",
    "for response in df['keys']:\n",
    "    keywords.append(extract_keyword(response))\n",
    "df['keywords'] = keywords\n",
    "print(df['keywords'])"
   ]
  },
  {
   "cell_type": "code",
   "execution_count": 27,
   "id": "f29eb6a1",
   "metadata": {},
   "outputs": [],
   "source": [
    "df.to_csv('뉴스기업명추출_ver1.csv', index=False)"
   ]
  },
  {
   "cell_type": "markdown",
   "id": "49dd871c",
   "metadata": {},
   "source": [
    "결측이 너무 많음..."
   ]
  }
 ],
 "metadata": {
  "kernelspec": {
   "display_name": "Python 3 (ipykernel)",
   "language": "python",
   "name": "python3"
  },
  "language_info": {
   "codemirror_mode": {
    "name": "ipython",
    "version": 3
   },
   "file_extension": ".py",
   "mimetype": "text/x-python",
   "name": "python",
   "nbconvert_exporter": "python",
   "pygments_lexer": "ipython3",
   "version": "3.10.13"
  }
 },
 "nbformat": 4,
 "nbformat_minor": 5
}
