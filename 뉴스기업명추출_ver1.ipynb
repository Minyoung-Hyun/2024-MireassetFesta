{
 "cells": [
  {
   "cell_type": "markdown",
   "id": "0bba6046",
   "metadata": {},
   "source": [
    "# 뉴스기업명추출_ver1\n",
    "2024.07.17"
   ]
  },
  {
   "cell_type": "code",
   "execution_count": 1,
   "id": "d8bc1beb",
   "metadata": {},
   "outputs": [],
   "source": [
    "import os\n",
    "os.chdir('C:/Users/myhyu/OneDrive/Desktop/2024 미래에셋/NewsData/')"
   ]
  },
  {
   "cell_type": "code",
   "execution_count": 22,
   "id": "131153fd",
   "metadata": {},
   "outputs": [
    {
     "name": "stdout",
     "output_type": "stream",
     "text": [
      "0     id:b01651b1-ef05-41e2-ba71-f76b60b5a25f\\nevent...\n",
      "1     id:bd91cbc7-71a9-4cef-b77f-9551b2e2e61e\\nevent...\n",
      "2     id:69790c4c-ea70-400a-89c5-a13b91121840\\nevent...\n",
      "3     id:4a8d8101-59b2-439e-8301-ddb407144c74\\nevent...\n",
      "4     id:303ee507-0b4a-45f3-8020-2d72cb711c4d\\nevent...\n",
      "                            ...                        \n",
      "60    id:4470d539-6bd9-434c-969e-9e525029c52c\\nevent...\n",
      "61    id:da38d543-36d6-4f1f-954b-ef518bda4ebf\\nevent...\n",
      "62    id:1a853fd2-26f8-4120-b511-5cf1d8f9d6a8\\nevent...\n",
      "63    id:7b6bca0c-871b-4cfb-bb81-b17307243d2c\\nevent...\n",
      "64    id:fa23093e-bd80-40d7-8141-75673040aa19\\nevent...\n",
      "Name: keys, Length: 65, dtype: object\n"
     ]
    }
   ],
   "source": [
    "# -*- coding: utf-8 -*-\n",
    "\n",
    "import requests\n",
    "import pandas as pd\n",
    "\n",
    "class CompletionExecutor:\n",
    "    def __init__(self, host, api_key, api_key_primary_val, request_id):\n",
    "        self._host = host\n",
    "        self._api_key = api_key\n",
    "        self._api_key_primary_val = api_key_primary_val\n",
    "        self._request_id = request_id\n",
    "\n",
    "    def execute(self, completion_request):\n",
    "        headers = {\n",
    "            'X-NCP-CLOVASTUDIO-API-KEY': self._api_key,\n",
    "            'X-NCP-APIGW-API-KEY': self._api_key_primary_val,\n",
    "            'X-NCP-CLOVASTUDIO-REQUEST-ID': self._request_id,\n",
    "            'Content-Type': 'application/json; charset=utf-8',\n",
    "            'Accept': 'text/event-stream'\n",
    "        }\n",
    "\n",
    "        response = \"\"\n",
    "        with requests.post(self._host + '/testapp/v1/chat-completions/HCX-003',\n",
    "                           headers=headers, json=completion_request, stream=True) as r:\n",
    "            for line in r.iter_lines():\n",
    "                if line:\n",
    "                    decoded_line = line.decode(\"utf-8\")\n",
    "                    response += decoded_line + \"\\n\"\n",
    "        return response\n",
    "\n",
    "if __name__ == '__main__':\n",
    "    completion_executor = CompletionExecutor(\n",
    "        host='https://clovastudio.stream.ntruss.com',\n",
    "        api_key='NTA0MjU2MWZlZTcxNDJiY1XHHT1CG2IEYUDfBzRBda5ARQgcLFxGk4gffzMOUc02',\n",
    "        api_key_primary_val='U8NCSe3jtrv3qZxOJxVat54fOq3ztFr34Y5Dgd3q',\n",
    "        request_id='9a99879f-7a88-4e68-a4f3-0a7722363304'\n",
    "    )\n",
    "\n",
    "    # CSV 파일 읽기\n",
    "    df = pd.read_csv('뉴스요약_ver2.csv')\n",
    "\n",
    "    # 키워드를 저장할 리스트\n",
    "    keys = []\n",
    "\n",
    "    # Preset text for the API\n",
    "    preset_text = [{\"role\": \"system\", \"content\": \"-문서에서 핵심 키워드를 추출합니다.\\n-문서는 증권 뉴스입니다.\\n-키워드는 뉴스에서 말하고 있는 주식의 기업명입니다.\\n-키워드는 하나만 뽑으세요.\\n- 키워드는 한 어절입니다.\"}]\n",
    "\n",
    "    # 각 summary 열의 내용을 API로 처리하여 키워드를 추출\n",
    "    for content in df['summary']:\n",
    "        preset_text.append({\"role\": \"user\", \"content\": content})\n",
    "        request_data = {\n",
    "            'messages': preset_text,\n",
    "            'topP': 0.6,\n",
    "            'topK': 0,\n",
    "            'maxTokens': 300,\n",
    "            'temperature': 0.2,\n",
    "            'repeatPenalty': 2.0,\n",
    "            'stopBefore': [],\n",
    "            'includeAiFilters': True,\n",
    "            'seed': 0\n",
    "        }\n",
    "\n",
    "        response = completion_executor.execute(request_data)\n",
    "        keys.append(response.strip())\n",
    "\n",
    "        # Reset the preset_text for the next iteration\n",
    "        preset_text.pop()\n",
    "\n",
    "    # 결과를 새로운 열에 추가\n",
    "    df['keys'] = keys\n",
    "\n",
    "    print(df['keys'])\n"
   ]
  },
  {
   "cell_type": "code",
   "execution_count": 26,
   "id": "ca3a99b1",
   "metadata": {},
   "outputs": [
    {
     "name": "stdout",
     "output_type": "stream",
     "text": [
      "0          테슬라\n",
      "1          HMM\n",
      "2         주식시장\n",
      "3     매그니피센트 7\n",
      "4         None\n",
      "        ...   \n",
      "60        None\n",
      "61      LS일렉트릭\n",
      "62      현대차 그룹\n",
      "63        None\n",
      "64        None\n",
      "Name: keywords, Length: 65, dtype: object\n"
     ]
    }
   ],
   "source": [
    "import json\n",
    "import re\n",
    "\n",
    "def extract_keyword(response):\n",
    "    # Find all JSON objects in the response using regex\n",
    "    json_objects = re.findall(r'{.*}', response)\n",
    "\n",
    "    # Extract the \"content\" field from the relevant JSON object\n",
    "    for obj in json_objects:\n",
    "        data = json.loads(obj)\n",
    "        if \"message\" in data and \"content\" in data[\"message\"]:\n",
    "            content = data[\"message\"][\"content\"]\n",
    "            if \"키워드 :\" in content:\n",
    "                # Extract the actual keyword\n",
    "                keyword = content.split(\"키워드 :\")[-1].strip()\n",
    "                return keyword\n",
    "    return None\n",
    "\n",
    "keywords = []\n",
    "for response in df['keys']:\n",
    "    keywords.append(extract_keyword(response))\n",
    "df['keywords'] = keywords\n",
    "print(df['keywords'])"
   ]
  },
  {
   "cell_type": "code",
   "execution_count": 29,
   "id": "721dc287",
   "metadata": {},
   "outputs": [
    {
     "data": {
      "text/plain": [
       "29"
      ]
     },
     "execution_count": 29,
     "metadata": {},
     "output_type": "execute_result"
    }
   ],
   "source": [
    "sum(df['keywords'].isna())"
   ]
  },
  {
   "cell_type": "code",
   "execution_count": 31,
   "id": "3b648087",
   "metadata": {},
   "outputs": [
    {
     "data": {
      "text/html": [
       "<div>\n",
       "<style scoped>\n",
       "    .dataframe tbody tr th:only-of-type {\n",
       "        vertical-align: middle;\n",
       "    }\n",
       "\n",
       "    .dataframe tbody tr th {\n",
       "        vertical-align: top;\n",
       "    }\n",
       "\n",
       "    .dataframe thead th {\n",
       "        text-align: right;\n",
       "    }\n",
       "</style>\n",
       "<table border=\"1\" class=\"dataframe\">\n",
       "  <thead>\n",
       "    <tr style=\"text-align: right;\">\n",
       "      <th></th>\n",
       "      <th>news_title</th>\n",
       "      <th>news_url</th>\n",
       "      <th>news_contents</th>\n",
       "      <th>news_dates</th>\n",
       "      <th>summary</th>\n",
       "      <th>keys</th>\n",
       "      <th>keywords</th>\n",
       "    </tr>\n",
       "  </thead>\n",
       "  <tbody>\n",
       "    <tr>\n",
       "      <th>0</th>\n",
       "      <td>“밈 주식 경계”vs“더 오른다”…‘서학개미 원픽’ 테슬라, 엇갈린 주가 전망</td>\n",
       "      <td>https://n.news.naver.com/mnews/article/009/000...</td>\n",
       "      <td>[\\n테슬라, 11거래일간 랠리 멈추고 급락주가 전망 엇갈려…‘로보택시’ 관건\\n\\...</td>\n",
       "      <td>2024-07-13 22:19:07</td>\n",
       "      <td>테슬라 주가를 두고 엇갈린 전망이 나오고 있음. 테슬라 주가 강세의 배경으로는 월가...</td>\n",
       "      <td>id:b01651b1-ef05-41e2-ba71-f76b60b5a25f\\nevent...</td>\n",
       "      <td>테슬라</td>\n",
       "    </tr>\n",
       "    <tr>\n",
       "      <th>1</th>\n",
       "      <td>\"어라? 주가가 왜 이래\"…'홈슬라' 기대하던 개미들 '멘붕'</td>\n",
       "      <td>https://n.news.naver.com/mnews/article/015/000...</td>\n",
       "      <td>[\\n\"운임 급등에 '흠슬라' 재현되나 했더니\"…목표가 하향 웬일? 하나증권 \"지속...</td>\n",
       "      <td>2024-07-13 21:31:09</td>\n",
       "      <td>해상운임의 피크아웃(정점 통과) 우려 때문에 HMM 주가가 하락하고 있음. 해상 운...</td>\n",
       "      <td>id:bd91cbc7-71a9-4cef-b77f-9551b2e2e61e\\nevent...</td>\n",
       "      <td>HMM</td>\n",
       "    </tr>\n",
       "    <tr>\n",
       "      <th>2</th>\n",
       "      <td>하나만 알고 둘은 모른다더니…금투세의 비밀 [정경준의 주식어때]</td>\n",
       "      <td>https://n.news.naver.com/mnews/article/215/000...</td>\n",
       "      <td>[\\n\"내가 사면 떨어지고, 내가 팔면 오른다\". 당신만 모르는 주식투자의 불변의 ...</td>\n",
       "      <td>2024-07-13 21:01:00</td>\n",
       "      <td>우리 주식시장이 저평가 받고 있는 이유는 원천적으로 우리 주식시장으로는 돈이 들어올...</td>\n",
       "      <td>id:69790c4c-ea70-400a-89c5-a13b91121840\\nevent...</td>\n",
       "      <td>주식시장</td>\n",
       "    </tr>\n",
       "    <tr>\n",
       "      <th>3</th>\n",
       "      <td>\"전세계 돈 몰린다, 이 주식 담아라\"…전문가들 '깜짝 전망' [신민경의 테마록]</td>\n",
       "      <td>https://n.news.naver.com/mnews/article/015/000...</td>\n",
       "      <td>[\\n증권가, 흔들리는 M7 \"여전히 담아라\" 외치는 이유 최근 매그니피센트 7 조...</td>\n",
       "      <td>2024-07-13 20:15:13</td>\n",
       "      <td>증권가에서 미국 빅테크주에 대한 전망이 긍정적임. 국내 빅테크주에 대해선 비관론이 ...</td>\n",
       "      <td>id:4a8d8101-59b2-439e-8301-ddb407144c74\\nevent...</td>\n",
       "      <td>매그니피센트 7</td>\n",
       "    </tr>\n",
       "    <tr>\n",
       "      <th>4</th>\n",
       "      <td>'무료 환전 시대' 환테크로 돈 벌어볼까…환테크 넘어 환투기 조짐까지</td>\n",
       "      <td>https://n.news.naver.com/mnews/article/057/000...</td>\n",
       "      <td>[\\n\\t\\t\\t【 앵커멘트 】  최근 엔화가 850원대까지 떨어지는 슈퍼 엔저 현...</td>\n",
       "      <td>2024-07-13 20:08:08</td>\n",
       "      <td>엔화가 850원대까지 떨어지는 슈퍼 엔저 현상이 이어지며 환차익을 노리는 환테크 열...</td>\n",
       "      <td>id:303ee507-0b4a-45f3-8020-2d72cb711c4d\\nevent...</td>\n",
       "      <td>None</td>\n",
       "    </tr>\n",
       "  </tbody>\n",
       "</table>\n",
       "</div>"
      ],
      "text/plain": [
       "                                      news_title  \\\n",
       "0    “밈 주식 경계”vs“더 오른다”…‘서학개미 원픽’ 테슬라, 엇갈린 주가 전망   \n",
       "1             \"어라? 주가가 왜 이래\"…'홈슬라' 기대하던 개미들 '멘붕'   \n",
       "2            하나만 알고 둘은 모른다더니…금투세의 비밀 [정경준의 주식어때]   \n",
       "3  \"전세계 돈 몰린다, 이 주식 담아라\"…전문가들 '깜짝 전망' [신민경의 테마록]   \n",
       "4         '무료 환전 시대' 환테크로 돈 벌어볼까…환테크 넘어 환투기 조짐까지   \n",
       "\n",
       "                                            news_url  \\\n",
       "0  https://n.news.naver.com/mnews/article/009/000...   \n",
       "1  https://n.news.naver.com/mnews/article/015/000...   \n",
       "2  https://n.news.naver.com/mnews/article/215/000...   \n",
       "3  https://n.news.naver.com/mnews/article/015/000...   \n",
       "4  https://n.news.naver.com/mnews/article/057/000...   \n",
       "\n",
       "                                       news_contents           news_dates  \\\n",
       "0  [\\n테슬라, 11거래일간 랠리 멈추고 급락주가 전망 엇갈려…‘로보택시’ 관건\\n\\...  2024-07-13 22:19:07   \n",
       "1  [\\n\"운임 급등에 '흠슬라' 재현되나 했더니\"…목표가 하향 웬일? 하나증권 \"지속...  2024-07-13 21:31:09   \n",
       "2  [\\n\"내가 사면 떨어지고, 내가 팔면 오른다\". 당신만 모르는 주식투자의 불변의 ...  2024-07-13 21:01:00   \n",
       "3  [\\n증권가, 흔들리는 M7 \"여전히 담아라\" 외치는 이유 최근 매그니피센트 7 조...  2024-07-13 20:15:13   \n",
       "4  [\\n\\t\\t\\t【 앵커멘트 】  최근 엔화가 850원대까지 떨어지는 슈퍼 엔저 현...  2024-07-13 20:08:08   \n",
       "\n",
       "                                             summary  \\\n",
       "0  테슬라 주가를 두고 엇갈린 전망이 나오고 있음. 테슬라 주가 강세의 배경으로는 월가...   \n",
       "1  해상운임의 피크아웃(정점 통과) 우려 때문에 HMM 주가가 하락하고 있음. 해상 운...   \n",
       "2  우리 주식시장이 저평가 받고 있는 이유는 원천적으로 우리 주식시장으로는 돈이 들어올...   \n",
       "3  증권가에서 미국 빅테크주에 대한 전망이 긍정적임. 국내 빅테크주에 대해선 비관론이 ...   \n",
       "4  엔화가 850원대까지 떨어지는 슈퍼 엔저 현상이 이어지며 환차익을 노리는 환테크 열...   \n",
       "\n",
       "                                                keys  keywords  \n",
       "0  id:b01651b1-ef05-41e2-ba71-f76b60b5a25f\\nevent...       테슬라  \n",
       "1  id:bd91cbc7-71a9-4cef-b77f-9551b2e2e61e\\nevent...       HMM  \n",
       "2  id:69790c4c-ea70-400a-89c5-a13b91121840\\nevent...      주식시장  \n",
       "3  id:4a8d8101-59b2-439e-8301-ddb407144c74\\nevent...  매그니피센트 7  \n",
       "4  id:303ee507-0b4a-45f3-8020-2d72cb711c4d\\nevent...      None  "
      ]
     },
     "execution_count": 31,
     "metadata": {},
     "output_type": "execute_result"
    }
   ],
   "source": [
    "df.head()"
   ]
  },
  {
   "cell_type": "markdown",
   "id": "49dd871c",
   "metadata": {},
   "source": [
    "결측이 너무 많음..."
   ]
  },
  {
   "cell_type": "code",
   "execution_count": 27,
   "id": "f29eb6a1",
   "metadata": {},
   "outputs": [],
   "source": [
    "df.to_csv('뉴스기업명추출_ver1.csv', index=False)"
   ]
  }
 ],
 "metadata": {
  "kernelspec": {
   "display_name": "Python 3 (ipykernel)",
   "language": "python",
   "name": "python3"
  },
  "language_info": {
   "codemirror_mode": {
    "name": "ipython",
    "version": 3
   },
   "file_extension": ".py",
   "mimetype": "text/x-python",
   "name": "python",
   "nbconvert_exporter": "python",
   "pygments_lexer": "ipython3",
   "version": "3.10.13"
  }
 },
 "nbformat": 4,
 "nbformat_minor": 5
}
